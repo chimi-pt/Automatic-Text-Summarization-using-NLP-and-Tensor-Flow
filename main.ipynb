{
  "cells": [
    {
      "cell_type": "markdown",
      "metadata": {
        "id": "view-in-github",
        "colab_type": "text"
      },
      "source": [
        "<a href=\"https://colab.research.google.com/github/chimi-pt/Automatic-Text-Summarization-using-NLP-and-Tensor-Flow/blob/main/main.ipynb\" target=\"_parent\"><img src=\"https://colab.research.google.com/assets/colab-badge.svg\" alt=\"Open In Colab\"/></a>"
      ]
    },
    {
      "cell_type": "markdown",
      "metadata": {
        "id": "p8cmEntDCqFz"
      },
      "source": [
        "# **Loading and Segregating the Dataset**"
      ]
    },
    {
      "cell_type": "code",
      "source": [
        "# get the CNN stories dataset\n",
        "# untar the dataset\n",
        "!tar -xvf /content/drive/MyDrive/project/cnn_stories.tgz"
      ],
      "metadata": {
        "id": "w-yf47ay-PvY"
      },
      "execution_count": null,
      "outputs": []
    },
    {
      "cell_type": "code",
      "execution_count": null,
      "metadata": {
        "id": "1VYuG-jCwhd7"
      },
      "outputs": [],
      "source": [
        "# dependencies\n",
        "from tqdm.notebook import tqdm\n",
        "from os import listdir\n",
        "import string"
      ]
    },
    {
      "cell_type": "code",
      "execution_count": null,
      "metadata": {
        "id": "h8PA835kwjfb"
      },
      "outputs": [],
      "source": [
        "# load doc into memory\n",
        "def load_doc(filename):\n",
        "    # open the file as read only\n",
        "    file = open(filename, encoding='utf-8')\n",
        "    # read all text\n",
        "    text = file.read()\n",
        "    # close the file\n",
        "    file.close()\n",
        "    \n",
        "    return text\n",
        "\n",
        "# split a document into news story and highlights\n",
        "def split_story(doc):\n",
        "    \n",
        "    #find first highlight\n",
        "    index = doc.find('@highlight')\n",
        "    \n",
        "    # split into story and highlights\n",
        "    story, highlights = doc[:index], doc[index:].split('@highlight')\n",
        "    \n",
        "    # strip extra white space around each highlight\n",
        "    highlights = [h.strip() for h in highlights if len(h) > 0]\n",
        "    \n",
        "    return story, highlights\n",
        "\n",
        "# load all stories in a directory\n",
        "def load_stories(directory):\n",
        "    stories = list()\n",
        "    \n",
        "    for name in tqdm(listdir(directory)):\n",
        "        filename = directory + '/' + name\n",
        "        \n",
        "        # load document\n",
        "        doc = load_doc(filename)\n",
        "        \n",
        "        # split into story and highlights\n",
        "        story, highlights = split_story(doc)\n",
        "        \n",
        "        # store\n",
        "        stories.append({'story':story, 'highlights':highlights})\n",
        "    \n",
        "    return stories"
      ]
    },
    {
      "cell_type": "code",
      "execution_count": null,
      "metadata": {
        "colab": {
          "base_uri": "https://localhost:8080/",
          "height": 67,
          "referenced_widgets": [
            "54a602b22cad4bb4833fbfc01e7591ee",
            "212247f228974e26b101736434fd6ad8",
            "5317361ee75c4944af1a439a4e08e6ae",
            "1d41575cbc2e40289b7ee998a92a370a",
            "da43b1de666d48d389e74c76e93f10ea",
            "ab1700a6fae34a1ba1b229d927bcc9b6",
            "439ec7b60d954a82a46f327066b9866b",
            "a341ddfcc3804176afd3c0129cca9e2b",
            "995bd13447a9436584170067e870078a",
            "d11b0d9af40542dd8b9327eb29fd4ac6",
            "48b898e509944aa7827a1a122408e39b"
          ]
        },
        "id": "ZR1rBYLownQi",
        "outputId": "8b57414a-f562-4436-de95-1f86d6d1a19c"
      },
      "outputs": [
        {
          "output_type": "display_data",
          "data": {
            "text/plain": [
              "  0%|          | 0/92579 [00:00<?, ?it/s]"
            ],
            "application/vnd.jupyter.widget-view+json": {
              "version_major": 2,
              "version_minor": 0,
              "model_id": "54a602b22cad4bb4833fbfc01e7591ee"
            }
          },
          "metadata": {}
        },
        {
          "output_type": "stream",
          "name": "stdout",
          "text": [
            "Loaded Stories 92579\n"
          ]
        }
      ],
      "source": [
        "# segregate into news and summaries\n",
        "directory = 'cnn/stories/'\n",
        "stories = load_stories(directory)\n",
        "print('Loaded Stories %d' % len(stories))"
      ]
    },
    {
      "cell_type": "code",
      "execution_count": null,
      "metadata": {
        "id": "k2o-_c9lwpc5"
      },
      "outputs": [],
      "source": [
        "# serialize the master list\n",
        "from pickle import dump\n",
        "dump(stories, open('stories.pkl', 'wb'))"
      ]
    },
    {
      "cell_type": "markdown",
      "metadata": {
        "id": "LUpxvZ2yC2PL"
      },
      "source": [
        "## **Preprocessing the stories and the summaries**"
      ]
    },
    {
      "cell_type": "markdown",
      "metadata": {
        "id": "aq4PNVhQDCgr"
      },
      "source": [
        "## Converting all words to lowercase.\n",
        "Removing all punctuation\n",
        "No numerical tokens are present."
      ]
    },
    {
      "cell_type": "code",
      "execution_count": null,
      "metadata": {
        "id": "U-lOwzzJwrcE"
      },
      "outputs": [],
      "source": [
        "# dependencies\n",
        "from tqdm.notebook import tqdm\n",
        "from pickle import load\n",
        "import pandas as pd\n",
        "import numpy as np\n",
        "import string"
      ]
    },
    {
      "cell_type": "code",
      "execution_count": null,
      "metadata": {
        "colab": {
          "base_uri": "https://localhost:8080/"
        },
        "id": "aEGcoB_1wuTp",
        "outputId": "f624c347-4f6c-44f6-a7ee-ddfd8f5c205f"
      },
      "outputs": [
        {
          "name": "stdout",
          "output_type": "stream",
          "text": [
            "Loaded Stories 92579\n"
          ]
        }
      ],
      "source": [
        "# load stories and summaries' list\n",
        "stories = load(open('stories.pkl', 'rb'))\n",
        "print('Loaded Stories %d' % len(stories))"
      ]
    },
    {
      "cell_type": "code",
      "execution_count": null,
      "metadata": {
        "id": "98iZIwnDwwaq"
      },
      "outputs": [],
      "source": [
        "# clean a list of lines\n",
        "def clean_lines(lines):\n",
        "    cleaned = list()\n",
        "    # prepare a translation table to remove punctuation\n",
        "    table = str.maketrans('', '', string.punctuation)\n",
        "    for line in lines:\n",
        "        # strip source cnn office if it exists\n",
        "        index = line.find('(CNN) -- ')\n",
        "        if index > -1:\n",
        "            line = line[index+len('(CNN)'):]\n",
        "        # tokenize on white space\n",
        "        line = line.split()\n",
        "        # convert to lower case\n",
        "        line = [word.lower() for word in line]\n",
        "        # remove punctuation from each token\n",
        "        line = [w.translate(table) for w in line]\n",
        "        # remove tokens with numbers in them\n",
        "        line = [word for word in line if word.isalpha()]\n",
        "        # store as string\n",
        "        cleaned.append(' '.join(line))\n",
        "    # remove empty strings\n",
        "    cleaned = [c for c in cleaned if len(c) > 0]\n",
        "    return cleaned"
      ]
    },
    {
      "cell_type": "markdown",
      "metadata": {
        "id": "vtWKh8ANDKAi"
      },
      "source": [
        "**## Cleaning the stories and summaries**"
      ]
    },
    {
      "cell_type": "code",
      "execution_count": null,
      "metadata": {
        "colab": {
          "base_uri": "https://localhost:8080/",
          "height": 49,
          "referenced_widgets": [
            "15e40055df9f4547a1e195a7a56fff28",
            "abbedf9032624e2684a4e457d1e917b0",
            "1140f300819a4dda869f0f9ccc5122c7",
            "23840e99a7234417b7c3deacffd14f03",
            "5ae1b15cccef4527a3b12027c898a097",
            "5e825f9788534e64a2ddd5bf7bcd872b",
            "d0bb3dff290c4492a1926329ad004084",
            "47c1a8af6b7046a88ce4d1bf87d003d7",
            "c941c5af001b4b149bb2ca850c9c3814",
            "8054c8a0076045bc979f157f051da384",
            "47db9899363b4ca0ae2e86b36838ca7f"
          ]
        },
        "id": "mTM8XGbCwyLL",
        "outputId": "224f9af4-68c1-4aa4-f4b6-e7bd285ab183"
      },
      "outputs": [
        {
          "data": {
            "application/vnd.jupyter.widget-view+json": {
              "model_id": "15e40055df9f4547a1e195a7a56fff28",
              "version_major": 2,
              "version_minor": 0
            },
            "text/plain": [
              "  0%|          | 0/92579 [00:00<?, ?it/s]"
            ]
          },
          "metadata": {},
          "output_type": "display_data"
        }
      ],
      "source": [
        "# clean th stories and summaries\n",
        "for example in tqdm(stories):\n",
        "    example['story'] = clean_lines(example['story'].split('\\n'))\n",
        "    example['highlights'] = clean_lines(example['highlights'])"
      ]
    },
    {
      "cell_type": "markdown",
      "metadata": {
        "id": "j1r8VINNDQin"
      },
      "source": [
        "# **Extracting Summaries from the Stories with ROUGE Score**"
      ]
    },
    {
      "cell_type": "markdown",
      "metadata": {
        "id": "pJzh55FPDnjg"
      },
      "source": [
        "## Installing the rouge module  for calculating the rouge scores"
      ]
    },
    {
      "cell_type": "code",
      "execution_count": null,
      "metadata": {
        "id": "qwOabTX5w0L-"
      },
      "outputs": [],
      "source": [
        "# install the Rouge module for calculating the Rouge scores\n",
        "#!pip install -q Rouge"
      ]
    },
    {
      "cell_type": "code",
      "execution_count": null,
      "metadata": {
        "id": "Vv9zTZU-w2Az"
      },
      "outputs": [],
      "source": [
        "# import the Rouge module and instantiate it\n",
        "from rouge import Rouge \n",
        "rouge = Rouge()"
      ]
    },
    {
      "cell_type": "code",
      "execution_count": null,
      "metadata": {
        "id": "ubuPm3Wqw5tW"
      },
      "outputs": [],
      "source": [
        "# utility for calculating Rouge score between pairs of sentences\n",
        "def get_rouge_f1(references, sentence):\n",
        "    score_ls = []\n",
        "    for ans in references :\n",
        "        scores = rouge.get_scores(ans, sentence)\n",
        "        score_ls.append(scores[0]['rouge-1']['f'])\n",
        "    \n",
        "    return max(score_ls)"
      ]
    },
    {
      "cell_type": "code",
      "execution_count": null,
      "metadata": {
        "id": "3ZqAjoKgw7cs"
      },
      "outputs": [],
      "source": [
        "def get_list_ans_each_story(story_inp, references_inp):\n",
        "    \n",
        "    scr = []\n",
        "    hyp = []\n",
        "\n",
        "    # iterate through each sentence of a given story\n",
        "    for i in range(0, len(story_inp)):\n",
        "        # calculate Rouge score between the current sentence and the\n",
        "        # provided (abstractive summaries)\n",
        "        hypothesis = story_inp[i]\n",
        "        scores = get_rouge_f1(references_inp, hypothesis)\n",
        "\n",
        "        # track sentences iterated and store their scores\n",
        "        hyp.append(hypothesis)\n",
        "        scr.append(scores)\n",
        "        \n",
        "    # convert to NumPy array\n",
        "    hyp1 = np.array(hyp)\n",
        "    \n",
        "    # sort the scores to get the indices\n",
        "    scr1 = np.array(scr)\n",
        "    scr2 = np.sort(scr)[::-1]\n",
        "    ind  = np.argsort(scr)[::-1]\n",
        "    \n",
        "    # take top 5 \n",
        "    ind1 = ind[0:5]\n",
        "    list_ref = list(hyp1[ind1])\n",
        "    \n",
        "    return list_ref, scr2[0:5]"
      ]
    },
    {
      "cell_type": "code",
      "execution_count": null,
      "metadata": {
        "colab": {
          "base_uri": "https://localhost:8080/",
          "height": 49,
          "referenced_widgets": [
            "f05c541f143f4a6e843291026c29ae02",
            "90a89a73cb074cfaa458c511fea0b2b0",
            "f957660a34584d00bbdf73d70a4377f5",
            "65b199a392264bcb8848980407c9f5e7",
            "9a6b527cad2b4b80a2d8e3faa1a180c0",
            "d65984e1a4134f5d90aff163c4f6dad1",
            "c79243172862452694a1f2804bcca783",
            "b36114bb2a124a5f9447d77db576734c",
            "83a2d8822e3441b89d39a26822b22387",
            "fa0b04c00c004350b5e4f0e0f58d5d50",
            "73a681b807064be29d0b68183e69907c"
          ]
        },
        "id": "JoPg_a22w7_m",
        "outputId": "1de90dcd-7574-4fa7-d187-934e6883041d"
      },
      "outputs": [
        {
          "data": {
            "application/vnd.jupyter.widget-view+json": {
              "model_id": "f05c541f143f4a6e843291026c29ae02",
              "version_major": 2,
              "version_minor": 0
            },
            "text/plain": [
              "  0%|          | 0/92579 [00:00<?, ?it/s]"
            ]
          },
          "metadata": {},
          "output_type": "display_data"
        }
      ],
      "source": [
        "dict_id_summary = {}\n",
        "dict_id_score = {}\n",
        "\n",
        "# iterate through each story\n",
        "for s_id in tqdm(range(0, len(stories))):\n",
        "    \n",
        "    # story inputs (each sentence of a story)\n",
        "    story_inp = stories[s_id]['story']\n",
        "    \n",
        "    # reference inputs (abstractive summaries)\n",
        "    references_inp = stories[s_id]['highlights']\n",
        "    \n",
        "    # get the list of references and scores\n",
        "    list_ref, list_score = get_list_ans_each_story(story_inp, references_inp)\n",
        "    \n",
        "    # store the results in the dictionaries\n",
        "    dict_id_summary[s_id] = list_ref\n",
        "    dict_id_score[s_id] = list_score"
      ]
    },
    {
      "cell_type": "markdown",
      "metadata": {
        "id": "U1FX47z9D2se"
      },
      "source": [
        "## Storing the dictionaries created above as `.pkl` files"
      ]
    },
    {
      "cell_type": "code",
      "execution_count": null,
      "metadata": {
        "colab": {
          "base_uri": "https://localhost:8080/",
          "height": 49,
          "referenced_widgets": [
            "79b72a6729284a86a361df025a9748fd",
            "6916e2e545d144669daa869a57c2299c",
            "c767d36c605c46bd9714f31ee347c5c2",
            "0940c762ec0848b2a9442b0dd97ef769",
            "0111338988d14586aa168f97bb3c91c5",
            "6f997cfe91cc475cbe749c20db024b9c",
            "520c7eb1f5bc4cf78a8330b5276adc31",
            "226fac28b41149acabc216f6588b9e19",
            "695d830d2409443284017c23d7034dda",
            "dbf7d8c4b92a4507ab0ec96e8979c60c",
            "46196ce3d2fa463aabeab9fd2b0e3ef3"
          ]
        },
        "id": "fXgZIi1jw-DU",
        "outputId": "6b63ad5b-5134-4d43-84ef-bd4e60ad8af1"
      },
      "outputs": [
        {
          "data": {
            "application/vnd.jupyter.widget-view+json": {
              "model_id": "79b72a6729284a86a361df025a9748fd",
              "version_major": 2,
              "version_minor": 0
            },
            "text/plain": [
              "  0%|          | 0/92579 [00:00<?, ?it/s]"
            ]
          },
          "metadata": {},
          "output_type": "display_data"
        }
      ],
      "source": [
        "story_id = []\n",
        "label_sent = []\n",
        "sent_id = []\n",
        "list_sent = []\n",
        "\n",
        "# iterate through each story\n",
        "for i in tqdm(range(0, len(stories))):\n",
        "    \n",
        "    # list of references for the story\n",
        "    list_ref = dict_id_summary[i]\n",
        "    \n",
        "    # iterate through each sentence of the current story\n",
        "    for j, story in enumerate(stories[i]['story']) :\n",
        "        \n",
        "        # check if the story is in the list reference\n",
        "        ind =  int(story in list_ref)\n",
        "        \n",
        "        # append the indicator as the labels\n",
        "        label_sent.append(ind)\n",
        "        \n",
        "        # 1. append the sentences per story\n",
        "        list_sent.append(story)\n",
        "        \n",
        "        # 2. append the sent_ids\n",
        "        sent_id.append(j)\n",
        "        \n",
        "        # 3. append the story_id\n",
        "        story_id.append(i)"
      ]
    },
    {
      "cell_type": "code",
      "execution_count": null,
      "metadata": {
        "id": "7mZEyPdaxAPr"
      },
      "outputs": [],
      "source": [
        "# create the dataframe\n",
        "df_story_summary = pd.DataFrame()\n",
        "\n",
        "df_story_summary['story_id'] = story_id\n",
        "df_story_summary['sent_id'] = sent_id\n",
        "df_story_summary['sentence'] = list_sent\n",
        "df_story_summary['label_sent'] = label_sent"
      ]
    },
    {
      "cell_type": "markdown",
      "metadata": {
        "id": "xj8_wOLlD9KP"
      },
      "source": [
        "## Preview"
      ]
    },
    {
      "cell_type": "code",
      "execution_count": null,
      "metadata": {
        "colab": {
          "base_uri": "https://localhost:8080/",
          "height": 206
        },
        "id": "aVIUCeS-xCjg",
        "outputId": "613d7281-81ce-4ab1-d827-0b3b8c310668"
      },
      "outputs": [
        {
          "data": {
            "text/html": [
              "\n",
              "  <div id=\"df-5e4e006a-8c28-40a5-ac75-a0f318421a41\">\n",
              "    <div class=\"colab-df-container\">\n",
              "      <div>\n",
              "<style scoped>\n",
              "    .dataframe tbody tr th:only-of-type {\n",
              "        vertical-align: middle;\n",
              "    }\n",
              "\n",
              "    .dataframe tbody tr th {\n",
              "        vertical-align: top;\n",
              "    }\n",
              "\n",
              "    .dataframe thead th {\n",
              "        text-align: right;\n",
              "    }\n",
              "</style>\n",
              "<table border=\"1\" class=\"dataframe\">\n",
              "  <thead>\n",
              "    <tr style=\"text-align: right;\">\n",
              "      <th></th>\n",
              "      <th>story_id</th>\n",
              "      <th>sent_id</th>\n",
              "      <th>sentence</th>\n",
              "      <th>label_sent</th>\n",
              "    </tr>\n",
              "  </thead>\n",
              "  <tbody>\n",
              "    <tr>\n",
              "      <th>0</th>\n",
              "      <td>0</td>\n",
              "      <td>0</td>\n",
              "      <td>the us food and drug administration issued a w...</td>\n",
              "      <td>1</td>\n",
              "    </tr>\n",
              "    <tr>\n",
              "      <th>1</th>\n",
              "      <td>0</td>\n",
              "      <td>1</td>\n",
              "      <td>magic power coffee contains a chemical that ca...</td>\n",
              "      <td>1</td>\n",
              "    </tr>\n",
              "    <tr>\n",
              "      <th>2</th>\n",
              "      <td>0</td>\n",
              "      <td>2</td>\n",
              "      <td>customers who have magic power coffee should s...</td>\n",
              "      <td>1</td>\n",
              "    </tr>\n",
              "    <tr>\n",
              "      <th>3</th>\n",
              "      <td>0</td>\n",
              "      <td>3</td>\n",
              "      <td>because this product is an instant coffee labe...</td>\n",
              "      <td>1</td>\n",
              "    </tr>\n",
              "    <tr>\n",
              "      <th>4</th>\n",
              "      <td>0</td>\n",
              "      <td>4</td>\n",
              "      <td>the agency warned the public that sexual enhan...</td>\n",
              "      <td>0</td>\n",
              "    </tr>\n",
              "  </tbody>\n",
              "</table>\n",
              "</div>\n",
              "      <button class=\"colab-df-convert\" onclick=\"convertToInteractive('df-5e4e006a-8c28-40a5-ac75-a0f318421a41')\"\n",
              "              title=\"Convert this dataframe to an interactive table.\"\n",
              "              style=\"display:none;\">\n",
              "        \n",
              "  <svg xmlns=\"http://www.w3.org/2000/svg\" height=\"24px\"viewBox=\"0 0 24 24\"\n",
              "       width=\"24px\">\n",
              "    <path d=\"M0 0h24v24H0V0z\" fill=\"none\"/>\n",
              "    <path d=\"M18.56 5.44l.94 2.06.94-2.06 2.06-.94-2.06-.94-.94-2.06-.94 2.06-2.06.94zm-11 1L8.5 8.5l.94-2.06 2.06-.94-2.06-.94L8.5 2.5l-.94 2.06-2.06.94zm10 10l.94 2.06.94-2.06 2.06-.94-2.06-.94-.94-2.06-.94 2.06-2.06.94z\"/><path d=\"M17.41 7.96l-1.37-1.37c-.4-.4-.92-.59-1.43-.59-.52 0-1.04.2-1.43.59L10.3 9.45l-7.72 7.72c-.78.78-.78 2.05 0 2.83L4 21.41c.39.39.9.59 1.41.59.51 0 1.02-.2 1.41-.59l7.78-7.78 2.81-2.81c.8-.78.8-2.07 0-2.86zM5.41 20L4 18.59l7.72-7.72 1.47 1.35L5.41 20z\"/>\n",
              "  </svg>\n",
              "      </button>\n",
              "      \n",
              "  <style>\n",
              "    .colab-df-container {\n",
              "      display:flex;\n",
              "      flex-wrap:wrap;\n",
              "      gap: 12px;\n",
              "    }\n",
              "\n",
              "    .colab-df-convert {\n",
              "      background-color: #E8F0FE;\n",
              "      border: none;\n",
              "      border-radius: 50%;\n",
              "      cursor: pointer;\n",
              "      display: none;\n",
              "      fill: #1967D2;\n",
              "      height: 32px;\n",
              "      padding: 0 0 0 0;\n",
              "      width: 32px;\n",
              "    }\n",
              "\n",
              "    .colab-df-convert:hover {\n",
              "      background-color: #E2EBFA;\n",
              "      box-shadow: 0px 1px 2px rgba(60, 64, 67, 0.3), 0px 1px 3px 1px rgba(60, 64, 67, 0.15);\n",
              "      fill: #174EA6;\n",
              "    }\n",
              "\n",
              "    [theme=dark] .colab-df-convert {\n",
              "      background-color: #3B4455;\n",
              "      fill: #D2E3FC;\n",
              "    }\n",
              "\n",
              "    [theme=dark] .colab-df-convert:hover {\n",
              "      background-color: #434B5C;\n",
              "      box-shadow: 0px 1px 3px 1px rgba(0, 0, 0, 0.15);\n",
              "      filter: drop-shadow(0px 1px 2px rgba(0, 0, 0, 0.3));\n",
              "      fill: #FFFFFF;\n",
              "    }\n",
              "  </style>\n",
              "\n",
              "      <script>\n",
              "        const buttonEl =\n",
              "          document.querySelector('#df-5e4e006a-8c28-40a5-ac75-a0f318421a41 button.colab-df-convert');\n",
              "        buttonEl.style.display =\n",
              "          google.colab.kernel.accessAllowed ? 'block' : 'none';\n",
              "\n",
              "        async function convertToInteractive(key) {\n",
              "          const element = document.querySelector('#df-5e4e006a-8c28-40a5-ac75-a0f318421a41');\n",
              "          const dataTable =\n",
              "            await google.colab.kernel.invokeFunction('convertToInteractive',\n",
              "                                                     [key], {});\n",
              "          if (!dataTable) return;\n",
              "\n",
              "          const docLinkHtml = 'Like what you see? Visit the ' +\n",
              "            '<a target=\"_blank\" href=https://colab.research.google.com/notebooks/data_table.ipynb>data table notebook</a>'\n",
              "            + ' to learn more about interactive tables.';\n",
              "          element.innerHTML = '';\n",
              "          dataTable['output_type'] = 'display_data';\n",
              "          await google.colab.output.renderOutput(dataTable, element);\n",
              "          const docLink = document.createElement('div');\n",
              "          docLink.innerHTML = docLinkHtml;\n",
              "          element.appendChild(docLink);\n",
              "        }\n",
              "      </script>\n",
              "    </div>\n",
              "  </div>\n",
              "  "
            ],
            "text/plain": [
              "   story_id  sent_id                                           sentence  \\\n",
              "0         0        0  the us food and drug administration issued a w...   \n",
              "1         0        1  magic power coffee contains a chemical that ca...   \n",
              "2         0        2  customers who have magic power coffee should s...   \n",
              "3         0        3  because this product is an instant coffee labe...   \n",
              "4         0        4  the agency warned the public that sexual enhan...   \n",
              "\n",
              "   label_sent  \n",
              "0           1  \n",
              "1           1  \n",
              "2           1  \n",
              "3           1  \n",
              "4           0  "
            ]
          },
          "execution_count": 29,
          "metadata": {},
          "output_type": "execute_result"
        }
      ],
      "source": [
        "# preview the dataframe\n",
        "df_story_summary.head()"
      ]
    },
    {
      "cell_type": "code",
      "execution_count": null,
      "metadata": {
        "id": "gEkylBhixGCD"
      },
      "outputs": [],
      "source": [
        "# serialize\n",
        "df_story_summary.to_pickle('dataframe_extractive.pkl')"
      ]
    },
    {
      "cell_type": "markdown",
      "metadata": {
        "id": "6dmw6BCyEB3a"
      },
      "source": [
        "# **Dataset Subsampling and Splitting**"
      ]
    },
    {
      "cell_type": "markdown",
      "metadata": {
        "id": "Ni5owlEiEHxe"
      },
      "source": [
        "Creating a small sample from the original dataset and further split the sample into training, validation, and test sets.Important because it finalizes the input training dataset that will go into the model."
      ]
    },
    {
      "cell_type": "code",
      "execution_count": 1,
      "metadata": {
        "id": "Y2ql_mjXxGls"
      },
      "outputs": [],
      "source": [
        "# dependencies\n",
        "import pandas as pd\n",
        "import numpy as np\n",
        "import seaborn as sns\n",
        "import matplotlib.pyplot as plt\n",
        "import random \n",
        "\n",
        "from tqdm import tqdm\n",
        "from itertools import chain\n",
        "from sklearn.model_selection import train_test_split\n",
        "from tensorflow.keras.layers import *\n",
        "from tensorflow.keras.models import *\n",
        "from tensorflow.keras.preprocessing.sequence import pad_sequences\n",
        "import tensorflow as tf\n",
        "from tensorflow.keras import backend as K"
      ]
    },
    {
      "cell_type": "code",
      "execution_count": 2,
      "metadata": {
        "colab": {
          "base_uri": "https://localhost:8080/"
        },
        "id": "-sCgnoO0xJnK",
        "outputId": "2851d134-3e41-4f2f-be44-6a544180f97e"
      },
      "outputs": [
        {
          "output_type": "stream",
          "name": "stdout",
          "text": [
            "2.9.2\n"
          ]
        }
      ],
      "source": [
        "# TensorFlow version\n",
        "print(tf.__version__)"
      ]
    },
    {
      "cell_type": "markdown",
      "metadata": {
        "id": "KcVyWeQnEPz_"
      },
      "source": [
        "ensure that the seeds are set properly in order to provide reproducible results."
      ]
    },
    {
      "cell_type": "code",
      "execution_count": 3,
      "metadata": {
        "id": "z9gamxNQxLW2"
      },
      "outputs": [],
      "source": [
        "# fix the seed for better reproducibility\n",
        "SEED = 42\n",
        "tf.random.set_seed(SEED)\n",
        "np.random.seed(SEED)\n",
        "random.seed(SEED)"
      ]
    },
    {
      "cell_type": "code",
      "execution_count": 4,
      "metadata": {
        "id": "aZU2y87KxMFO"
      },
      "outputs": [],
      "source": [
        "# make tqdm work with pandas\n",
        "tqdm.pandas()"
      ]
    },
    {
      "cell_type": "markdown",
      "metadata": {
        "id": "QoesMg5LEZi5"
      },
      "source": [
        "# **Dataset splitting and visualization**"
      ]
    },
    {
      "cell_type": "code",
      "execution_count": 5,
      "metadata": {
        "colab": {
          "base_uri": "https://localhost:8080/",
          "height": 206
        },
        "id": "LkJWsqW1xMUY",
        "outputId": "8521621c-ef6a-4889-ded9-a75ccbd9ea51"
      },
      "outputs": [
        {
          "output_type": "execute_result",
          "data": {
            "text/plain": [
              "   story_id  sent_id                                           sentence  \\\n",
              "0         0        0  in business if one of our companies is failing...   \n",
              "1         0        1  its this kind of logic that underpins a new re...   \n",
              "2         0        2  im a member of the commission and i am pleased...   \n",
              "3         0        3  this latest report taking control pathways to ...   \n",
              "4         0        4  the reality is that the most effective way to ...   \n",
              "\n",
              "   label_sent  \n",
              "0           0  \n",
              "1           1  \n",
              "2           1  \n",
              "3           1  \n",
              "4           1  "
            ],
            "text/html": [
              "\n",
              "  <div id=\"df-70d725a8-eb34-4134-9f56-4431e019156d\">\n",
              "    <div class=\"colab-df-container\">\n",
              "      <div>\n",
              "<style scoped>\n",
              "    .dataframe tbody tr th:only-of-type {\n",
              "        vertical-align: middle;\n",
              "    }\n",
              "\n",
              "    .dataframe tbody tr th {\n",
              "        vertical-align: top;\n",
              "    }\n",
              "\n",
              "    .dataframe thead th {\n",
              "        text-align: right;\n",
              "    }\n",
              "</style>\n",
              "<table border=\"1\" class=\"dataframe\">\n",
              "  <thead>\n",
              "    <tr style=\"text-align: right;\">\n",
              "      <th></th>\n",
              "      <th>story_id</th>\n",
              "      <th>sent_id</th>\n",
              "      <th>sentence</th>\n",
              "      <th>label_sent</th>\n",
              "    </tr>\n",
              "  </thead>\n",
              "  <tbody>\n",
              "    <tr>\n",
              "      <th>0</th>\n",
              "      <td>0</td>\n",
              "      <td>0</td>\n",
              "      <td>in business if one of our companies is failing...</td>\n",
              "      <td>0</td>\n",
              "    </tr>\n",
              "    <tr>\n",
              "      <th>1</th>\n",
              "      <td>0</td>\n",
              "      <td>1</td>\n",
              "      <td>its this kind of logic that underpins a new re...</td>\n",
              "      <td>1</td>\n",
              "    </tr>\n",
              "    <tr>\n",
              "      <th>2</th>\n",
              "      <td>0</td>\n",
              "      <td>2</td>\n",
              "      <td>im a member of the commission and i am pleased...</td>\n",
              "      <td>1</td>\n",
              "    </tr>\n",
              "    <tr>\n",
              "      <th>3</th>\n",
              "      <td>0</td>\n",
              "      <td>3</td>\n",
              "      <td>this latest report taking control pathways to ...</td>\n",
              "      <td>1</td>\n",
              "    </tr>\n",
              "    <tr>\n",
              "      <th>4</th>\n",
              "      <td>0</td>\n",
              "      <td>4</td>\n",
              "      <td>the reality is that the most effective way to ...</td>\n",
              "      <td>1</td>\n",
              "    </tr>\n",
              "  </tbody>\n",
              "</table>\n",
              "</div>\n",
              "      <button class=\"colab-df-convert\" onclick=\"convertToInteractive('df-70d725a8-eb34-4134-9f56-4431e019156d')\"\n",
              "              title=\"Convert this dataframe to an interactive table.\"\n",
              "              style=\"display:none;\">\n",
              "        \n",
              "  <svg xmlns=\"http://www.w3.org/2000/svg\" height=\"24px\"viewBox=\"0 0 24 24\"\n",
              "       width=\"24px\">\n",
              "    <path d=\"M0 0h24v24H0V0z\" fill=\"none\"/>\n",
              "    <path d=\"M18.56 5.44l.94 2.06.94-2.06 2.06-.94-2.06-.94-.94-2.06-.94 2.06-2.06.94zm-11 1L8.5 8.5l.94-2.06 2.06-.94-2.06-.94L8.5 2.5l-.94 2.06-2.06.94zm10 10l.94 2.06.94-2.06 2.06-.94-2.06-.94-.94-2.06-.94 2.06-2.06.94z\"/><path d=\"M17.41 7.96l-1.37-1.37c-.4-.4-.92-.59-1.43-.59-.52 0-1.04.2-1.43.59L10.3 9.45l-7.72 7.72c-.78.78-.78 2.05 0 2.83L4 21.41c.39.39.9.59 1.41.59.51 0 1.02-.2 1.41-.59l7.78-7.78 2.81-2.81c.8-.78.8-2.07 0-2.86zM5.41 20L4 18.59l7.72-7.72 1.47 1.35L5.41 20z\"/>\n",
              "  </svg>\n",
              "      </button>\n",
              "      \n",
              "  <style>\n",
              "    .colab-df-container {\n",
              "      display:flex;\n",
              "      flex-wrap:wrap;\n",
              "      gap: 12px;\n",
              "    }\n",
              "\n",
              "    .colab-df-convert {\n",
              "      background-color: #E8F0FE;\n",
              "      border: none;\n",
              "      border-radius: 50%;\n",
              "      cursor: pointer;\n",
              "      display: none;\n",
              "      fill: #1967D2;\n",
              "      height: 32px;\n",
              "      padding: 0 0 0 0;\n",
              "      width: 32px;\n",
              "    }\n",
              "\n",
              "    .colab-df-convert:hover {\n",
              "      background-color: #E2EBFA;\n",
              "      box-shadow: 0px 1px 2px rgba(60, 64, 67, 0.3), 0px 1px 3px 1px rgba(60, 64, 67, 0.15);\n",
              "      fill: #174EA6;\n",
              "    }\n",
              "\n",
              "    [theme=dark] .colab-df-convert {\n",
              "      background-color: #3B4455;\n",
              "      fill: #D2E3FC;\n",
              "    }\n",
              "\n",
              "    [theme=dark] .colab-df-convert:hover {\n",
              "      background-color: #434B5C;\n",
              "      box-shadow: 0px 1px 3px 1px rgba(0, 0, 0, 0.15);\n",
              "      filter: drop-shadow(0px 1px 2px rgba(0, 0, 0, 0.3));\n",
              "      fill: #FFFFFF;\n",
              "    }\n",
              "  </style>\n",
              "\n",
              "      <script>\n",
              "        const buttonEl =\n",
              "          document.querySelector('#df-70d725a8-eb34-4134-9f56-4431e019156d button.colab-df-convert');\n",
              "        buttonEl.style.display =\n",
              "          google.colab.kernel.accessAllowed ? 'block' : 'none';\n",
              "\n",
              "        async function convertToInteractive(key) {\n",
              "          const element = document.querySelector('#df-70d725a8-eb34-4134-9f56-4431e019156d');\n",
              "          const dataTable =\n",
              "            await google.colab.kernel.invokeFunction('convertToInteractive',\n",
              "                                                     [key], {});\n",
              "          if (!dataTable) return;\n",
              "\n",
              "          const docLinkHtml = 'Like what you see? Visit the ' +\n",
              "            '<a target=\"_blank\" href=https://colab.research.google.com/notebooks/data_table.ipynb>data table notebook</a>'\n",
              "            + ' to learn more about interactive tables.';\n",
              "          element.innerHTML = '';\n",
              "          dataTable['output_type'] = 'display_data';\n",
              "          await google.colab.output.renderOutput(dataTable, element);\n",
              "          const docLink = document.createElement('div');\n",
              "          docLink.innerHTML = docLinkHtml;\n",
              "          element.appendChild(docLink);\n",
              "        }\n",
              "      </script>\n",
              "    </div>\n",
              "  </div>\n",
              "  "
            ]
          },
          "metadata": {},
          "execution_count": 5
        }
      ],
      "source": [
        "# load the dataset and preview\n",
        "data = pd.read_pickle('/content/drive/MyDrive/project/dataframe_extractive (1).pkl')\n",
        "data.head()"
      ]
    },
    {
      "cell_type": "code",
      "execution_count": 6,
      "metadata": {
        "colab": {
          "base_uri": "https://localhost:8080/",
          "height": 206
        },
        "id": "h5jfafF-xMaG",
        "outputId": "487a6a11-ac15-45fe-f7ca-f5ff768c31d4"
      },
      "outputs": [
        {
          "output_type": "execute_result",
          "data": {
            "text/plain": [
              "   story_id  count_sentences\n",
              "0         0               16\n",
              "1         1               26\n",
              "2         2               25\n",
              "3         3               19\n",
              "4         4               14"
            ],
            "text/html": [
              "\n",
              "  <div id=\"df-63b9b5f0-1fd0-400d-b0c1-869941a9dcf3\">\n",
              "    <div class=\"colab-df-container\">\n",
              "      <div>\n",
              "<style scoped>\n",
              "    .dataframe tbody tr th:only-of-type {\n",
              "        vertical-align: middle;\n",
              "    }\n",
              "\n",
              "    .dataframe tbody tr th {\n",
              "        vertical-align: top;\n",
              "    }\n",
              "\n",
              "    .dataframe thead th {\n",
              "        text-align: right;\n",
              "    }\n",
              "</style>\n",
              "<table border=\"1\" class=\"dataframe\">\n",
              "  <thead>\n",
              "    <tr style=\"text-align: right;\">\n",
              "      <th></th>\n",
              "      <th>story_id</th>\n",
              "      <th>count_sentences</th>\n",
              "    </tr>\n",
              "  </thead>\n",
              "  <tbody>\n",
              "    <tr>\n",
              "      <th>0</th>\n",
              "      <td>0</td>\n",
              "      <td>16</td>\n",
              "    </tr>\n",
              "    <tr>\n",
              "      <th>1</th>\n",
              "      <td>1</td>\n",
              "      <td>26</td>\n",
              "    </tr>\n",
              "    <tr>\n",
              "      <th>2</th>\n",
              "      <td>2</td>\n",
              "      <td>25</td>\n",
              "    </tr>\n",
              "    <tr>\n",
              "      <th>3</th>\n",
              "      <td>3</td>\n",
              "      <td>19</td>\n",
              "    </tr>\n",
              "    <tr>\n",
              "      <th>4</th>\n",
              "      <td>4</td>\n",
              "      <td>14</td>\n",
              "    </tr>\n",
              "  </tbody>\n",
              "</table>\n",
              "</div>\n",
              "      <button class=\"colab-df-convert\" onclick=\"convertToInteractive('df-63b9b5f0-1fd0-400d-b0c1-869941a9dcf3')\"\n",
              "              title=\"Convert this dataframe to an interactive table.\"\n",
              "              style=\"display:none;\">\n",
              "        \n",
              "  <svg xmlns=\"http://www.w3.org/2000/svg\" height=\"24px\"viewBox=\"0 0 24 24\"\n",
              "       width=\"24px\">\n",
              "    <path d=\"M0 0h24v24H0V0z\" fill=\"none\"/>\n",
              "    <path d=\"M18.56 5.44l.94 2.06.94-2.06 2.06-.94-2.06-.94-.94-2.06-.94 2.06-2.06.94zm-11 1L8.5 8.5l.94-2.06 2.06-.94-2.06-.94L8.5 2.5l-.94 2.06-2.06.94zm10 10l.94 2.06.94-2.06 2.06-.94-2.06-.94-.94-2.06-.94 2.06-2.06.94z\"/><path d=\"M17.41 7.96l-1.37-1.37c-.4-.4-.92-.59-1.43-.59-.52 0-1.04.2-1.43.59L10.3 9.45l-7.72 7.72c-.78.78-.78 2.05 0 2.83L4 21.41c.39.39.9.59 1.41.59.51 0 1.02-.2 1.41-.59l7.78-7.78 2.81-2.81c.8-.78.8-2.07 0-2.86zM5.41 20L4 18.59l7.72-7.72 1.47 1.35L5.41 20z\"/>\n",
              "  </svg>\n",
              "      </button>\n",
              "      \n",
              "  <style>\n",
              "    .colab-df-container {\n",
              "      display:flex;\n",
              "      flex-wrap:wrap;\n",
              "      gap: 12px;\n",
              "    }\n",
              "\n",
              "    .colab-df-convert {\n",
              "      background-color: #E8F0FE;\n",
              "      border: none;\n",
              "      border-radius: 50%;\n",
              "      cursor: pointer;\n",
              "      display: none;\n",
              "      fill: #1967D2;\n",
              "      height: 32px;\n",
              "      padding: 0 0 0 0;\n",
              "      width: 32px;\n",
              "    }\n",
              "\n",
              "    .colab-df-convert:hover {\n",
              "      background-color: #E2EBFA;\n",
              "      box-shadow: 0px 1px 2px rgba(60, 64, 67, 0.3), 0px 1px 3px 1px rgba(60, 64, 67, 0.15);\n",
              "      fill: #174EA6;\n",
              "    }\n",
              "\n",
              "    [theme=dark] .colab-df-convert {\n",
              "      background-color: #3B4455;\n",
              "      fill: #D2E3FC;\n",
              "    }\n",
              "\n",
              "    [theme=dark] .colab-df-convert:hover {\n",
              "      background-color: #434B5C;\n",
              "      box-shadow: 0px 1px 3px 1px rgba(0, 0, 0, 0.15);\n",
              "      filter: drop-shadow(0px 1px 2px rgba(0, 0, 0, 0.3));\n",
              "      fill: #FFFFFF;\n",
              "    }\n",
              "  </style>\n",
              "\n",
              "      <script>\n",
              "        const buttonEl =\n",
              "          document.querySelector('#df-63b9b5f0-1fd0-400d-b0c1-869941a9dcf3 button.colab-df-convert');\n",
              "        buttonEl.style.display =\n",
              "          google.colab.kernel.accessAllowed ? 'block' : 'none';\n",
              "\n",
              "        async function convertToInteractive(key) {\n",
              "          const element = document.querySelector('#df-63b9b5f0-1fd0-400d-b0c1-869941a9dcf3');\n",
              "          const dataTable =\n",
              "            await google.colab.kernel.invokeFunction('convertToInteractive',\n",
              "                                                     [key], {});\n",
              "          if (!dataTable) return;\n",
              "\n",
              "          const docLinkHtml = 'Like what you see? Visit the ' +\n",
              "            '<a target=\"_blank\" href=https://colab.research.google.com/notebooks/data_table.ipynb>data table notebook</a>'\n",
              "            + ' to learn more about interactive tables.';\n",
              "          element.innerHTML = '';\n",
              "          dataTable['output_type'] = 'display_data';\n",
              "          await google.colab.output.renderOutput(dataTable, element);\n",
              "          const docLink = document.createElement('div');\n",
              "          docLink.innerHTML = docLinkHtml;\n",
              "          element.appendChild(docLink);\n",
              "        }\n",
              "      </script>\n",
              "    </div>\n",
              "  </div>\n",
              "  "
            ]
          },
          "metadata": {},
          "execution_count": 6
        }
      ],
      "source": [
        "# story length distribution\n",
        "d1_sent_count = data.groupby('story_id').size().reset_index(name='count_sentences')\n",
        "d1_sent_count.head()"
      ]
    },
    {
      "cell_type": "markdown",
      "metadata": {
        "id": "RjpmHa69Efg7"
      },
      "source": [
        "calculating the median length of the stories"
      ]
    },
    {
      "cell_type": "code",
      "execution_count": 7,
      "metadata": {
        "colab": {
          "base_uri": "https://localhost:8080/"
        },
        "id": "VEDSDFP0xMiA",
        "outputId": "fadfcf12-7f6d-4526-f800-d339353a7986"
      },
      "outputs": [
        {
          "output_type": "execute_result",
          "data": {
            "text/plain": [
              "19.0"
            ]
          },
          "metadata": {},
          "execution_count": 7
        }
      ],
      "source": [
        "# median of the story lengths\n",
        "d1_sent_count['count_sentences'].median()"
      ]
    },
    {
      "cell_type": "code",
      "execution_count": 8,
      "metadata": {
        "colab": {
          "base_uri": "https://localhost:8080/"
        },
        "id": "-U8HWivLxWB7",
        "outputId": "0e5e0cbd-8018-482e-e424-8d4f916766d3"
      },
      "outputs": [
        {
          "output_type": "execute_result",
          "data": {
            "text/plain": [
              "74223"
            ]
          },
          "metadata": {},
          "execution_count": 8
        }
      ],
      "source": [
        "# filter the stories that have a length < 30\n",
        "list_stories_subset = list(d1_sent_count[d1_sent_count['count_sentences'] < 30]['story_id'])\n",
        "len(list_stories_subset)"
      ]
    },
    {
      "cell_type": "markdown",
      "metadata": {
        "id": "wfnaytMYEjrm"
      },
      "source": [
        "Randomly sample 50,000 unique stories from the filtered-out story IDs."
      ]
    },
    {
      "cell_type": "code",
      "execution_count": 9,
      "metadata": {
        "colab": {
          "base_uri": "https://localhost:8080/"
        },
        "id": "es36IakMxWE6",
        "outputId": "9056666b-b659-48e6-ed53-3435be49af40"
      },
      "outputs": [
        {
          "output_type": "execute_result",
          "data": {
            "text/plain": [
              "50000"
            ]
          },
          "metadata": {},
          "execution_count": 9
        }
      ],
      "source": [
        "# now subset the stories so that it can run on the system\n",
        "SUBSET = 50000\n",
        "list_stories_subset = random.sample(list_stories_subset, SUBSET)\n",
        "len(np.unique(list_stories_subset))"
      ]
    },
    {
      "cell_type": "markdown",
      "metadata": {
        "id": "ijo--KadEnAv"
      },
      "source": [
        "## Split these randomly sampled story IDs into three sets—training, validation, and testing—in a 3:1:1 ratio."
      ]
    },
    {
      "cell_type": "code",
      "execution_count": 10,
      "metadata": {
        "colab": {
          "base_uri": "https://localhost:8080/"
        },
        "id": "ZoLe8c99xWHu",
        "outputId": "3990de37-6682-4c72-bf0b-9a3c030b7240"
      },
      "outputs": [
        {
          "output_type": "execute_result",
          "data": {
            "text/plain": [
              "((505305, 4), (168546, 4), (168504, 4))"
            ]
          },
          "metadata": {},
          "execution_count": 10
        }
      ],
      "source": [
        "# segregating into different splits\n",
        "train_ids = list_stories_subset[:30000]\n",
        "validation_ids = list_stories_subset[30000:40000]\n",
        "test_ids = list_stories_subset[40000:]\n",
        "\n",
        "train = data[data['story_id'].isin(train_ids)]\n",
        "valid = data[data['story_id'].isin(validation_ids)]\n",
        "test = data[data['story_id'].isin(test_ids)]\n",
        "\n",
        "train.shape, valid.shape, test.shape"
      ]
    },
    {
      "cell_type": "code",
      "execution_count": 11,
      "metadata": {
        "colab": {
          "base_uri": "https://localhost:8080/",
          "height": 337
        },
        "id": "-y9vDdiVxWKW",
        "outputId": "118b33df-3a1a-4994-8841-0fb5ac8f1fc3"
      },
      "outputs": [
        {
          "output_type": "stream",
          "name": "stderr",
          "text": [
            "/usr/local/lib/python3.8/dist-packages/seaborn/distributions.py:2619: FutureWarning: `distplot` is a deprecated function and will be removed in a future version. Please adapt your code to use either `displot` (a figure-level function with similar flexibility) or `histplot` (an axes-level function for histograms).\n",
            "  warnings.warn(msg, FutureWarning)\n"
          ]
        },
        {
          "output_type": "display_data",
          "data": {
            "text/plain": [
              "<Figure size 432x288 with 1 Axes>"
            ],
            "image/png": "[encoded data removed]"
          },
          "metadata": {
            "needs_background": "light"
          }
        }
      ],
      "source": [
        "# story length distribution plot in the training dataset\n",
        "train = train.sort_values(['story_id','sent_id'])\n",
        "d2_sent_count = train.groupby('story_id').size().reset_index(name='count_sentences')\n",
        "sns.distplot(d2_sent_count['count_sentences'])\n",
        "plt.show()"
      ]
    },
    {
      "cell_type": "code",
      "execution_count": 12,
      "metadata": {
        "colab": {
          "base_uri": "https://localhost:8080/"
        },
        "id": "wWe8cgEDxekm",
        "outputId": "75ddabdb-cd8f-48f7-8d1c-96b5eb0d0a34"
      },
      "outputs": [
        {
          "output_type": "execute_result",
          "data": {
            "text/plain": [
              "count    30000.000000\n",
              "mean        16.843500\n",
              "std          6.234375\n",
              "min          1.000000\n",
              "25%         12.000000\n",
              "50%         16.000000\n",
              "75%         22.000000\n",
              "max         29.000000\n",
              "Name: count_sentences, dtype: float64"
            ]
          },
          "metadata": {},
          "execution_count": 12
        }
      ],
      "source": [
        "# descriptive statistics of story length in the training dataset\n",
        "d2_sent_count['count_sentences'].describe()"
      ]
    },
    {
      "cell_type": "code",
      "execution_count": 13,
      "metadata": {
        "colab": {
          "base_uri": "https://localhost:8080/"
        },
        "id": "OiMXsO9Zxenw",
        "outputId": "665a0023-6429-4e0a-ef8e-6036c97136fc"
      },
      "outputs": [
        {
          "output_type": "execute_result",
          "data": {
            "text/plain": [
              "29"
            ]
          },
          "metadata": {},
          "execution_count": 13
        }
      ],
      "source": [
        "# we note the maximum story length from the training dataset as we will\n",
        "# be using this statistic for preprocessing\n",
        "max_len_story = d2_sent_count['count_sentences'].max()\n",
        "max_len_story"
      ]
    },
    {
      "cell_type": "code",
      "execution_count": 14,
      "metadata": {
        "colab": {
          "base_uri": "https://localhost:8080/"
        },
        "id": "JiffuVYWxerF",
        "outputId": "461fc2a2-d275-4572-8df7-86c89a16e3ec"
      },
      "outputs": [
        {
          "output_type": "execute_result",
          "data": {
            "text/plain": [
              "484438"
            ]
          },
          "metadata": {},
          "execution_count": 14
        }
      ],
      "source": [
        "# total number of unique sentences in the training dataset\n",
        "sent_ls = set(train['sentence'].tolist())\n",
        "len(sent_ls)"
      ]
    },
    {
      "cell_type": "code",
      "execution_count": 15,
      "metadata": {
        "colab": {
          "base_uri": "https://localhost:8080/"
        },
        "id": "F6CfHVyIxkuI",
        "outputId": "8e2976fc-8449-4405-a79b-d96d534afcdb"
      },
      "outputs": [
        {
          "output_type": "execute_result",
          "data": {
            "text/plain": [
              "2"
            ]
          },
          "metadata": {},
          "execution_count": 15
        }
      ],
      "source": [
        "# unique labels in the training dataset\n",
        "# 0: sentence is not a summary candidate\n",
        "# 1: sentence is a summary candidate\n",
        "tags = list(set(train['label_sent'].values))\n",
        "n_tags = len(tags)\n",
        "n_tags"
      ]
    },
    {
      "cell_type": "markdown",
      "metadata": {
        "id": "QFhwlV6vEyOb"
      },
      "source": [
        "# **Dataset Preprocessing**"
      ]
    },
    {
      "cell_type": "markdown",
      "metadata": {
        "id": "0-P_nhIgE1y6"
      },
      "source": [
        "Represent the sentences with integer tokens, pad the sentences to the maximum sentence length, and represent the corresponding labels in 0s and 1s.\n",
        "\n",
        "This is an important step, as it helps with choosing and setting some of the model configuration parameters, such as the maximum_story_length and maximum_sentence_length.\n",
        "The choice regarding the maximum_story_length and maximum_sentence_length is determined based on the statistical distribution of those parameters and for the majority of the stories in the dataset."
      ]
    },
    {
      "cell_type": "code",
      "execution_count": 16,
      "metadata": {
        "colab": {
          "base_uri": "https://localhost:8080/"
        },
        "id": "-w8fusjdxkxr",
        "outputId": "2435b961-a366-4189-ba04-e0dd8f562598"
      },
      "outputs": [
        {
          "output_type": "stream",
          "name": "stdout",
          "text": [
            "{0: 1, 1: 2, 'PAD': 0}\n"
          ]
        }
      ],
      "source": [
        "# encoding the sentence labels and reversing them\n",
        "tag2idx  = {t: i + 1 for i, t in enumerate(tags)}\n",
        "tag2idx['PAD'] = 0\n",
        "idx2tag = {i: s for s, i in tag2idx.items()}\n",
        "print(tag2idx)"
      ]
    },
    {
      "cell_type": "code",
      "execution_count": 17,
      "metadata": {
        "id": "kzR72Ownxk_9"
      },
      "outputs": [],
      "source": [
        "def add_word_lengths(df):\n",
        "    df['word_len'] = df['sentence'].progress_apply(lambda x: len(x.split()))\n",
        "    df['word_lis'] = df['sentence'].progress_apply(lambda x: x.split())\n",
        "    return df"
      ]
    },
    {
      "cell_type": "code",
      "execution_count": 18,
      "metadata": {
        "colab": {
          "base_uri": "https://localhost:8080/",
          "height": 538
        },
        "id": "aCSOPijZxrWC",
        "outputId": "8a3a6352-0d75-4567-a294-d73dba8dcfe8"
      },
      "outputs": [
        {
          "output_type": "stream",
          "name": "stderr",
          "text": [
            "100%|██████████| 505305/505305 [00:01<00:00, 366319.65it/s]\n",
            "100%|██████████| 505305/505305 [00:03<00:00, 148628.00it/s]\n",
            "100%|██████████| 168546/168546 [00:00<00:00, 354882.38it/s]\n",
            "<ipython-input-17-c10b9c3d8801>:2: SettingWithCopyWarning: \n",
            "A value is trying to be set on a copy of a slice from a DataFrame.\n",
            "Try using .loc[row_indexer,col_indexer] = value instead\n",
            "\n",
            "See the caveats in the documentation: https://pandas.pydata.org/pandas-docs/stable/user_guide/indexing.html#returning-a-view-versus-a-copy\n",
            "  df['word_len'] = df['sentence'].progress_apply(lambda x: len(x.split()))\n",
            "100%|██████████| 168546/168546 [00:01<00:00, 111769.27it/s]\n",
            "<ipython-input-17-c10b9c3d8801>:3: SettingWithCopyWarning: \n",
            "A value is trying to be set on a copy of a slice from a DataFrame.\n",
            "Try using .loc[row_indexer,col_indexer] = value instead\n",
            "\n",
            "See the caveats in the documentation: https://pandas.pydata.org/pandas-docs/stable/user_guide/indexing.html#returning-a-view-versus-a-copy\n",
            "  df['word_lis'] = df['sentence'].progress_apply(lambda x: x.split())\n",
            "100%|██████████| 168504/168504 [00:00<00:00, 382413.22it/s]\n",
            "100%|██████████| 168504/168504 [00:01<00:00, 94220.00it/s] \n"
          ]
        },
        {
          "output_type": "execute_result",
          "data": {
            "text/plain": [
              "   story_id  sent_id                                           sentence  \\\n",
              "0         0        0  in business if one of our companies is failing...   \n",
              "1         0        1  its this kind of logic that underpins a new re...   \n",
              "2         0        2  im a member of the commission and i am pleased...   \n",
              "3         0        3  this latest report taking control pathways to ...   \n",
              "4         0        4  the reality is that the most effective way to ...   \n",
              "\n",
              "   label_sent  word_len                                           word_lis  \n",
              "0           0        37  [in, business, if, one, of, our, companies, is...  \n",
              "1           1        33  [its, this, kind, of, logic, that, underpins, ...  \n",
              "2           1        89  [im, a, member, of, the, commission, and, i, a...  \n",
              "3           1        49  [this, latest, report, taking, control, pathwa...  \n",
              "4           1        55  [the, reality, is, that, the, most, effective,...  "
            ],
            "text/html": [
              "\n",
              "  <div id=\"df-8290cda9-3cd1-466a-b671-f6278ed10ce7\">\n",
              "    <div class=\"colab-df-container\">\n",
              "      <div>\n",
              "<style scoped>\n",
              "    .dataframe tbody tr th:only-of-type {\n",
              "        vertical-align: middle;\n",
              "    }\n",
              "\n",
              "    .dataframe tbody tr th {\n",
              "        vertical-align: top;\n",
              "    }\n",
              "\n",
              "    .dataframe thead th {\n",
              "        text-align: right;\n",
              "    }\n",
              "</style>\n",
              "<table border=\"1\" class=\"dataframe\">\n",
              "  <thead>\n",
              "    <tr style=\"text-align: right;\">\n",
              "      <th></th>\n",
              "      <th>story_id</th>\n",
              "      <th>sent_id</th>\n",
              "      <th>sentence</th>\n",
              "      <th>label_sent</th>\n",
              "      <th>word_len</th>\n",
              "      <th>word_lis</th>\n",
              "    </tr>\n",
              "  </thead>\n",
              "  <tbody>\n",
              "    <tr>\n",
              "      <th>0</th>\n",
              "      <td>0</td>\n",
              "      <td>0</td>\n",
              "      <td>in business if one of our companies is failing...</td>\n",
              "      <td>0</td>\n",
              "      <td>37</td>\n",
              "      <td>[in, business, if, one, of, our, companies, is...</td>\n",
              "    </tr>\n",
              "    <tr>\n",
              "      <th>1</th>\n",
              "      <td>0</td>\n",
              "      <td>1</td>\n",
              "      <td>its this kind of logic that underpins a new re...</td>\n",
              "      <td>1</td>\n",
              "      <td>33</td>\n",
              "      <td>[its, this, kind, of, logic, that, underpins, ...</td>\n",
              "    </tr>\n",
              "    <tr>\n",
              "      <th>2</th>\n",
              "      <td>0</td>\n",
              "      <td>2</td>\n",
              "      <td>im a member of the commission and i am pleased...</td>\n",
              "      <td>1</td>\n",
              "      <td>89</td>\n",
              "      <td>[im, a, member, of, the, commission, and, i, a...</td>\n",
              "    </tr>\n",
              "    <tr>\n",
              "      <th>3</th>\n",
              "      <td>0</td>\n",
              "      <td>3</td>\n",
              "      <td>this latest report taking control pathways to ...</td>\n",
              "      <td>1</td>\n",
              "      <td>49</td>\n",
              "      <td>[this, latest, report, taking, control, pathwa...</td>\n",
              "    </tr>\n",
              "    <tr>\n",
              "      <th>4</th>\n",
              "      <td>0</td>\n",
              "      <td>4</td>\n",
              "      <td>the reality is that the most effective way to ...</td>\n",
              "      <td>1</td>\n",
              "      <td>55</td>\n",
              "      <td>[the, reality, is, that, the, most, effective,...</td>\n",
              "    </tr>\n",
              "  </tbody>\n",
              "</table>\n",
              "</div>\n",
              "      <button class=\"colab-df-convert\" onclick=\"convertToInteractive('df-8290cda9-3cd1-466a-b671-f6278ed10ce7')\"\n",
              "              title=\"Convert this dataframe to an interactive table.\"\n",
              "              style=\"display:none;\">\n",
              "        \n",
              "  <svg xmlns=\"http://www.w3.org/2000/svg\" height=\"24px\"viewBox=\"0 0 24 24\"\n",
              "       width=\"24px\">\n",
              "    <path d=\"M0 0h24v24H0V0z\" fill=\"none\"/>\n",
              "    <path d=\"M18.56 5.44l.94 2.06.94-2.06 2.06-.94-2.06-.94-.94-2.06-.94 2.06-2.06.94zm-11 1L8.5 8.5l.94-2.06 2.06-.94-2.06-.94L8.5 2.5l-.94 2.06-2.06.94zm10 10l.94 2.06.94-2.06 2.06-.94-2.06-.94-.94-2.06-.94 2.06-2.06.94z\"/><path d=\"M17.41 7.96l-1.37-1.37c-.4-.4-.92-.59-1.43-.59-.52 0-1.04.2-1.43.59L10.3 9.45l-7.72 7.72c-.78.78-.78 2.05 0 2.83L4 21.41c.39.39.9.59 1.41.59.51 0 1.02-.2 1.41-.59l7.78-7.78 2.81-2.81c.8-.78.8-2.07 0-2.86zM5.41 20L4 18.59l7.72-7.72 1.47 1.35L5.41 20z\"/>\n",
              "  </svg>\n",
              "      </button>\n",
              "      \n",
              "  <style>\n",
              "    .colab-df-container {\n",
              "      display:flex;\n",
              "      flex-wrap:wrap;\n",
              "      gap: 12px;\n",
              "    }\n",
              "\n",
              "    .colab-df-convert {\n",
              "      background-color: #E8F0FE;\n",
              "      border: none;\n",
              "      border-radius: 50%;\n",
              "      cursor: pointer;\n",
              "      display: none;\n",
              "      fill: #1967D2;\n",
              "      height: 32px;\n",
              "      padding: 0 0 0 0;\n",
              "      width: 32px;\n",
              "    }\n",
              "\n",
              "    .colab-df-convert:hover {\n",
              "      background-color: #E2EBFA;\n",
              "      box-shadow: 0px 1px 2px rgba(60, 64, 67, 0.3), 0px 1px 3px 1px rgba(60, 64, 67, 0.15);\n",
              "      fill: #174EA6;\n",
              "    }\n",
              "\n",
              "    [theme=dark] .colab-df-convert {\n",
              "      background-color: #3B4455;\n",
              "      fill: #D2E3FC;\n",
              "    }\n",
              "\n",
              "    [theme=dark] .colab-df-convert:hover {\n",
              "      background-color: #434B5C;\n",
              "      box-shadow: 0px 1px 3px 1px rgba(0, 0, 0, 0.15);\n",
              "      filter: drop-shadow(0px 1px 2px rgba(0, 0, 0, 0.3));\n",
              "      fill: #FFFFFF;\n",
              "    }\n",
              "  </style>\n",
              "\n",
              "      <script>\n",
              "        const buttonEl =\n",
              "          document.querySelector('#df-8290cda9-3cd1-466a-b671-f6278ed10ce7 button.colab-df-convert');\n",
              "        buttonEl.style.display =\n",
              "          google.colab.kernel.accessAllowed ? 'block' : 'none';\n",
              "\n",
              "        async function convertToInteractive(key) {\n",
              "          const element = document.querySelector('#df-8290cda9-3cd1-466a-b671-f6278ed10ce7');\n",
              "          const dataTable =\n",
              "            await google.colab.kernel.invokeFunction('convertToInteractive',\n",
              "                                                     [key], {});\n",
              "          if (!dataTable) return;\n",
              "\n",
              "          const docLinkHtml = 'Like what you see? Visit the ' +\n",
              "            '<a target=\"_blank\" href=https://colab.research.google.com/notebooks/data_table.ipynb>data table notebook</a>'\n",
              "            + ' to learn more about interactive tables.';\n",
              "          element.innerHTML = '';\n",
              "          dataTable['output_type'] = 'display_data';\n",
              "          await google.colab.output.renderOutput(dataTable, element);\n",
              "          const docLink = document.createElement('div');\n",
              "          docLink.innerHTML = docLinkHtml;\n",
              "          element.appendChild(docLink);\n",
              "        }\n",
              "      </script>\n",
              "    </div>\n",
              "  </div>\n",
              "  "
            ]
          },
          "metadata": {},
          "execution_count": 18
        }
      ],
      "source": [
        "train = add_word_lengths(train)\n",
        "valid = add_word_lengths(valid)\n",
        "test = add_word_lengths(test)\n",
        "\n",
        "train.head()"
      ]
    },
    {
      "cell_type": "code",
      "execution_count": 19,
      "metadata": {
        "colab": {
          "base_uri": "https://localhost:8080/",
          "height": 337
        },
        "id": "33NFDU9exrZO",
        "outputId": "e35d3595-18d8-42ea-ce0c-048f070e604c"
      },
      "outputs": [
        {
          "output_type": "stream",
          "name": "stderr",
          "text": [
            "/usr/local/lib/python3.8/dist-packages/seaborn/distributions.py:2619: FutureWarning: `distplot` is a deprecated function and will be removed in a future version. Please adapt your code to use either `displot` (a figure-level function with similar flexibility) or `histplot` (an axes-level function for histograms).\n",
            "  warnings.warn(msg, FutureWarning)\n"
          ]
        },
        {
          "output_type": "display_data",
          "data": {
            "text/plain": [
              "<Figure size 432x288 with 1 Axes>"
            ],
            "image/png": "[encoded data removed]"
          },
          "metadata": {
            "needs_background": "light"
          }
        }
      ],
      "source": [
        "# sentence length distribution per story from the training dataset\n",
        "sns.distplot(train['word_len'])\n",
        "plt.show()"
      ]
    },
    {
      "cell_type": "code",
      "execution_count": 20,
      "metadata": {
        "colab": {
          "base_uri": "https://localhost:8080/"
        },
        "id": "XGcZf9ckxrcx",
        "outputId": "a91e347e-35ae-468c-85ad-9ffcea85bbc6"
      },
      "outputs": [
        {
          "output_type": "execute_result",
          "data": {
            "text/plain": [
              "count    505305.000000\n",
              "mean         31.523084\n",
              "std          18.216125\n",
              "min           1.000000\n",
              "25%          19.000000\n",
              "50%          29.000000\n",
              "75%          41.000000\n",
              "max         907.000000\n",
              "Name: word_len, dtype: float64"
            ]
          },
          "metadata": {},
          "execution_count": 20
        }
      ],
      "source": [
        "# descriptive statistics of sentence length distribution per story \n",
        "# from the training dataset\n",
        "train['word_len'].describe()"
      ]
    },
    {
      "cell_type": "code",
      "execution_count": 21,
      "metadata": {
        "colab": {
          "base_uri": "https://localhost:8080/"
        },
        "id": "wqjFB_rcxxri",
        "outputId": "99bb963b-97be-4f7c-d998-97d09631f099"
      },
      "outputs": [
        {
          "output_type": "stream",
          "name": "stdout",
          "text": [
            "166254\n"
          ]
        }
      ],
      "source": [
        "# total number of unique words in our training corpus\n",
        "word_ls = set(list(chain(*train['word_lis'].tolist())))\n",
        "n_words = len(word_ls)\n",
        "print(n_words)"
      ]
    },
    {
      "cell_type": "code",
      "execution_count": 22,
      "metadata": {
        "id": "K1au9yMvxxu0"
      },
      "outputs": [],
      "source": [
        "# mapping the words to integers (tokenization) because machines don't\n",
        "# understand raw text\n",
        "word2idx = {c: i+2 for i,c in enumerate(word_ls)}\n",
        "word2idx['UNK'] = 1\n",
        "word2idx['PAD'] = 0\n",
        "\n",
        "# reversing this dictionary as this would be needed for post-processing\n",
        "idx2word = {i: s for s, i in word2idx.items()}"
      ]
    },
    {
      "cell_type": "code",
      "execution_count": 23,
      "metadata": {
        "id": "-GhHrNMYxxx2"
      },
      "outputs": [],
      "source": [
        "def append_sent_labels(df):\n",
        "    df['sent_lab'] = df[['sentence','label_sent']].apply(tuple, axis=1)\n",
        "    return df"
      ]
    },
    {
      "cell_type": "code",
      "execution_count": 24,
      "metadata": {
        "colab": {
          "base_uri": "https://localhost:8080/",
          "height": 448
        },
        "id": "2dFY2wx0x3XV",
        "outputId": "fd90ab2d-3ce8-401e-cf02-83a34433a270"
      },
      "outputs": [
        {
          "output_type": "stream",
          "name": "stderr",
          "text": [
            "<ipython-input-23-bd523398f5f3>:2: SettingWithCopyWarning: \n",
            "A value is trying to be set on a copy of a slice from a DataFrame.\n",
            "Try using .loc[row_indexer,col_indexer] = value instead\n",
            "\n",
            "See the caveats in the documentation: https://pandas.pydata.org/pandas-docs/stable/user_guide/indexing.html#returning-a-view-versus-a-copy\n",
            "  df['sent_lab'] = df[['sentence','label_sent']].apply(tuple, axis=1)\n"
          ]
        },
        {
          "output_type": "execute_result",
          "data": {
            "text/plain": [
              "   story_id  sent_id                                           sentence  \\\n",
              "0         0        0  in business if one of our companies is failing...   \n",
              "1         0        1  its this kind of logic that underpins a new re...   \n",
              "2         0        2  im a member of the commission and i am pleased...   \n",
              "3         0        3  this latest report taking control pathways to ...   \n",
              "4         0        4  the reality is that the most effective way to ...   \n",
              "\n",
              "   label_sent  word_len                                           word_lis  \\\n",
              "0           0        37  [in, business, if, one, of, our, companies, is...   \n",
              "1           1        33  [its, this, kind, of, logic, that, underpins, ...   \n",
              "2           1        89  [im, a, member, of, the, commission, and, i, a...   \n",
              "3           1        49  [this, latest, report, taking, control, pathwa...   \n",
              "4           1        55  [the, reality, is, that, the, most, effective,...   \n",
              "\n",
              "                                            sent_lab  \n",
              "0  (in business if one of our companies is failin...  \n",
              "1  (its this kind of logic that underpins a new r...  \n",
              "2  (im a member of the commission and i am please...  \n",
              "3  (this latest report taking control pathways to...  \n",
              "4  (the reality is that the most effective way to...  "
            ],
            "text/html": [
              "\n",
              "  <div id=\"df-a14692c8-58b2-416a-91c2-06833de4804f\">\n",
              "    <div class=\"colab-df-container\">\n",
              "      <div>\n",
              "<style scoped>\n",
              "    .dataframe tbody tr th:only-of-type {\n",
              "        vertical-align: middle;\n",
              "    }\n",
              "\n",
              "    .dataframe tbody tr th {\n",
              "        vertical-align: top;\n",
              "    }\n",
              "\n",
              "    .dataframe thead th {\n",
              "        text-align: right;\n",
              "    }\n",
              "</style>\n",
              "<table border=\"1\" class=\"dataframe\">\n",
              "  <thead>\n",
              "    <tr style=\"text-align: right;\">\n",
              "      <th></th>\n",
              "      <th>story_id</th>\n",
              "      <th>sent_id</th>\n",
              "      <th>sentence</th>\n",
              "      <th>label_sent</th>\n",
              "      <th>word_len</th>\n",
              "      <th>word_lis</th>\n",
              "      <th>sent_lab</th>\n",
              "    </tr>\n",
              "  </thead>\n",
              "  <tbody>\n",
              "    <tr>\n",
              "      <th>0</th>\n",
              "      <td>0</td>\n",
              "      <td>0</td>\n",
              "      <td>in business if one of our companies is failing...</td>\n",
              "      <td>0</td>\n",
              "      <td>37</td>\n",
              "      <td>[in, business, if, one, of, our, companies, is...</td>\n",
              "      <td>(in business if one of our companies is failin...</td>\n",
              "    </tr>\n",
              "    <tr>\n",
              "      <th>1</th>\n",
              "      <td>0</td>\n",
              "      <td>1</td>\n",
              "      <td>its this kind of logic that underpins a new re...</td>\n",
              "      <td>1</td>\n",
              "      <td>33</td>\n",
              "      <td>[its, this, kind, of, logic, that, underpins, ...</td>\n",
              "      <td>(its this kind of logic that underpins a new r...</td>\n",
              "    </tr>\n",
              "    <tr>\n",
              "      <th>2</th>\n",
              "      <td>0</td>\n",
              "      <td>2</td>\n",
              "      <td>im a member of the commission and i am pleased...</td>\n",
              "      <td>1</td>\n",
              "      <td>89</td>\n",
              "      <td>[im, a, member, of, the, commission, and, i, a...</td>\n",
              "      <td>(im a member of the commission and i am please...</td>\n",
              "    </tr>\n",
              "    <tr>\n",
              "      <th>3</th>\n",
              "      <td>0</td>\n",
              "      <td>3</td>\n",
              "      <td>this latest report taking control pathways to ...</td>\n",
              "      <td>1</td>\n",
              "      <td>49</td>\n",
              "      <td>[this, latest, report, taking, control, pathwa...</td>\n",
              "      <td>(this latest report taking control pathways to...</td>\n",
              "    </tr>\n",
              "    <tr>\n",
              "      <th>4</th>\n",
              "      <td>0</td>\n",
              "      <td>4</td>\n",
              "      <td>the reality is that the most effective way to ...</td>\n",
              "      <td>1</td>\n",
              "      <td>55</td>\n",
              "      <td>[the, reality, is, that, the, most, effective,...</td>\n",
              "      <td>(the reality is that the most effective way to...</td>\n",
              "    </tr>\n",
              "  </tbody>\n",
              "</table>\n",
              "</div>\n",
              "      <button class=\"colab-df-convert\" onclick=\"convertToInteractive('df-a14692c8-58b2-416a-91c2-06833de4804f')\"\n",
              "              title=\"Convert this dataframe to an interactive table.\"\n",
              "              style=\"display:none;\">\n",
              "        \n",
              "  <svg xmlns=\"http://www.w3.org/2000/svg\" height=\"24px\"viewBox=\"0 0 24 24\"\n",
              "       width=\"24px\">\n",
              "    <path d=\"M0 0h24v24H0V0z\" fill=\"none\"/>\n",
              "    <path d=\"M18.56 5.44l.94 2.06.94-2.06 2.06-.94-2.06-.94-.94-2.06-.94 2.06-2.06.94zm-11 1L8.5 8.5l.94-2.06 2.06-.94-2.06-.94L8.5 2.5l-.94 2.06-2.06.94zm10 10l.94 2.06.94-2.06 2.06-.94-2.06-.94-.94-2.06-.94 2.06-2.06.94z\"/><path d=\"M17.41 7.96l-1.37-1.37c-.4-.4-.92-.59-1.43-.59-.52 0-1.04.2-1.43.59L10.3 9.45l-7.72 7.72c-.78.78-.78 2.05 0 2.83L4 21.41c.39.39.9.59 1.41.59.51 0 1.02-.2 1.41-.59l7.78-7.78 2.81-2.81c.8-.78.8-2.07 0-2.86zM5.41 20L4 18.59l7.72-7.72 1.47 1.35L5.41 20z\"/>\n",
              "  </svg>\n",
              "      </button>\n",
              "      \n",
              "  <style>\n",
              "    .colab-df-container {\n",
              "      display:flex;\n",
              "      flex-wrap:wrap;\n",
              "      gap: 12px;\n",
              "    }\n",
              "\n",
              "    .colab-df-convert {\n",
              "      background-color: #E8F0FE;\n",
              "      border: none;\n",
              "      border-radius: 50%;\n",
              "      cursor: pointer;\n",
              "      display: none;\n",
              "      fill: #1967D2;\n",
              "      height: 32px;\n",
              "      padding: 0 0 0 0;\n",
              "      width: 32px;\n",
              "    }\n",
              "\n",
              "    .colab-df-convert:hover {\n",
              "      background-color: #E2EBFA;\n",
              "      box-shadow: 0px 1px 2px rgba(60, 64, 67, 0.3), 0px 1px 3px 1px rgba(60, 64, 67, 0.15);\n",
              "      fill: #174EA6;\n",
              "    }\n",
              "\n",
              "    [theme=dark] .colab-df-convert {\n",
              "      background-color: #3B4455;\n",
              "      fill: #D2E3FC;\n",
              "    }\n",
              "\n",
              "    [theme=dark] .colab-df-convert:hover {\n",
              "      background-color: #434B5C;\n",
              "      box-shadow: 0px 1px 3px 1px rgba(0, 0, 0, 0.15);\n",
              "      filter: drop-shadow(0px 1px 2px rgba(0, 0, 0, 0.3));\n",
              "      fill: #FFFFFF;\n",
              "    }\n",
              "  </style>\n",
              "\n",
              "      <script>\n",
              "        const buttonEl =\n",
              "          document.querySelector('#df-a14692c8-58b2-416a-91c2-06833de4804f button.colab-df-convert');\n",
              "        buttonEl.style.display =\n",
              "          google.colab.kernel.accessAllowed ? 'block' : 'none';\n",
              "\n",
              "        async function convertToInteractive(key) {\n",
              "          const element = document.querySelector('#df-a14692c8-58b2-416a-91c2-06833de4804f');\n",
              "          const dataTable =\n",
              "            await google.colab.kernel.invokeFunction('convertToInteractive',\n",
              "                                                     [key], {});\n",
              "          if (!dataTable) return;\n",
              "\n",
              "          const docLinkHtml = 'Like what you see? Visit the ' +\n",
              "            '<a target=\"_blank\" href=https://colab.research.google.com/notebooks/data_table.ipynb>data table notebook</a>'\n",
              "            + ' to learn more about interactive tables.';\n",
              "          element.innerHTML = '';\n",
              "          dataTable['output_type'] = 'display_data';\n",
              "          await google.colab.output.renderOutput(dataTable, element);\n",
              "          const docLink = document.createElement('div');\n",
              "          docLink.innerHTML = docLinkHtml;\n",
              "          element.appendChild(docLink);\n",
              "        }\n",
              "      </script>\n",
              "    </div>\n",
              "  </div>\n",
              "  "
            ]
          },
          "metadata": {},
          "execution_count": 24
        }
      ],
      "source": [
        "train = append_sent_labels(train)\n",
        "valid = append_sent_labels(valid)\n",
        "test = append_sent_labels(test)\n",
        "\n",
        "train.head()"
      ]
    },
    {
      "cell_type": "code",
      "execution_count": 25,
      "metadata": {
        "colab": {
          "base_uri": "https://localhost:8080/"
        },
        "id": "aUpoMzW0F8BS",
        "outputId": "943a8fd7-813d-4d94-e09b-1c4266ee6068"
      },
      "outputs": [
        {
          "output_type": "execute_result",
          "data": {
            "text/plain": [
              "(30000, 10000, 10000)"
            ]
          },
          "metadata": {},
          "execution_count": 25
        }
      ],
      "source": [
        "# sanity check the unique story ids in each of the splits\n",
        "train['story_id'].nunique(), valid['story_id'].nunique(), test['story_id'].nunique()"
      ]
    },
    {
      "cell_type": "code",
      "execution_count": 26,
      "metadata": {
        "id": "49HqATPFGF6r"
      },
      "outputs": [],
      "source": [
        "# we can play with this number but for now we will settle with 40\n",
        "MAX_LEN_WORD = 40\n",
        "\n",
        "def represent_stories(df):\n",
        "    # filter out the labels from the data subset\n",
        "    story_ids = df['story_id'].unique()\n",
        "    stories_labels = []\n",
        "    for s_id in tqdm(story_ids):\n",
        "        temp_story = []\n",
        "        # get all the sentences with respect to the givcen story id\n",
        "        temp_story = list(df[df['story_id'] == s_id]['sent_lab'])\n",
        "        stories_labels.append(temp_story)\n",
        "    \n",
        "    # initialize an all-zeros array in the shape of \n",
        "    # (nb_stories, max_story_length, max_sentence_lenght)\n",
        "    X_word = np.zeros((len(stories_labels), max_len_story, MAX_LEN_WORD))\n",
        "    \n",
        "    for idx, story in tqdm(enumerate(stories_labels)):\n",
        "        story_seq = []\n",
        "        \n",
        "        # to give an upper bound on the maximum length of the word sequence for sentence\n",
        "        for i in range(max_len_story):\n",
        "            sent_seq = []\n",
        "            \n",
        "            # to give an upper bound on the maximum length of words to consider\n",
        "            for j in range(MAX_LEN_WORD):\n",
        "                try:\n",
        "                    split_sent = story[i][0].split()\n",
        "                    sent_seq.append(word2idx.get(split_sent[j]))\n",
        "                except:  \n",
        "                    # exception will be there when there will not be any sentence for the length \n",
        "                    # and will be padded 0\n",
        "                    sent_seq.append(word2idx.get('PAD'))\n",
        "            story_seq.append(sent_seq)\n",
        "        \n",
        "        X_word[idx] = np.array(story_seq)\n",
        "\n",
        "    return (X_word, stories_labels)"
      ]
    },
    {
      "cell_type": "code",
      "execution_count": 27,
      "metadata": {
        "colab": {
          "base_uri": "https://localhost:8080/"
        },
        "id": "QqRfCf4eGJ70",
        "outputId": "f103c142-dfa6-4804-acd9-5ce536c4e4fc"
      },
      "outputs": [
        {
          "output_type": "stream",
          "name": "stderr",
          "text": [
            "100%|██████████| 30000/30000 [00:26<00:00, 1136.45it/s]\n",
            "30000it [00:43, 692.23it/s]\n"
          ]
        },
        {
          "output_type": "execute_result",
          "data": {
            "text/plain": [
              "(30000, 29, 40)"
            ]
          },
          "metadata": {},
          "execution_count": 27
        }
      ],
      "source": [
        "# preprocess the training corpus\n",
        "X_train, stories_labels_train = represent_stories(train)\n",
        "X_train.shape"
      ]
    },
    {
      "cell_type": "code",
      "execution_count": 28,
      "metadata": {
        "colab": {
          "base_uri": "https://localhost:8080/"
        },
        "id": "msLAKDqyGd7L",
        "outputId": "e8e5e614-d4a1-4316-d483-bb36b927de61"
      },
      "outputs": [
        {
          "output_type": "stream",
          "name": "stderr",
          "text": [
            "100%|██████████| 10000/10000 [00:05<00:00, 1928.08it/s]\n",
            "10000it [00:13, 747.40it/s]\n"
          ]
        },
        {
          "output_type": "execute_result",
          "data": {
            "text/plain": [
              "(10000, 29, 40)"
            ]
          },
          "metadata": {},
          "execution_count": 28
        }
      ],
      "source": [
        "# preprocess the validation set\n",
        "X_valid, stories_labels_valid = represent_stories(valid)\n",
        "X_valid.shape"
      ]
    },
    {
      "cell_type": "code",
      "execution_count": 29,
      "metadata": {
        "id": "8lOOt9gqGiZN"
      },
      "outputs": [],
      "source": [
        "def prepare_labels(story_labels):\n",
        "    y = [[tag2idx[w[1]] for w in s] for s in story_labels]\n",
        "    y = pad_sequences(maxlen=max_len_story, \n",
        "                  sequences=y, \n",
        "                  value=tag2idx[\"PAD\"], \n",
        "                  padding='post', \n",
        "                  truncating='post')\n",
        "    y = y.reshape(-1, max_len_story, 1)\n",
        "    \n",
        "    return y"
      ]
    },
    {
      "cell_type": "code",
      "execution_count": 30,
      "metadata": {
        "colab": {
          "base_uri": "https://localhost:8080/"
        },
        "id": "MEqo1x6bGjxo",
        "outputId": "6a63942e-76bd-448e-ac1d-03d6a72a9410"
      },
      "outputs": [
        {
          "output_type": "execute_result",
          "data": {
            "text/plain": [
              "((30000, 29, 1), (10000, 29, 1))"
            ]
          },
          "metadata": {},
          "execution_count": 30
        }
      ],
      "source": [
        "# preprocess the train and validation labels\n",
        "train_labels = prepare_labels(stories_labels_train)\n",
        "valid_labels = prepare_labels(stories_labels_valid)\n",
        "\n",
        "train_labels.shape, valid_labels.shape"
      ]
    },
    {
      "cell_type": "markdown",
      "metadata": {
        "id": "6LcyrayfGtUs"
      },
      "source": [
        "# **Model building**"
      ]
    },
    {
      "cell_type": "markdown",
      "metadata": {
        "id": "rzjW3b9iHyJY"
      },
      "source": [
        "Building a neural model using the TimeDistributed, CNN, LSTM, Embedding, Bidirectional, and Dense layers from Keras.Initializing the Embedding layer to have the pre-trained \"GloVe: Global Vectors for Word Representation\" embeddings."
      ]
    },
    {
      "cell_type": "markdown",
      "metadata": {
        "id": "7uaa9UJxH7CD"
      },
      "source": [
        "\n",
        "\n",
        "*   The architecture that works extremely well for my case is the CNN-LSTM-based architecture. This is because the CNNs can efficiently encode the neighborhood information and the LSTMs capture the sequential information of the text document.\n",
        "\n",
        "*   In this case, the text embedding matrix has been initialized with pre-trained GloVe embeddings. The main reason is that the GloVe embeddings already capture the semantic relationship between the words of a large text corpus, so it’s helpful for our model’s embedding layer to get initialized with the GloVe vectors. Initializing the text embedding matrix with the pre-trained GloVe embeddings gives the deep neural model a good initialization, which helps the model converge faster and more efficiently.\n",
        "\n",
        "*   Moreover, in this case, the TimeDistributed layer has been used instead of the vanilla linear/non-linear layer. We use it because the problem is a sequence tagging problem and, therefore, the output with respect to each sequence/time point needs to be monitored. This problem falls into the class of entity extraction or sequence tagging problems, where each sequence needs to be tagged into one of the categories that need TimeDistributed implementation.\n",
        "*   Furthermore, this approach is well tested.Starting with a relatively standardized approach is likely going to get you better results faster.\n",
        "\n",
        "\n",
        "\n"
      ]
    },
    {
      "cell_type": "markdown",
      "metadata": {
        "id": "5D4VYEakIQ3a"
      },
      "source": [
        "## **Using GloVe 100d embeddings**"
      ]
    },
    {
      "cell_type": "markdown",
      "metadata": {
        "id": "vKKK9forJ1AP"
      },
      "source": [
        "Create an embedding matrix in which integer encodings of the words from our vocabulary get mapped to their corresponding vector representations from the GloVe embeddings."
      ]
    },
    {
      "cell_type": "code",
      "execution_count": 31,
      "metadata": {
        "id": "ONdqVnG7JQCD"
      },
      "outputs": [],
      "source": [
        "# Reference: https://blog.keras.io/using-pre-trained-word-embeddings-in-a-keras-model.html\n",
        "def get_embedding_matrix(word_index, embedding_path, embedding_dim):\n",
        "    embedding_matrix_all = {}\n",
        "    with open(embedding_path) as f:\n",
        "        for line in f:  # every line contains word followed by the vector value\n",
        "            values = line.split()\n",
        "            word = values[0]\n",
        "            coefs = np.asarray(values[1:], dtype='float32')\n",
        "            embedding_matrix_all[word] = coefs\n",
        "\n",
        "    # prepare embedding matrix with just the words in our word_index dictionary\n",
        "    num_words = len(word_index) \n",
        "    embedding_matrix = np.zeros((num_words, embedding_dim))\n",
        "\n",
        "    for word, i in word_index.items():\n",
        "        embedding_vector = embedding_matrix_all.get(word)\n",
        "        if embedding_vector is not None:\n",
        "            # words not found in embedding index will be all-zeros.\n",
        "            embedding_matrix[i] = embedding_vector\n",
        "  \n",
        "    return embedding_matrix\n",
        "\n",
        "\n",
        "\n",
        "    "
      ]
    },
    {
      "cell_type": "markdown",
      "metadata": {
        "id": "z6P2BWCAJ_Jw"
      },
      "source": [
        "## **Build your model in tf.keras**"
      ]
    },
    {
      "cell_type": "markdown",
      "metadata": {
        "id": "4RlmkUrJL6JH"
      },
      "source": [
        "The “weights” argument of the embedding layer is initialized to the embedding matrix created earlier.\n",
        "The embedding layer is be trainable as well.\n",
        "The activation for the last dense layer is “softmax.”"
      ]
    },
    {
      "cell_type": "code",
      "execution_count": 32,
      "metadata": {
        "id": "yqolCuOFKCYf"
      },
      "outputs": [],
      "source": [
        "# construct the model\n",
        "EMBEDDING_PATH = '/content/drive/MyDrive/project/glove.6B.100d.txt'\n",
        "EMBEDDING_DIM = 100\n",
        "\n",
        "def get_baseline_model1():\n",
        "    #max_len_story=29 \n",
        "    #max_len_word=40\n",
        "    #n_words=166254\n",
        "    word_in = Input(shape=(max_len_story, MAX_LEN_WORD,))\n",
        "\n",
        "    emb_word = TimeDistributed(\n",
        "        Embedding(input_dim=(n_words + 2), \n",
        "            output_dim=EMBEDDING_DIM,\n",
        "            input_length=MAX_LEN_WORD, \n",
        "            weights=[get_embedding_matrix(word2idx, \n",
        "                EMBEDDING_PATH, EMBEDDING_DIM)], \n",
        "            trainable=True\n",
        "        )\t\n",
        "    )(word_in)\n",
        "\n",
        "\n",
        "    conv_layer = TimeDistributed(Convolution1D(128, 3, activation='relu'))(emb_word)\n",
        "    conv_layer = TimeDistributed(GlobalAveragePooling1D())(conv_layer)\n",
        "    main_lstm = Bidirectional(LSTM(units=32, return_sequences=True))(conv_layer)\n",
        "    out = TimeDistributed(Dense(n_tags + 1, activation=\"softmax\"))(main_lstm)\n",
        "    \n",
        "    model = Model([word_in], out)\n",
        "    \n",
        "\n",
        "    return model"
      ]
    },
    {
      "cell_type": "code",
      "execution_count": 33,
      "metadata": {
        "id": "2_Fjpc5yK2g0",
        "colab": {
          "base_uri": "https://localhost:8080/"
        },
        "outputId": "65adec19-f11a-44c8-df71-3eed9436ced7"
      },
      "outputs": [
        {
          "output_type": "stream",
          "name": "stdout",
          "text": [
            "Model: \"model\"\n",
            "_________________________________________________________________\n",
            " Layer (type)                Output Shape              Param #   \n",
            "=================================================================\n",
            " input_1 (InputLayer)        [(None, 29, 40)]          0         \n",
            "                                                                 \n",
            " time_distributed (TimeDistr  (None, 29, 40, 100)      16625600  \n",
            " ibuted)                                                         \n",
            "                                                                 \n",
            " time_distributed_1 (TimeDis  (None, 29, 38, 128)      38528     \n",
            " tributed)                                                       \n",
            "                                                                 \n",
            " time_distributed_2 (TimeDis  (None, 29, 128)          0         \n",
            " tributed)                                                       \n",
            "                                                                 \n",
            " bidirectional (Bidirectiona  (None, 29, 64)           41216     \n",
            " l)                                                              \n",
            "                                                                 \n",
            " time_distributed_3 (TimeDis  (None, 29, 3)            195       \n",
            " tributed)                                                       \n",
            "                                                                 \n",
            "=================================================================\n",
            "Total params: 16,705,539\n",
            "Trainable params: 16,705,539\n",
            "Non-trainable params: 0\n",
            "_________________________________________________________________\n"
          ]
        }
      ],
      "source": [
        "# model summary\n",
        "model1 = get_baseline_model1()\n",
        "model1.summary()"
      ]
    },
    {
      "cell_type": "markdown",
      "metadata": {
        "id": "kDZGAEOLLQaY"
      },
      "source": [
        "## **Plot the model architecture**"
      ]
    },
    {
      "cell_type": "code",
      "execution_count": 34,
      "metadata": {
        "colab": {
          "base_uri": "https://localhost:8080/",
          "height": 644
        },
        "id": "nMRhETauLSRb",
        "outputId": "b280a146-99ea-4708-b927-49962ee72350"
      },
      "outputs": [
        {
          "output_type": "execute_result",
          "data": {
            "image/png": "[encoded data removed]",
            "text/plain": [
              "<IPython.core.display.Image object>"
            ]
          },
          "metadata": {},
          "execution_count": 34
        }
      ],
      "source": [
        "tf.keras.utils.plot_model(model1, 'model1.png', show_shapes=True)"
      ]
    },
    {
      "cell_type": "markdown",
      "metadata": {
        "id": "Dx6vu5gHLsDI"
      },
      "source": [
        "## **Model training**"
      ]
    },
    {
      "cell_type": "markdown",
      "source": [
        "Training the CNN-LSTM models and specifying the values of all the parameters and hyperparameters of the model, including epochs, batch_size, optimizers, and metrics to be monitored.\n",
        "\n",
        "\n",
        "\n",
        "The use of wandb not only helps with saving the best snapshot of the model but also provides a set of useful visualizations of the model performance in terms of its accuracy metrics, which in turn helps in making better decisions."
      ],
      "metadata": {
        "id": "CrJqsSyy8MoZ"
      }
    },
    {
      "cell_type": "code",
      "execution_count": 35,
      "metadata": {
        "colab": {
          "base_uri": "https://localhost:8080/",
          "height": 477
        },
        "id": "mFm_QSpiLtfw",
        "outputId": "8075cd6f-2a8b-4e8e-dfe5-b4258289a004"
      },
      "outputs": [
        {
          "output_type": "stream",
          "name": "stdout",
          "text": [
            "\u001b[K     |████████████████████████████████| 1.9 MB 32.5 MB/s \n",
            "\u001b[K     |████████████████████████████████| 182 kB 75.6 MB/s \n",
            "\u001b[K     |████████████████████████████████| 168 kB 70.3 MB/s \n",
            "\u001b[K     |████████████████████████████████| 62 kB 1.4 MB/s \n",
            "\u001b[K     |████████████████████████████████| 168 kB 77.4 MB/s \n",
            "\u001b[K     |████████████████████████████████| 166 kB 77.9 MB/s \n",
            "\u001b[K     |████████████████████████████████| 166 kB 83.3 MB/s \n",
            "\u001b[K     |████████████████████████████████| 162 kB 85.8 MB/s \n",
            "\u001b[K     |████████████████████████████████| 162 kB 61.9 MB/s \n",
            "\u001b[K     |████████████████████████████████| 158 kB 81.9 MB/s \n",
            "\u001b[K     |████████████████████████████████| 157 kB 85.1 MB/s \n",
            "\u001b[K     |████████████████████████████████| 157 kB 81.7 MB/s \n",
            "\u001b[K     |████████████████████████████████| 157 kB 63.9 MB/s \n",
            "\u001b[K     |████████████████████████████████| 157 kB 81.4 MB/s \n",
            "\u001b[K     |████████████████████████████████| 157 kB 80.4 MB/s \n",
            "\u001b[K     |████████████████████████████████| 157 kB 82.1 MB/s \n",
            "\u001b[K     |████████████████████████████████| 157 kB 66.6 MB/s \n",
            "\u001b[K     |████████████████████████████████| 156 kB 87.2 MB/s \n",
            "\u001b[?25h  Building wheel for pathtools (setup.py) ... \u001b[?25l\u001b[?25hdone\n"
          ]
        },
        {
          "output_type": "display_data",
          "data": {
            "text/plain": [
              "<IPython.core.display.Javascript object>"
            ],
            "application/javascript": [
              "\n",
              "        window._wandbApiKey = new Promise((resolve, reject) => {\n",
              "            function loadScript(url) {\n",
              "            return new Promise(function(resolve, reject) {\n",
              "                let newScript = document.createElement(\"script\");\n",
              "                newScript.onerror = reject;\n",
              "                newScript.onload = resolve;\n",
              "                document.body.appendChild(newScript);\n",
              "                newScript.src = url;\n",
              "            });\n",
              "            }\n",
              "            loadScript(\"https://cdn.jsdelivr.net/npm/postmate/build/postmate.min.js\").then(() => {\n",
              "            const iframe = document.createElement('iframe')\n",
              "            iframe.style.cssText = \"width:0;height:0;border:none\"\n",
              "            document.body.appendChild(iframe)\n",
              "            const handshake = new Postmate({\n",
              "                container: iframe,\n",
              "                url: 'https://wandb.ai/authorize'\n",
              "            });\n",
              "            const timeout = setTimeout(() => reject(\"Couldn't auto authenticate\"), 5000)\n",
              "            handshake.then(function(child) {\n",
              "                child.on('authorize', data => {\n",
              "                    clearTimeout(timeout)\n",
              "                    resolve(data)\n",
              "                });\n",
              "            });\n",
              "            })\n",
              "        });\n",
              "    "
            ]
          },
          "metadata": {}
        },
        {
          "output_type": "stream",
          "name": "stderr",
          "text": [
            "\u001b[34m\u001b[1mwandb\u001b[0m: Logging into wandb.ai. (Learn how to deploy a W&B server locally: https://wandb.me/wandb-server)\n",
            "\u001b[34m\u001b[1mwandb\u001b[0m: You can find your API key in your browser here: https://wandb.ai/authorize\n",
            "wandb: Paste an API key from your profile and hit enter, or press ctrl+c to quit: "
          ]
        },
        {
          "name": "stdout",
          "output_type": "stream",
          "text": [
            "··········\n"
          ]
        },
        {
          "output_type": "stream",
          "name": "stderr",
          "text": [
            "\u001b[34m\u001b[1mwandb\u001b[0m: Appending key for api.wandb.ai to your netrc file: /root/.netrc\n"
          ]
        },
        {
          "output_type": "execute_result",
          "data": {
            "text/plain": [
              "True"
            ]
          },
          "metadata": {},
          "execution_count": 35
        }
      ],
      "source": [
        "!pip install wandb -qq\n",
        "# import wandb and authenticate it\n",
        "import wandb\n",
        "from wandb.keras import WandbCallback\n",
        "\n",
        "wandb.login()"
      ]
    },
    {
      "cell_type": "code",
      "source": [
        "# set up an early stopping callback to prevent overfitting\n",
        "es = tf.keras.callbacks.EarlyStopping(monitor='val_loss', patience=2, restore_best_weights=True)"
      ],
      "metadata": {
        "id": "_4ddpdDb3zyu"
      },
      "execution_count": 36,
      "outputs": []
    },
    {
      "cell_type": "code",
      "source": [
        "# initialize wandb\n",
        "wandb.init(project=\"text_summarizer\", entity=\"chimi-pt\")"
      ],
      "metadata": {
        "colab": {
          "base_uri": "https://localhost:8080/",
          "height": 110
        },
        "id": "87hDBQ1s33uy",
        "outputId": "cf7a1f92-955e-43ae-b17e-141e47e87933"
      },
      "execution_count": 37,
      "outputs": [
        {
          "output_type": "stream",
          "name": "stderr",
          "text": [
            "\u001b[34m\u001b[1mwandb\u001b[0m: Currently logged in as: \u001b[33mchimi-pt\u001b[0m. Use \u001b[1m`wandb login --relogin`\u001b[0m to force relogin\n"
          ]
        },
        {
          "output_type": "display_data",
          "data": {
            "text/plain": [
              "<IPython.core.display.HTML object>"
            ],
            "text/html": [
              "Tracking run with wandb version 0.13.6"
            ]
          },
          "metadata": {}
        },
        {
          "output_type": "display_data",
          "data": {
            "text/plain": [
              "<IPython.core.display.HTML object>"
            ],
            "text/html": [
              "Run data is saved locally in <code>/content/wandb/run-20221209_081413-33hefspi</code>"
            ]
          },
          "metadata": {}
        },
        {
          "output_type": "display_data",
          "data": {
            "text/plain": [
              "<IPython.core.display.HTML object>"
            ],
            "text/html": [
              "Syncing run <strong><a href=\"https://wandb.ai/chimi-pt/text_summarizer/runs/33hefspi\" target=\"_blank\">worthy-wood-6</a></strong> to <a href=\"https://wandb.ai/chimi-pt/text_summarizer\" target=\"_blank\">Weights & Biases</a> (<a href=\"https://wandb.me/run\" target=\"_blank\">docs</a>)<br/>"
            ]
          },
          "metadata": {}
        },
        {
          "output_type": "execute_result",
          "data": {
            "text/html": [
              "<button onClick=\"this.nextSibling.style.display='block';this.style.display='none';\">Display W&B run</button><iframe src=\"https://wandb.ai/chimi-pt/text_summarizer/runs/33hefspi?jupyter=true\" style=\"border:none;width:100%;height:420px;display:none;\"></iframe>"
            ],
            "text/plain": [
              "<wandb.sdk.wandb_run.Run at 0x7f7ba0aaf670>"
            ]
          },
          "metadata": {},
          "execution_count": 37
        }
      ]
    },
    {
      "cell_type": "code",
      "execution_count": 38,
      "metadata": {
        "colab": {
          "base_uri": "https://localhost:8080/"
        },
        "id": "sghvMHqHsHed",
        "outputId": "6392155c-9ea4-49e2-d2f0-caccba800775"
      },
      "outputs": [
        {
          "output_type": "stream",
          "name": "stderr",
          "text": [
            "\u001b[34m\u001b[1mwandb\u001b[0m: \u001b[33mWARNING\u001b[0m The save_model argument by default saves the model in the HDF5 format that cannot save custom objects like subclassed models and custom layers. This behavior will be deprecated in a future release in favor of the SavedModel format. Meanwhile, the HDF5 model is saved as W&B files and the SavedModel as W&B Artifacts.\n"
          ]
        },
        {
          "output_type": "stream",
          "name": "stdout",
          "text": [
            "Epoch 1/10\n",
            "469/469 [==============================] - ETA: 0s - loss: 0.3521 - accuracy: 0.8374"
          ]
        },
        {
          "output_type": "stream",
          "name": "stderr",
          "text": [
            "WARNING:absl:Found untraced functions such as _jit_compiled_convolution_op, lstm_cell_4_layer_call_fn, lstm_cell_4_layer_call_and_return_conditional_losses, lstm_cell_5_layer_call_fn, lstm_cell_5_layer_call_and_return_conditional_losses while saving (showing 5 of 5). These functions will not be directly callable after loading.\n",
            "\u001b[34m\u001b[1mwandb\u001b[0m: Adding directory to artifact (/content/wandb/run-20221209_081413-33hefspi/files/model-best)... Done. 1.2s\n"
          ]
        },
        {
          "output_type": "stream",
          "name": "stdout",
          "text": [
            "\b\b\b\b\b\b\b\b\b\b\b\b\b\b\b\b\b\b\b\b\b\b\b\b\b\b\b\b\b\b\b\b\b\b\b\b\b\b\b\b\b\b\b\b\b\b\b\b\b\b\b\b\b\b\b\b\b\b\b\b\b\b\b\b\b\b\b\b\b\b\b\b\b\b\b\b\b\b\b\b\b\b\b\b\r469/469 [==============================] - 49s 71ms/step - loss: 0.3521 - accuracy: 0.8374 - val_loss: 0.3054 - val_accuracy: 0.8558\n",
            "Epoch 2/10\n",
            "468/469 [============================>.] - ETA: 0s - loss: 0.2968 - accuracy: 0.8598"
          ]
        },
        {
          "output_type": "stream",
          "name": "stderr",
          "text": [
            "WARNING:absl:Found untraced functions such as _jit_compiled_convolution_op, lstm_cell_4_layer_call_fn, lstm_cell_4_layer_call_and_return_conditional_losses, lstm_cell_5_layer_call_fn, lstm_cell_5_layer_call_and_return_conditional_losses while saving (showing 5 of 5). These functions will not be directly callable after loading.\n",
            "\u001b[34m\u001b[1mwandb\u001b[0m: Adding directory to artifact (/content/wandb/run-20221209_081413-33hefspi/files/model-best)... Done. 1.2s\n"
          ]
        },
        {
          "output_type": "stream",
          "name": "stdout",
          "text": [
            "\b\b\b\b\b\b\b\b\b\b\b\b\b\b\b\b\b\b\b\b\b\b\b\b\b\b\b\b\b\b\b\b\b\b\b\b\b\b\b\b\b\b\b\b\b\b\b\b\b\b\b\b\b\b\b\b\b\b\b\b\b\b\b\b\b\b\b\b\b\b\b\b\b\b\b\b\b\b\b\b\b\b\b\b\r469/469 [==============================] - 30s 65ms/step - loss: 0.2968 - accuracy: 0.8598 - val_loss: 0.2976 - val_accuracy: 0.8593\n",
            "Epoch 3/10\n",
            "469/469 [==============================] - 12s 26ms/step - loss: 0.2808 - accuracy: 0.8682 - val_loss: 0.3018 - val_accuracy: 0.8551\n",
            "Epoch 4/10\n",
            "469/469 [==============================] - 12s 26ms/step - loss: 0.2623 - accuracy: 0.8794 - val_loss: 0.3126 - val_accuracy: 0.8523\n"
          ]
        },
        {
          "output_type": "execute_result",
          "data": {
            "text/plain": [
              "<keras.callbacks.History at 0x7f7ba0075910>"
            ]
          },
          "metadata": {},
          "execution_count": 38
        }
      ],
      "source": [
        "# reinitialize, compile, and train the model\n",
        "model1 = get_baseline_model1()\n",
        "model1.compile(optimizer=tf.keras.optimizers.Adam(), loss='sparse_categorical_crossentropy', metrics=['accuracy'])\n",
        "\n",
        "model1.fit([X_train],\n",
        "     train_labels, \n",
        "     validation_data=([X_valid], valid_labels),\n",
        "     batch_size=64, \n",
        "     epochs=10,\n",
        "     callbacks=[es, WandbCallback()],\n",
        "     verbose=1)"
      ]
    },
    {
      "cell_type": "code",
      "source": [
        "# serialize model for later use\n",
        "model.save('baseline_summarizer.h5')"
      ],
      "metadata": {
        "id": "PQU5VuFEJC_j"
      },
      "execution_count": 39,
      "outputs": []
    },
    {
      "cell_type": "markdown",
      "source": [
        "# Running Sample Predictions and Evaluating the Baseline Model"
      ],
      "metadata": {
        "id": "lcQHjjld8n4c"
      }
    },
    {
      "cell_type": "markdown",
      "source": [
        "## Preparing a Single Test Data Point"
      ],
      "metadata": {
        "id": "JgAnTLSE83Ki"
      }
    },
    {
      "cell_type": "markdown",
      "source": [
        "Preprocessing of the test data point and ensuring that all the relevant preprocessing done to the training data is replicated here. Otherwise, the model might not understand the input format, which would result in an error."
      ],
      "metadata": {
        "id": "5BVTQQYe9B-d"
      }
    },
    {
      "cell_type": "code",
      "source": [
        "def represent_single_story(df, story_id):\n",
        "\tstories_labels = []\n",
        "\ttemp_story = []\n",
        "\t\n",
        "\t# get all the sentences with respect to the givcen story id\n",
        "\ttemp_story = list(df[df['story_id'] == story_id]['sent_lab'])\n",
        "\tstories_labels.append(temp_story)\n",
        "\t\n",
        "\t# initialize an all-zeros array in the shape of \n",
        "\t# (nb_stories, max_story_length, max_sentence_lenght)\n",
        "\tX_word = np.zeros((len(stories_labels), max_len_story, MAX_LEN_WORD))\n",
        "\t\n",
        "\tfor idx, story in tqdm(enumerate(stories_labels)):\n",
        "\t\tstory_seq = []\n",
        "\t\t\n",
        "\t\t# to give an upper bound on the maximum length of the word sequence for sentence\n",
        "\t\tfor i in range(max_len_story):\n",
        "\t\t\tsent_seq = []\n",
        "\t\t\t\n",
        "\t\t\t# to give an upper bound on the maximum length of words to consider\n",
        "\t\t\tfor j in range(MAX_LEN_WORD):\n",
        "\t\t\t\ttry:\n",
        "\t\t\t\t\tsplit_sent = story[i][0].split()\n",
        "\t\t\t\t\tsent_seq.append(word2idx.get(split_sent[j]))\n",
        "\t\t\t\texcept:  \n",
        "\t\t\t\t\t# exception will be there when there will not be any sentence for the length \n",
        "\t\t\t\t\t# and will be padded 0\n",
        "\t\t\t\t\tsent_seq.append(word2idx.get('PAD'))\n",
        "\t\t\tstory_seq.append(sent_seq)\n",
        "\t\t\n",
        "\t\tX_word[idx] = np.array(story_seq)\n",
        "\n",
        "\treturn (X_word, stories_labels)"
      ],
      "metadata": {
        "id": "YiBJ_FlaJGzZ"
      },
      "execution_count": 40,
      "outputs": []
    },
    {
      "cell_type": "code",
      "source": [
        "# get a random story id from the test set\n",
        "random_test_story_id = np.random.choice(np.unique(test['story_id'].tolist()), 1)[0]\n",
        "random_test_story_id"
      ],
      "metadata": {
        "colab": {
          "base_uri": "https://localhost:8080/"
        },
        "id": "mKhOq6MMJH99",
        "outputId": "8b4a7bac-c5c6-4e36-f265-e21222bbd9d4"
      },
      "execution_count": 41,
      "outputs": [
        {
          "output_type": "execute_result",
          "data": {
            "text/plain": [
              "67178"
            ]
          },
          "metadata": {},
          "execution_count": 41
        }
      ]
    },
    {
      "cell_type": "code",
      "source": [
        "# preprocess the story \n",
        "X_word_test_single_story, story_labels_single = represent_single_story(test, random_test_story_id)\n",
        "X_word_test_single_story.shape"
      ],
      "metadata": {
        "colab": {
          "base_uri": "https://localhost:8080/"
        },
        "id": "yCd8dmQ6JLW1",
        "outputId": "a1c1a872-7f83-42d5-9783-bbb986f8a985"
      },
      "execution_count": 42,
      "outputs": [
        {
          "output_type": "stream",
          "name": "stderr",
          "text": [
            "1it [00:00, 224.82it/s]\n"
          ]
        },
        {
          "output_type": "execute_result",
          "data": {
            "text/plain": [
              "(1, 29, 40)"
            ]
          },
          "metadata": {},
          "execution_count": 42
        }
      ]
    },
    {
      "cell_type": "code",
      "source": [
        "# preprocess the labels associated with the story\n",
        "y_test_single = prepare_labels(story_labels_single)\n",
        "y_test_single.shape"
      ],
      "metadata": {
        "colab": {
          "base_uri": "https://localhost:8080/"
        },
        "id": "MIJFoEuQJQLa",
        "outputId": "7f6a0210-d820-47b7-e88d-0a71b0e94e3a"
      },
      "execution_count": 43,
      "outputs": [
        {
          "output_type": "execute_result",
          "data": {
            "text/plain": [
              "(1, 29, 1)"
            ]
          },
          "metadata": {},
          "execution_count": 43
        }
      ]
    },
    {
      "cell_type": "code",
      "source": [
        "# run the model to predict on the preprocessed story and take an argmax\n",
        "# along the last dimension\n",
        "summary_predicted = model1.predict(X_word_test_single_story).argmax(axis=-1)\n",
        "summary_predicted.shape"
      ],
      "metadata": {
        "colab": {
          "base_uri": "https://localhost:8080/"
        },
        "id": "1SXHarByJTmB",
        "outputId": "748e3478-e063-4468-dda7-0b8bcba2b9a8"
      },
      "execution_count": 44,
      "outputs": [
        {
          "output_type": "stream",
          "name": "stdout",
          "text": [
            "1/1 [==============================] - 1s 705ms/step\n"
          ]
        },
        {
          "output_type": "execute_result",
          "data": {
            "text/plain": [
              "(1, 29)"
            ]
          },
          "metadata": {},
          "execution_count": 44
        }
      ]
    },
    {
      "cell_type": "code",
      "source": [
        "# let's manually see the predictions and compare them with the ground truth labels\n",
        "print(summary_predicted)\n",
        "print(y_test_single.squeeze(axis=-1))"
      ],
      "metadata": {
        "colab": {
          "base_uri": "https://localhost:8080/"
        },
        "id": "VG4a40Nf9fQJ",
        "outputId": "ef50cf5f-ac8a-4f50-fc57-e01c80899864"
      },
      "execution_count": 45,
      "outputs": [
        {
          "output_type": "stream",
          "name": "stdout",
          "text": [
            "[[2 2 1 1 1 1 1 1 1 1 1 1 1 1 1 1 1 1 1 0 0 0 0 0 0 0 0 0 0]]\n",
            "[[1 2 1 1 1 1 2 2 2 1 2 1 1 1 1 1 1 1 1 0 0 0 0 0 0 0 0 0 0]]\n"
          ]
        }
      ]
    },
    {
      "cell_type": "markdown",
      "source": [
        "Tag of 2 denotes that the corresponding sentence within a story is a summary candidate. "
      ],
      "metadata": {
        "id": "-ylA69HX9tIR"
      }
    },
    {
      "cell_type": "code",
      "source": [
        "# get the index from prediction array where the value is 2\n",
        "# and use it to query the preprocessed test story\n",
        "idx = np.where(summary_predicted==2)\n",
        "summary_predicted = X_word_test_single_story[idx]"
      ],
      "metadata": {
        "id": "lqmQSVzM9yWh"
      },
      "execution_count": 46,
      "outputs": []
    },
    {
      "cell_type": "code",
      "source": [
        "decoded_predictions = []\n",
        "\n",
        "# decode the predictions\n",
        "for i in range(len(summary_predicted)):\n",
        "    # get the sentence\n",
        "    sentence_encoded = summary_predicted[i]\n",
        "    \n",
        "    # initialize an empty list to populate the decoded words with\n",
        "    sentence_deocded = [idx2word.get(idx) for idx in sentence_encoded if idx!=0 if idx2word.get(idx) is not None]\n",
        "    \n",
        "    # prepare the sentence\n",
        "    sentence_deocded = ' '.join(sentence_deocded)\n",
        "    \n",
        "    decoded_predictions.append(sentence_deocded)"
      ],
      "metadata": {
        "id": "jqcIPnWR92Ed"
      },
      "execution_count": 47,
      "outputs": []
    },
    {
      "cell_type": "code",
      "source": [
        "# preview\n",
        "print(f'Predicted summaries of story id {random_test_story_id}')\n",
        "decoded_predictions"
      ],
      "metadata": {
        "colab": {
          "base_uri": "https://localhost:8080/"
        },
        "id": "tv-OZK5596vF",
        "outputId": "ee2b86ac-d010-416d-af9d-b3b5e228b14c"
      },
      "execution_count": 48,
      "outputs": [
        {
          "output_type": "stream",
          "name": "stdout",
          "text": [
            "Predicted summaries of story id 67178\n"
          ]
        },
        {
          "output_type": "execute_result",
          "data": {
            "text/plain": [
              "['after nearly four years of hoping waiting and praying an ohio family learned sunday their missing son died in iraq',\n",
              " 'a memorial at glen este high school in ohio in honor of sgt keith matthew']"
            ]
          },
          "metadata": {},
          "execution_count": 48
        }
      ]
    },
    {
      "cell_type": "code",
      "source": [
        "# let's now see the original summary candidates\n",
        "print(f'Original summaries of story id {random_test_story_id}')\n",
        "test.query('story_id == @random_test_story_id & label_sent==1')['sentence'].tolist()"
      ],
      "metadata": {
        "colab": {
          "base_uri": "https://localhost:8080/"
        },
        "id": "N18r0Cqn-EKY",
        "outputId": "4ed15136-3abf-43d8-a89b-eb48aec957b0"
      },
      "execution_count": 49,
      "outputs": [
        {
          "output_type": "stream",
          "name": "stdout",
          "text": [
            "Original summaries of story id 67178\n"
          ]
        },
        {
          "output_type": "execute_result",
          "data": {
            "text/plain": [
              "['a memorial at glen este high school in ohio in honor of sgt keith matthew maupin',\n",
              " 'a defense department official also confirmed the identification saying maupins remains were found last week but dna results just came in',\n",
              " 'coalition forces found the remains after a local iraqi tipped them off military officials said',\n",
              " 'maupin who was at the time of his capture and another soldier sgt elmer krause were captured by insurgents april after their convoy came under attack near baghdad international airport a week later maupin was shown on a videotape surrounded by several armed masked men',\n",
              " 'krauses body was found two weeks later']"
            ]
          },
          "metadata": {},
          "execution_count": 49
        }
      ]
    },
    {
      "cell_type": "markdown",
      "source": [
        "# Evaluating The Model"
      ],
      "metadata": {
        "id": "rh7F5PuZ-UeW"
      }
    },
    {
      "cell_type": "markdown",
      "source": [
        "the model performance on unseen test data is crucial. In this case, variants of F1 metrics have been considered as the relevant metric for the generalizability check, since the F1 metric provides a sense of both the sensitivity and specificity of the model."
      ],
      "metadata": {
        "id": "oyZdjdbI-cnv"
      }
    },
    {
      "cell_type": "markdown",
      "source": [
        "The F1 score is a measure of a test’s accuracy and is defined as the weighted harmonic mean of precision and recall. The ideal or best value of an F1 score is 1 and the worst value is 0. However, when there is a class imbalance, the F1 score is a better metric than accuracy."
      ],
      "metadata": {
        "id": "0qlK06a7-fWK"
      }
    },
    {
      "cell_type": "markdown",
      "source": [
        "there is an imbalance amongst the classes, namely important and unimportant, since there will only be a few sentences in a passage that are important to be in the summary. Hence, in our case, the F1 score has been selected as the relevant metric."
      ],
      "metadata": {
        "id": "HUU36wdv-i6B"
      }
    },
    {
      "cell_type": "code",
      "source": [
        "# first preprocess the entire test set\n",
        "X_test, stories_labels_test = represent_stories(test)\n",
        "X_test.shape"
      ],
      "metadata": {
        "colab": {
          "base_uri": "https://localhost:8080/"
        },
        "id": "6aJlMnbN-rld",
        "outputId": "36f299b3-3864-45dc-b2fd-030095bcd3ac"
      },
      "execution_count": 50,
      "outputs": [
        {
          "output_type": "stream",
          "name": "stderr",
          "text": [
            "100%|██████████| 10000/10000 [00:05<00:00, 1706.74it/s]\n",
            "10000it [00:15, 643.92it/s]\n"
          ]
        },
        {
          "output_type": "execute_result",
          "data": {
            "text/plain": [
              "(10000, 29, 40)"
            ]
          },
          "metadata": {},
          "execution_count": 50
        }
      ]
    },
    {
      "cell_type": "code",
      "source": [
        "test_labels = prepare_labels(stories_labels_test)\n",
        "test_labels = test_labels.squeeze(-1) # to make it compatible for the evaluation metrics\n",
        "test_labels.shape"
      ],
      "metadata": {
        "colab": {
          "base_uri": "https://localhost:8080/"
        },
        "id": "4sICfQrW-uZi",
        "outputId": "90516921-afb5-4419-abc7-05f51d702761"
      },
      "execution_count": 51,
      "outputs": [
        {
          "output_type": "execute_result",
          "data": {
            "text/plain": [
              "(10000, 29)"
            ]
          },
          "metadata": {},
          "execution_count": 51
        }
      ]
    },
    {
      "cell_type": "markdown",
      "source": [
        "Make predictions regarding the preprocessed data points using the model\n",
        "Apply an argmax operation on the predictions along the last dimension. You should get an array with a dimension of (10000, 29)."
      ],
      "metadata": {
        "id": "ILadX1s-_LF3"
      }
    },
    {
      "cell_type": "code",
      "source": [
        "# retrieve the predictions from all the test data points and take argmax along the last dimension\n",
        "test_predictions = model1.predict(X_test).argmax(axis=-1)\n",
        "test_predictions.shape"
      ],
      "metadata": {
        "colab": {
          "base_uri": "https://localhost:8080/"
        },
        "id": "HJjk9tz7-wUw",
        "outputId": "84c1ceb0-544b-4512-ea39-bbf0d375f8c5"
      },
      "execution_count": 52,
      "outputs": [
        {
          "output_type": "stream",
          "name": "stdout",
          "text": [
            "313/313 [==============================] - 1s 4ms/step\n"
          ]
        },
        {
          "output_type": "execute_result",
          "data": {
            "text/plain": [
              "(10000, 29)"
            ]
          },
          "metadata": {},
          "execution_count": 52
        }
      ]
    },
    {
      "cell_type": "code",
      "source": [
        "# evaluation metrics\n",
        "from sklearn.metrics import precision_score, recall_score , f1_score"
      ],
      "metadata": {
        "id": "Y_a-jkSe-0dr"
      },
      "execution_count": 53,
      "outputs": []
    },
    {
      "cell_type": "markdown",
      "source": [
        "Calculate three F1 scores (macro, micro, and weighted) between the preprocessed ground truth labels and the predictions."
      ],
      "metadata": {
        "id": "rgsn31w5_FWU"
      }
    },
    {
      "cell_type": "code",
      "source": [
        "f1_macro = []\n",
        "f1_micro = []\n",
        "f1_weight = []\n",
        "\n",
        "for i in tqdm(range(0, len(test_labels))) :\n",
        "    \n",
        "    metric_macro = f1_score(test_labels[i], test_predictions[i], average='macro')\n",
        "    metric_micro = f1_score(test_labels[i], test_predictions[i], average='micro')\n",
        "    metric_weight = f1_score(test_labels[i], test_predictions[i], average='weighted')\n",
        "    \n",
        "    f1_macro.append(metric_macro)\n",
        "    f1_micro.append(metric_micro)\n",
        "    f1_weight.append(metric_weight)"
      ],
      "metadata": {
        "colab": {
          "base_uri": "https://localhost:8080/"
        },
        "id": "W1mybvUZ-2qr",
        "outputId": "dfc26f93-2004-4f9e-b5c7-714b0bbd01d0"
      },
      "execution_count": 54,
      "outputs": [
        {
          "output_type": "stream",
          "name": "stderr",
          "text": [
            "100%|██████████| 10000/10000 [00:18<00:00, 535.02it/s]\n"
          ]
        }
      ]
    },
    {
      "cell_type": "code",
      "source": [
        "# create a dataframe from the numbers\n",
        "df_metric = pd.DataFrame()\n",
        "df_metric['f1_macro'] =  f1_macro\n",
        "df_metric['f1_micro'] =  f1_micro\n",
        "df_metric['f1_weight'] = f1_weight\n",
        "\n",
        "df_metric.head()"
      ],
      "metadata": {
        "colab": {
          "base_uri": "https://localhost:8080/",
          "height": 206
        },
        "id": "Xyz5AS0t-5UU",
        "outputId": "c1d028c9-4f2a-4895-8261-23ad00adb58e"
      },
      "execution_count": 55,
      "outputs": [
        {
          "output_type": "execute_result",
          "data": {
            "text/plain": [
              "   f1_macro  f1_micro  f1_weight\n",
              "0  0.683333  0.793103   0.774138\n",
              "1  0.832753  0.896552   0.878169\n",
              "2  0.750000  0.862069   0.821839\n",
              "3  0.817143  0.896552   0.880591\n",
              "4  0.632653  0.827586   0.750176"
            ],
            "text/html": [
              "\n",
              "  <div id=\"df-e56e584e-0b47-40be-acb6-62270a8e10a3\">\n",
              "    <div class=\"colab-df-container\">\n",
              "      <div>\n",
              "<style scoped>\n",
              "    .dataframe tbody tr th:only-of-type {\n",
              "        vertical-align: middle;\n",
              "    }\n",
              "\n",
              "    .dataframe tbody tr th {\n",
              "        vertical-align: top;\n",
              "    }\n",
              "\n",
              "    .dataframe thead th {\n",
              "        text-align: right;\n",
              "    }\n",
              "</style>\n",
              "<table border=\"1\" class=\"dataframe\">\n",
              "  <thead>\n",
              "    <tr style=\"text-align: right;\">\n",
              "      <th></th>\n",
              "      <th>f1_macro</th>\n",
              "      <th>f1_micro</th>\n",
              "      <th>f1_weight</th>\n",
              "    </tr>\n",
              "  </thead>\n",
              "  <tbody>\n",
              "    <tr>\n",
              "      <th>0</th>\n",
              "      <td>0.683333</td>\n",
              "      <td>0.793103</td>\n",
              "      <td>0.774138</td>\n",
              "    </tr>\n",
              "    <tr>\n",
              "      <th>1</th>\n",
              "      <td>0.832753</td>\n",
              "      <td>0.896552</td>\n",
              "      <td>0.878169</td>\n",
              "    </tr>\n",
              "    <tr>\n",
              "      <th>2</th>\n",
              "      <td>0.750000</td>\n",
              "      <td>0.862069</td>\n",
              "      <td>0.821839</td>\n",
              "    </tr>\n",
              "    <tr>\n",
              "      <th>3</th>\n",
              "      <td>0.817143</td>\n",
              "      <td>0.896552</td>\n",
              "      <td>0.880591</td>\n",
              "    </tr>\n",
              "    <tr>\n",
              "      <th>4</th>\n",
              "      <td>0.632653</td>\n",
              "      <td>0.827586</td>\n",
              "      <td>0.750176</td>\n",
              "    </tr>\n",
              "  </tbody>\n",
              "</table>\n",
              "</div>\n",
              "      <button class=\"colab-df-convert\" onclick=\"convertToInteractive('df-e56e584e-0b47-40be-acb6-62270a8e10a3')\"\n",
              "              title=\"Convert this dataframe to an interactive table.\"\n",
              "              style=\"display:none;\">\n",
              "        \n",
              "  <svg xmlns=\"http://www.w3.org/2000/svg\" height=\"24px\"viewBox=\"0 0 24 24\"\n",
              "       width=\"24px\">\n",
              "    <path d=\"M0 0h24v24H0V0z\" fill=\"none\"/>\n",
              "    <path d=\"M18.56 5.44l.94 2.06.94-2.06 2.06-.94-2.06-.94-.94-2.06-.94 2.06-2.06.94zm-11 1L8.5 8.5l.94-2.06 2.06-.94-2.06-.94L8.5 2.5l-.94 2.06-2.06.94zm10 10l.94 2.06.94-2.06 2.06-.94-2.06-.94-.94-2.06-.94 2.06-2.06.94z\"/><path d=\"M17.41 7.96l-1.37-1.37c-.4-.4-.92-.59-1.43-.59-.52 0-1.04.2-1.43.59L10.3 9.45l-7.72 7.72c-.78.78-.78 2.05 0 2.83L4 21.41c.39.39.9.59 1.41.59.51 0 1.02-.2 1.41-.59l7.78-7.78 2.81-2.81c.8-.78.8-2.07 0-2.86zM5.41 20L4 18.59l7.72-7.72 1.47 1.35L5.41 20z\"/>\n",
              "  </svg>\n",
              "      </button>\n",
              "      \n",
              "  <style>\n",
              "    .colab-df-container {\n",
              "      display:flex;\n",
              "      flex-wrap:wrap;\n",
              "      gap: 12px;\n",
              "    }\n",
              "\n",
              "    .colab-df-convert {\n",
              "      background-color: #E8F0FE;\n",
              "      border: none;\n",
              "      border-radius: 50%;\n",
              "      cursor: pointer;\n",
              "      display: none;\n",
              "      fill: #1967D2;\n",
              "      height: 32px;\n",
              "      padding: 0 0 0 0;\n",
              "      width: 32px;\n",
              "    }\n",
              "\n",
              "    .colab-df-convert:hover {\n",
              "      background-color: #E2EBFA;\n",
              "      box-shadow: 0px 1px 2px rgba(60, 64, 67, 0.3), 0px 1px 3px 1px rgba(60, 64, 67, 0.15);\n",
              "      fill: #174EA6;\n",
              "    }\n",
              "\n",
              "    [theme=dark] .colab-df-convert {\n",
              "      background-color: #3B4455;\n",
              "      fill: #D2E3FC;\n",
              "    }\n",
              "\n",
              "    [theme=dark] .colab-df-convert:hover {\n",
              "      background-color: #434B5C;\n",
              "      box-shadow: 0px 1px 3px 1px rgba(0, 0, 0, 0.15);\n",
              "      filter: drop-shadow(0px 1px 2px rgba(0, 0, 0, 0.3));\n",
              "      fill: #FFFFFF;\n",
              "    }\n",
              "  </style>\n",
              "\n",
              "      <script>\n",
              "        const buttonEl =\n",
              "          document.querySelector('#df-e56e584e-0b47-40be-acb6-62270a8e10a3 button.colab-df-convert');\n",
              "        buttonEl.style.display =\n",
              "          google.colab.kernel.accessAllowed ? 'block' : 'none';\n",
              "\n",
              "        async function convertToInteractive(key) {\n",
              "          const element = document.querySelector('#df-e56e584e-0b47-40be-acb6-62270a8e10a3');\n",
              "          const dataTable =\n",
              "            await google.colab.kernel.invokeFunction('convertToInteractive',\n",
              "                                                     [key], {});\n",
              "          if (!dataTable) return;\n",
              "\n",
              "          const docLinkHtml = 'Like what you see? Visit the ' +\n",
              "            '<a target=\"_blank\" href=https://colab.research.google.com/notebooks/data_table.ipynb>data table notebook</a>'\n",
              "            + ' to learn more about interactive tables.';\n",
              "          element.innerHTML = '';\n",
              "          dataTable['output_type'] = 'display_data';\n",
              "          await google.colab.output.renderOutput(dataTable, element);\n",
              "          const docLink = document.createElement('div');\n",
              "          docLink.innerHTML = docLinkHtml;\n",
              "          element.appendChild(docLink);\n",
              "        }\n",
              "      </script>\n",
              "    </div>\n",
              "  </div>\n",
              "  "
            ]
          },
          "metadata": {},
          "execution_count": 55
        }
      ]
    },
    {
      "cell_type": "markdown",
      "source": [
        "## Serialization of other important results"
      ],
      "metadata": {
        "id": "NVP_hT0n_sLr"
      }
    },
    {
      "cell_type": "code",
      "source": [
        "train.to_csv('train.csv', index=False)\n",
        "valid.to_csv('valid.csv', index=False)\n",
        "test.to_csv('test.csv', index=False)"
      ],
      "metadata": {
        "id": "fA3zdbJa_wTC"
      },
      "execution_count": 56,
      "outputs": []
    },
    {
      "cell_type": "code",
      "source": [
        "import pickle\n",
        "\n",
        "pickle.dump(word2idx, open('word_dictionary.pkl', 'wb'))\n",
        "pickle.dump(idx2word, open('inverse_word_dictionary.pkl', 'wb'))"
      ],
      "metadata": {
        "id": "lYVRDm-Z_y9m"
      },
      "execution_count": 57,
      "outputs": []
    },
    {
      "cell_type": "markdown",
      "source": [
        "# Plugging an Attention Mechanism into Our CNN-LSTM Model"
      ],
      "metadata": {
        "id": "c3vJZhYiAakE"
      }
    },
    {
      "cell_type": "markdown",
      "source": [
        "## Training a CNN-LSTM Model with an Attention Mechanism"
      ],
      "metadata": {
        "id": "xO7ykwKeAgbq"
      }
    },
    {
      "cell_type": "markdown",
      "source": [
        "Attention mechanism in the CNN-LSTM architecture helps the model attend to specific portions of the input dynamically. In this specific problem, I have used attention at the word level for the sentences in the story."
      ],
      "metadata": {
        "id": "AXmkDGOLAnAn"
      }
    },
    {
      "cell_type": "markdown",
      "source": [
        "Attention mechanism adds very few parameters to the network, but, by adding attention to the network, it allows the network to work with fewer parameters"
      ],
      "metadata": {
        "id": "OT3VIJPkAzzs"
      }
    },
    {
      "cell_type": "markdown",
      "source": [
        "Setup again"
      ],
      "metadata": {
        "id": "23rI8tL2G6aZ"
      }
    },
    {
      "cell_type": "code",
      "source": [
        "# prepare TensorFlow dataset for optimized performance (optional)\n",
        "train_ds = tf.data.Dataset.from_tensor_slices((X_train, train_labels))\n",
        "train_ds = (\n",
        "    train_ds\n",
        "    .batch(64)\n",
        "    .cache()\n",
        "    .prefetch(tf.data.experimental.AUTOTUNE)\n",
        ")\n",
        "\n",
        "validation_ds = tf.data.Dataset.from_tensor_slices((X_valid, valid_labels))\n",
        "validation_ds = (\n",
        "    validation_ds\n",
        "    .batch(64)\n",
        "    .cache()\n",
        "    .prefetch(tf.data.experimental.AUTOTUNE)\n",
        ")"
      ],
      "metadata": {
        "id": "ivu_fcRqBp3q"
      },
      "execution_count": 29,
      "outputs": []
    },
    {
      "cell_type": "markdown",
      "source": [
        "## New Model"
      ],
      "metadata": {
        "id": "NkoUWbslB5yg"
      }
    },
    {
      "cell_type": "code",
      "source": [
        "# construct the model\n",
        "EMBEDDING_PATH = '/content/drive/MyDrive/project/glove.6B.100d.txt'\n",
        "EMBEDDING_DIM = 100\n",
        "\n",
        "def get_baseline_model2():\n",
        "    word_in = Input(shape=(max_len_story, MAX_LEN_WORD,))\n",
        "\n",
        "    emb_word = TimeDistributed(\n",
        "        Embedding(input_dim=(n_words + 2), \n",
        "            output_dim=EMBEDDING_DIM,\n",
        "            input_length=MAX_LEN_WORD,\n",
        "            weights=[get_embedding_matrix(word2idx, \n",
        "                EMBEDDING_PATH, EMBEDDING_DIM)], \n",
        "            trainable=True\n",
        "        )\t\n",
        "    )(word_in)\n",
        "\n",
        "    emb_word2 = TimeDistributed(Convolution1D(32, 2, activation='relu',padding= 'same'))(emb_word)\n",
        "    \n",
        "    activations_weights = TimeDistributed(Dense(1, activation='tanh'))(emb_word2)\n",
        "    activations_weights = TimeDistributed(Flatten())(activations_weights)\n",
        "    activations_weights = TimeDistributed(Activation('softmax'))(activations_weights)\n",
        "    activations_weights = TimeDistributed(RepeatVector(32))(activations_weights)\n",
        "    activations_weights = TimeDistributed(Permute([2, 1]))(activations_weights)\n",
        "    activations_weighted = multiply([emb_word2,activations_weights])\n",
        "    \n",
        "    emb_sent = TimeDistributed(Lambda(lambda x: K.sum(x, axis=-2)))(activations_weighted)\n",
        "    \n",
        "    main_lstm = Bidirectional(LSTM(units=16, return_sequences=True))(emb_sent)\n",
        "    out = TimeDistributed(Dense(n_tags + 1, activation='softmax'))(main_lstm)\n",
        "\n",
        "    model = Model([word_in], out)\n",
        "\n",
        "    return model"
      ],
      "metadata": {
        "id": "-n-RW9UHB0Gf"
      },
      "execution_count": 31,
      "outputs": []
    },
    {
      "cell_type": "code",
      "source": [
        "# plot the model architecture\n",
        "model2 = get_baseline_model2()\n",
        "tf.keras.utils.plot_model(model2, 'model2.png', show_shapes=True)"
      ],
      "metadata": {
        "colab": {
          "base_uri": "https://localhost:8080/",
          "height": 1000
        },
        "id": "Btik2vcYCDeH",
        "outputId": "6cb00055-f4c4-43a8-dd5f-d08f79a6eae1"
      },
      "execution_count": 32,
      "outputs": [
        {
          "output_type": "execute_result",
          "data": {
            "image/png": "[encoded data removed]",
            "text/plain": [
              "<IPython.core.display.Image object>"
            ]
          },
          "metadata": {},
          "execution_count": 32
        }
      ]
    },
    {
      "cell_type": "markdown",
      "source": [
        "## Train the model"
      ],
      "metadata": {
        "id": "xVsOEA26DEvG"
      }
    },
    {
      "cell_type": "markdown",
      "source": [
        "Train with a learning rate schedule."
      ],
      "metadata": {
        "id": "TilSd7qxDMJN"
      }
    },
    {
      "cell_type": "code",
      "source": [
        "# CUSTOM LEARNING SCHEUDLE\n",
        "# Reference: https://www.kaggle.com/cdeotte/how-to-compete-with-gpus-workshop\n",
        "LR_START = 1e-5\n",
        "LR_MAX = 1e-3\n",
        "LR_RAMPUP_EPOCHS = 5\n",
        "LR_SUSTAIN_EPOCHS = 0\n",
        "LR_STEP_DECAY = 0.75\n",
        "\n",
        "def lrfn(epoch):\n",
        "    if epoch < LR_RAMPUP_EPOCHS:\n",
        "        lr = (LR_MAX - LR_START) / LR_RAMPUP_EPOCHS * epoch + LR_START\n",
        "    elif epoch < LR_RAMPUP_EPOCHS + LR_SUSTAIN_EPOCHS:\n",
        "        lr = LR_MAX\n",
        "    else:\n",
        "        lr = LR_MAX * LR_STEP_DECAY**((epoch - LR_RAMPUP_EPOCHS - LR_SUSTAIN_EPOCHS)//10)\n",
        "    return lr\n",
        "    \n",
        "lr2 = tf.keras.callbacks.LearningRateScheduler(lrfn, verbose = True)\n",
        "\n",
        "rng = [i for i in range(100)]\n",
        "y = [lrfn(x) for x in rng]\n",
        "plt.plot(rng, y); \n",
        "plt.xlabel('epoch',size=14); plt.ylabel('learning rate',size=14)\n",
        "plt.title('Training Schedule',size=16); plt.show()"
      ],
      "metadata": {
        "colab": {
          "base_uri": "https://localhost:8080/",
          "height": 301
        },
        "id": "g6zb1QZVDOm1",
        "outputId": "b2ae2d90-82d4-4904-923e-b60255da2b99"
      },
      "execution_count": 38,
      "outputs": [
        {
          "output_type": "display_data",
          "data": {
            "text/plain": [
              "<Figure size 432x288 with 1 Axes>"
            ],
            "image/png": "[encoded data removed]"
          },
          "metadata": {
            "needs_background": "light"
          }
        }
      ]
    },
    {
      "cell_type": "code",
      "source": [
        "wandb.init(project=\"text_summarizer\", entity=\"chimi-pt\")\n",
        "\n",
        "optimizer = tf.keras.optimizers.Adam(lr=0.00001)\n",
        "\n",
        "# reinitialize, compile, and train the model\n",
        "model2 = get_baseline_model2()\n",
        "model2.compile(optimizer=optimizer, loss='sparse_categorical_crossentropy', metrics=['accuracy'])\n",
        "\n",
        "model2.fit(train_ds,\n",
        "     validation_data=validation_ds,\n",
        "     epochs=50,\n",
        "     callbacks=[es, lr2, WandbCallback()],\n",
        "     verbose=1)"
      ],
      "metadata": {
        "colab": {
          "base_uri": "https://localhost:8080/",
          "height": 823
        },
        "id": "HzfRVBY3DeT8",
        "outputId": "ce3a2a95-2809-4ea7-849b-9b2259d56b1f"
      },
      "execution_count": 42,
      "outputs": [
        {
          "output_type": "display_data",
          "data": {
            "text/plain": [
              "<IPython.core.display.HTML object>"
            ],
            "text/html": [
              "Finishing last run (ID:3ki90ly6) before initializing another..."
            ]
          },
          "metadata": {}
        },
        {
          "output_type": "display_data",
          "data": {
            "text/plain": [
              "<IPython.core.display.HTML object>"
            ],
            "text/html": [
              "Waiting for W&B process to finish... <strong style=\"color:green\">(success).</strong>"
            ]
          },
          "metadata": {}
        },
        {
          "output_type": "display_data",
          "data": {
            "text/plain": [
              "<IPython.core.display.HTML object>"
            ],
            "text/html": [
              "Synced <strong style=\"color:#cdcd00\">ruby-rain-9</strong>: <a href=\"https://wandb.ai/chimi-pt/text_summarizer/runs/3ki90ly6\" target=\"_blank\">https://wandb.ai/chimi-pt/text_summarizer/runs/3ki90ly6</a><br/>Synced 4 W&B file(s), 0 media file(s), 0 artifact file(s) and 0 other file(s)"
            ]
          },
          "metadata": {}
        },
        {
          "output_type": "display_data",
          "data": {
            "text/plain": [
              "<IPython.core.display.HTML object>"
            ],
            "text/html": [
              "Find logs at: <code>./wandb/run-20221209_092151-3ki90ly6/logs</code>"
            ]
          },
          "metadata": {}
        },
        {
          "output_type": "display_data",
          "data": {
            "text/plain": [
              "<IPython.core.display.HTML object>"
            ],
            "text/html": [
              "Successfully finished last run (ID:3ki90ly6). Initializing new run:<br/>"
            ]
          },
          "metadata": {}
        },
        {
          "output_type": "display_data",
          "data": {
            "text/plain": [
              "<IPython.core.display.HTML object>"
            ],
            "text/html": [
              "Tracking run with wandb version 0.13.6"
            ]
          },
          "metadata": {}
        },
        {
          "output_type": "display_data",
          "data": {
            "text/plain": [
              "<IPython.core.display.HTML object>"
            ],
            "text/html": [
              "Run data is saved locally in <code>/content/wandb/run-20221209_092314-u4nag5ml</code>"
            ]
          },
          "metadata": {}
        },
        {
          "output_type": "display_data",
          "data": {
            "text/plain": [
              "<IPython.core.display.HTML object>"
            ],
            "text/html": [
              "Syncing run <strong><a href=\"https://wandb.ai/chimi-pt/text_summarizer/runs/u4nag5ml\" target=\"_blank\">major-waterfall-10</a></strong> to <a href=\"https://wandb.ai/chimi-pt/text_summarizer\" target=\"_blank\">Weights & Biases</a> (<a href=\"https://wandb.me/run\" target=\"_blank\">docs</a>)<br/>"
            ]
          },
          "metadata": {}
        },
        {
          "output_type": "stream",
          "name": "stderr",
          "text": [
            "\u001b[34m\u001b[1mwandb\u001b[0m: \u001b[33mWARNING\u001b[0m The save_model argument by default saves the model in the HDF5 format that cannot save custom objects like subclassed models and custom layers. This behavior will be deprecated in a future release in favor of the SavedModel format. Meanwhile, the HDF5 model is saved as W&B files and the SavedModel as W&B Artifacts.\n"
          ]
        },
        {
          "output_type": "stream",
          "name": "stdout",
          "text": [
            "\n",
            "Epoch 1: LearningRateScheduler setting learning rate to 1e-05.\n",
            "Epoch 1/50\n",
            "469/469 [==============================] - ETA: 0s - loss: 1.0777 - accuracy: 0.7521"
          ]
        },
        {
          "output_type": "stream",
          "name": "stderr",
          "text": [
            "WARNING:absl:Found untraced functions such as _jit_compiled_convolution_op, lstm_cell_7_layer_call_fn, lstm_cell_7_layer_call_and_return_conditional_losses, lstm_cell_8_layer_call_fn, lstm_cell_8_layer_call_and_return_conditional_losses while saving (showing 5 of 5). These functions will not be directly callable after loading.\n",
            "\u001b[34m\u001b[1mwandb\u001b[0m: Adding directory to artifact (/content/wandb/run-20221209_092314-u4nag5ml/files/model-best)... Done. 1.3s\n"
          ]
        },
        {
          "output_type": "stream",
          "name": "stdout",
          "text": [
            "\b\b\b\b\b\b\b\b\b\b\b\b\b\b\b\b\b\b\b\b\b\b\b\b\b\b\b\b\b\b\b\b\b\b\b\b\b\b\b\b\b\b\b\b\b\b\b\b\b\b\b\b\b\b\b\b\b\b\b\b\b\b\b\b\b\b\b\b\b\b\b\b\b\b\b\b\b\b\b\b\b\b\b\b\r469/469 [==============================] - 43s 66ms/step - loss: 1.0777 - accuracy: 0.7521 - val_loss: 1.0580 - val_accuracy: 0.7275 - lr: 1.0000e-05\n",
            "\n",
            "Epoch 2: LearningRateScheduler setting learning rate to 0.000208.\n",
            "Epoch 2/50\n",
            "469/469 [==============================] - ETA: 0s - loss: 0.4292 - accuracy: 0.8223"
          ]
        },
        {
          "output_type": "stream",
          "name": "stderr",
          "text": [
            "WARNING:absl:Found untraced functions such as _jit_compiled_convolution_op, lstm_cell_7_layer_call_fn, lstm_cell_7_layer_call_and_return_conditional_losses, lstm_cell_8_layer_call_fn, lstm_cell_8_layer_call_and_return_conditional_losses while saving (showing 5 of 5). These functions will not be directly callable after loading.\n",
            "\u001b[34m\u001b[1mwandb\u001b[0m: Adding directory to artifact (/content/wandb/run-20221209_092314-u4nag5ml/files/model-best)... Done. 1.2s\n"
          ]
        },
        {
          "output_type": "stream",
          "name": "stdout",
          "text": [
            "\b\b\b\b\b\b\b\b\b\b\b\b\b\b\b\b\b\b\b\b\b\b\b\b\b\b\b\b\b\b\b\b\b\b\b\b\b\b\b\b\b\b\b\b\b\b\b\b\b\b\b\b\b\b\b\b\b\b\b\b\b\b\b\b\b\b\b\b\b\b\b\b\b\b\b\b\b\b\b\b\b\b\b\b\r469/469 [==============================] - 26s 55ms/step - loss: 0.4292 - accuracy: 0.8223 - val_loss: 0.3242 - val_accuracy: 0.8490 - lr: 2.0800e-04\n",
            "\n",
            "Epoch 3: LearningRateScheduler setting learning rate to 0.000406.\n",
            "Epoch 3/50\n",
            "469/469 [==============================] - ETA: 0s - loss: 0.3158 - accuracy: 0.8518"
          ]
        },
        {
          "output_type": "stream",
          "name": "stderr",
          "text": [
            "WARNING:absl:Found untraced functions such as _jit_compiled_convolution_op, lstm_cell_7_layer_call_fn, lstm_cell_7_layer_call_and_return_conditional_losses, lstm_cell_8_layer_call_fn, lstm_cell_8_layer_call_and_return_conditional_losses while saving (showing 5 of 5). These functions will not be directly callable after loading.\n",
            "\u001b[34m\u001b[1mwandb\u001b[0m: Adding directory to artifact (/content/wandb/run-20221209_092314-u4nag5ml/files/model-best)... Done. 1.2s\n"
          ]
        },
        {
          "output_type": "stream",
          "name": "stdout",
          "text": [
            "\b\b\b\b\b\b\b\b\b\b\b\b\b\b\b\b\b\b\b\b\b\b\b\b\b\b\b\b\b\b\b\b\b\b\b\b\b\b\b\b\b\b\b\b\b\b\b\b\b\b\b\b\b\b\b\b\b\b\b\b\b\b\b\b\b\b\b\b\b\b\b\b\b\b\b\b\b\b\b\b\b\b\b\b\r469/469 [==============================] - 28s 61ms/step - loss: 0.3158 - accuracy: 0.8518 - val_loss: 0.3068 - val_accuracy: 0.8557 - lr: 4.0600e-04\n",
            "\n",
            "Epoch 4: LearningRateScheduler setting learning rate to 0.0006039999999999999.\n",
            "Epoch 4/50\n",
            "468/469 [============================>.] - ETA: 0s - loss: 0.2999 - accuracy: 0.8588"
          ]
        },
        {
          "output_type": "stream",
          "name": "stderr",
          "text": [
            "WARNING:absl:Found untraced functions such as _jit_compiled_convolution_op, lstm_cell_7_layer_call_fn, lstm_cell_7_layer_call_and_return_conditional_losses, lstm_cell_8_layer_call_fn, lstm_cell_8_layer_call_and_return_conditional_losses while saving (showing 5 of 5). These functions will not be directly callable after loading.\n",
            "\u001b[34m\u001b[1mwandb\u001b[0m: Adding directory to artifact (/content/wandb/run-20221209_092314-u4nag5ml/files/model-best)... Done. 1.2s\n"
          ]
        },
        {
          "output_type": "stream",
          "name": "stdout",
          "text": [
            "\b\b\b\b\b\b\b\b\b\b\b\b\b\b\b\b\b\b\b\b\b\b\b\b\b\b\b\b\b\b\b\b\b\b\b\b\b\b\b\b\b\b\b\b\b\b\b\b\b\b\b\b\b\b\b\b\b\b\b\b\b\b\b\b\b\b\b\b\b\b\b\b\b\b\b\b\b\b\b\b\b\b\b\b\r469/469 [==============================] - 26s 55ms/step - loss: 0.2998 - accuracy: 0.8589 - val_loss: 0.2994 - val_accuracy: 0.8585 - lr: 6.0400e-04\n",
            "\n",
            "Epoch 5: LearningRateScheduler setting learning rate to 0.000802.\n",
            "Epoch 5/50\n",
            "469/469 [==============================] - 11s 24ms/step - loss: 0.2875 - accuracy: 0.8649 - val_loss: 0.3012 - val_accuracy: 0.8568 - lr: 8.0200e-04\n",
            "\n",
            "Epoch 6: LearningRateScheduler setting learning rate to 0.001.\n",
            "Epoch 6/50\n",
            "469/469 [==============================] - 11s 24ms/step - loss: 0.2727 - accuracy: 0.8728 - val_loss: 0.3110 - val_accuracy: 0.8510 - lr: 0.0010\n"
          ]
        },
        {
          "output_type": "execute_result",
          "data": {
            "text/plain": [
              "<keras.callbacks.History at 0x7f77d37e1fa0>"
            ]
          },
          "metadata": {},
          "execution_count": 42
        }
      ]
    },
    {
      "cell_type": "markdown",
      "source": [
        "## Running Sample Predictions and Evaluating Our Attention-Based Model"
      ],
      "metadata": {
        "id": "JKlUGe0wECsx"
      }
    },
    {
      "cell_type": "markdown",
      "source": [
        "Run inference on test data points with the attention-based model and evaluate the model using the F1 score."
      ],
      "metadata": {
        "id": "j7HkuxIlEKXU"
      }
    },
    {
      "cell_type": "markdown",
      "source": [
        "Run sample predictions with the attention-based model"
      ],
      "metadata": {
        "id": "AH8isvGlEkfP"
      }
    },
    {
      "cell_type": "code",
      "source": [
        "def represent_single_story(df, story_id):\n",
        "\tstories_labels = []\n",
        "\ttemp_story = []\n",
        "\t\n",
        "\t# get all the sentences with respect to the givcen story id\n",
        "\ttemp_story = list(df[df['story_id'] == story_id]['sent_lab'])\n",
        "\tstories_labels.append(temp_story)\n",
        "\t\n",
        "\t# initialize an all-zeros array in the shape of \n",
        "\t# (nb_stories, max_story_length, max_sentence_lenght)\n",
        "\tX_word = np.zeros((len(stories_labels), max_len_story, MAX_LEN_WORD))\n",
        "\t\n",
        "\tfor idx, story in tqdm(enumerate(stories_labels)):\n",
        "\t\tstory_seq = []\n",
        "\t\t\n",
        "\t\t# to give an upper bound on the maximum length of the word sequence for sentence\n",
        "\t\tfor i in range(max_len_story):\n",
        "\t\t\tsent_seq = []\n",
        "\t\t\t\n",
        "\t\t\t# to give an upper bound on the maximum length of words to consider\n",
        "\t\t\tfor j in range(MAX_LEN_WORD):\n",
        "\t\t\t\ttry:\n",
        "\t\t\t\t\tsplit_sent = story[i][0].split()\n",
        "\t\t\t\t\tsent_seq.append(word2idx.get(split_sent[j]))\n",
        "\t\t\t\texcept:  \n",
        "\t\t\t\t\t# exception will be there when there will not be any sentence for the length \n",
        "\t\t\t\t\t# and will be padded 0\n",
        "\t\t\t\t\tsent_seq.append(word2idx.get('PAD'))\n",
        "\t\t\tstory_seq.append(sent_seq)\n",
        "\t\t\n",
        "\t\tX_word[idx] = np.array(story_seq)\n",
        "\n",
        "\treturn (X_word, stories_labels)"
      ],
      "metadata": {
        "id": "qrk9HQ59EnFZ"
      },
      "execution_count": 68,
      "outputs": []
    },
    {
      "cell_type": "code",
      "source": [
        "# get a random story id from the test set\n",
        "random_test_story_id = np.random.choice(np.unique(test['story_id'].tolist()), 1)[0]\n",
        "random_test_story_id"
      ],
      "metadata": {
        "colab": {
          "base_uri": "https://localhost:8080/"
        },
        "id": "5wOGAHaeEpVp",
        "outputId": "4b87636c-6bc7-4b67-c771-bdbd8dbac66f"
      },
      "execution_count": 69,
      "outputs": [
        {
          "output_type": "execute_result",
          "data": {
            "text/plain": [
              "8059"
            ]
          },
          "metadata": {},
          "execution_count": 69
        }
      ]
    },
    {
      "cell_type": "code",
      "source": [
        "# preprocess the story \n",
        "X_word_test_single_story, story_labels_single = represent_single_story(test, random_test_story_id)\n",
        "X_word_test_single_story.shape"
      ],
      "metadata": {
        "colab": {
          "base_uri": "https://localhost:8080/"
        },
        "id": "rmCoRSXWErG9",
        "outputId": "ee3e9861-d515-4acb-e61e-a6de0b89d62b"
      },
      "execution_count": 70,
      "outputs": [
        {
          "output_type": "stream",
          "name": "stderr",
          "text": [
            "1it [00:00, 316.03it/s]\n"
          ]
        },
        {
          "output_type": "execute_result",
          "data": {
            "text/plain": [
              "(1, 29, 40)"
            ]
          },
          "metadata": {},
          "execution_count": 70
        }
      ]
    },
    {
      "cell_type": "code",
      "source": [
        "# preprocess the labels associated with the story\n",
        "y_test_single = prepare_labels(story_labels_single)\n",
        "y_test_single.shape"
      ],
      "metadata": {
        "colab": {
          "base_uri": "https://localhost:8080/"
        },
        "id": "fJLDL23_EtIL",
        "outputId": "2638abf0-f4d4-4250-fc7d-bbdeb51bab2c"
      },
      "execution_count": 71,
      "outputs": [
        {
          "output_type": "execute_result",
          "data": {
            "text/plain": [
              "(1, 29, 1)"
            ]
          },
          "metadata": {},
          "execution_count": 71
        }
      ]
    },
    {
      "cell_type": "code",
      "source": [
        "# run the model to predict on the preprocessed story and take an argmax\n",
        "# along the last dimension\n",
        "summary_predicted = model2.predict(X_word_test_single_story).argmax(axis=-1)\n",
        "summary_predicted.shape"
      ],
      "metadata": {
        "colab": {
          "base_uri": "https://localhost:8080/"
        },
        "id": "7FlN7QrDEvA7",
        "outputId": "fddc1e13-9acf-4aa1-f2e5-8505c42326d9"
      },
      "execution_count": 72,
      "outputs": [
        {
          "output_type": "stream",
          "name": "stdout",
          "text": [
            "1/1 [==============================] - 0s 21ms/step\n"
          ]
        },
        {
          "output_type": "execute_result",
          "data": {
            "text/plain": [
              "(1, 29)"
            ]
          },
          "metadata": {},
          "execution_count": 72
        }
      ]
    },
    {
      "cell_type": "code",
      "source": [
        "# let's manually see the predictions and compare them with the ground truth labels\n",
        "print(summary_predicted)\n",
        "print(y_test_single.squeeze(axis=-1))"
      ],
      "metadata": {
        "colab": {
          "base_uri": "https://localhost:8080/"
        },
        "id": "e0IBlVh9ExQt",
        "outputId": "4549c3dc-4f18-49b7-f031-ce7943aad410"
      },
      "execution_count": 73,
      "outputs": [
        {
          "output_type": "stream",
          "name": "stdout",
          "text": [
            "[[2 2 2 2 2 2 1 1 0 0 0 0 0 0 0 0 0 0 0 0 0 0 0 0 0 0 0 0 0]]\n",
            "[[2 2 1 2 2 2 1 1 0 0 0 0 0 0 0 0 0 0 0 0 0 0 0 0 0 0 0 0 0]]\n"
          ]
        }
      ]
    },
    {
      "cell_type": "code",
      "source": [
        "# get the index from prediction array where the value is 2\n",
        "# and use it to query the preprocessed test story\n",
        "idx = np.where(summary_predicted==2)\n",
        "summary_predicted = X_word_test_single_story[idx]"
      ],
      "metadata": {
        "id": "rb-VDtyBE0X3"
      },
      "execution_count": 74,
      "outputs": []
    },
    {
      "cell_type": "code",
      "source": [
        "decoded_predictions = []\n",
        "\n",
        "# decode the predictions\n",
        "for i in range(len(summary_predicted)):\n",
        "    # get the sentence\n",
        "    sentence_encoded = summary_predicted[i]\n",
        "    \n",
        "    # initialize an empty list to populate the decoded words with\n",
        "    sentence_decoded = [idx2word.get(idx) for idx in sentence_encoded if idx!=0 if idx2word.get(idx)!=None]\n",
        "    \n",
        "    # prepare the sentence\n",
        "    sentence_decoded = ' '.join(sentence_decoded)\n",
        "    \n",
        "    decoded_predictions.append(sentence_decoded)"
      ],
      "metadata": {
        "id": "tS6_m2_yE2kQ"
      },
      "execution_count": 75,
      "outputs": []
    },
    {
      "cell_type": "code",
      "source": [
        "# preview\n",
        "print(f'Predicted summaries of story id {random_test_story_id}')\n",
        "decoded_predictions"
      ],
      "metadata": {
        "colab": {
          "base_uri": "https://localhost:8080/"
        },
        "id": "zL2N3vXCE4i2",
        "outputId": "99b825fa-d843-4d3d-94c2-3e932576254e"
      },
      "execution_count": 76,
      "outputs": [
        {
          "output_type": "stream",
          "name": "stdout",
          "text": [
            "Predicted summaries of story id 8059\n"
          ]
        },
        {
          "output_type": "execute_result",
          "data": {
            "text/plain": [
              "['silverstone home of the british grand prix has officially unveiled a new circuit that will host both formula one and motogp this year',\n",
              " 'the new million layout has come in the wake of silverstone being handed the british grand prix for the next years after it looked certain the race would be moved to rival track donington park',\n",
              " 'the redesign apart from increasing the length of the track also sees famous sections of the old course bridge and priory removed altogether',\n",
              " 'new sections farm curve village corner the loop aintree corner and wellington straight have all been added and a new pit and paddock complex is currently in development this is expected to be completed ahead of the british grand prix',\n",
              " 'silverstone is owned by the british racing drivers club and president damon hill the world champion admitted to reporters that there was a financial risk involved in spending so much money on the new circuit',\n",
              " 'its a necessary risk the alternative was that the british grand prix would have gone off the calendar admitted hill']"
            ]
          },
          "metadata": {},
          "execution_count": 76
        }
      ]
    },
    {
      "cell_type": "code",
      "source": [
        "# let's now see the original summary candidates\n",
        "print(f'Original summaries of story id {random_test_story_id}')\n",
        "test.query('story_id == @random_test_story_id & label_sent==1')['sentence'].tolist()"
      ],
      "metadata": {
        "colab": {
          "base_uri": "https://localhost:8080/"
        },
        "id": "QMZB4pTCE7ia",
        "outputId": "b6ef4820-d349-4aba-e859-d9ca19cd8853"
      },
      "execution_count": 77,
      "outputs": [
        {
          "output_type": "stream",
          "name": "stdout",
          "text": [
            "Original summaries of story id 8059\n"
          ]
        },
        {
          "output_type": "execute_result",
          "data": {
            "text/plain": [
              "['silverstone home of the british grand prix has officially unveiled a new circuit that will host both formula one and motogp this year',\n",
              " 'the new million layout has come in the wake of silverstone being handed the british grand prix for the next years after it looked certain the race would be moved to rival track donington park',\n",
              " 'new sections farm curve village corner the loop aintree corner and wellington straight have all been added and a new pit and paddock complex is currently in development this is expected to be completed ahead of the british grand prix',\n",
              " 'silverstone is owned by the british racing drivers club and president damon hill the world champion admitted to reporters that there was a financial risk involved in spending so much money on the new circuit',\n",
              " 'its a necessary risk the alternative was that the british grand prix would have gone off the calendar admitted hill']"
            ]
          },
          "metadata": {},
          "execution_count": 77
        }
      ]
    },
    {
      "cell_type": "code",
      "source": [
        "# first preprocess the entire test set\n",
        "X_test, stories_labels_test = represent_stories(test)\n",
        "X_test.shape"
      ],
      "metadata": {
        "colab": {
          "base_uri": "https://localhost:8080/"
        },
        "id": "7hnsmLPaE_FJ",
        "outputId": "1698b5db-608b-4c2e-d4ba-b8d8393061ad"
      },
      "execution_count": 78,
      "outputs": [
        {
          "output_type": "stream",
          "name": "stderr",
          "text": [
            "100%|██████████| 10000/10000 [00:04<00:00, 2085.65it/s]\n",
            "10000it [00:13, 746.01it/s]\n"
          ]
        },
        {
          "output_type": "execute_result",
          "data": {
            "text/plain": [
              "(10000, 29, 40)"
            ]
          },
          "metadata": {},
          "execution_count": 78
        }
      ]
    },
    {
      "cell_type": "code",
      "source": [
        "test_labels = prepare_labels(stories_labels_test)\n",
        "test_labels = test_labels.squeeze(-1) # to make it compatible for the evaluation metrics\n",
        "test_labels.shape"
      ],
      "metadata": {
        "colab": {
          "base_uri": "https://localhost:8080/"
        },
        "id": "xxMo5dktFAq2",
        "outputId": "e97531e5-8e82-4336-d951-e51b5c52f7fd"
      },
      "execution_count": 79,
      "outputs": [
        {
          "output_type": "execute_result",
          "data": {
            "text/plain": [
              "(10000, 29)"
            ]
          },
          "metadata": {},
          "execution_count": 79
        }
      ]
    },
    {
      "cell_type": "code",
      "source": [
        "# retrieve the predictions from all the test data points and take argmax along the last dimension\n",
        "test_predictions = model2.predict(X_test).argmax(axis=-1)\n",
        "test_predictions.shape"
      ],
      "metadata": {
        "colab": {
          "base_uri": "https://localhost:8080/"
        },
        "id": "LAhFVIKfFCyE",
        "outputId": "7e4dd1d2-178c-4e7c-afc0-ff6ab68e8c39"
      },
      "execution_count": 80,
      "outputs": [
        {
          "output_type": "stream",
          "name": "stdout",
          "text": [
            "313/313 [==============================] - 1s 5ms/step\n"
          ]
        },
        {
          "output_type": "execute_result",
          "data": {
            "text/plain": [
              "(10000, 29)"
            ]
          },
          "metadata": {},
          "execution_count": 80
        }
      ]
    },
    {
      "cell_type": "markdown",
      "source": [
        "## Evaluate the model"
      ],
      "metadata": {
        "id": "YiOsw7bWGWc5"
      }
    },
    {
      "cell_type": "code",
      "source": [
        "# evaluation metrics\n",
        "from sklearn.metrics import f1_score"
      ],
      "metadata": {
        "id": "YrGwoxD-GZfh"
      },
      "execution_count": 81,
      "outputs": []
    },
    {
      "cell_type": "code",
      "source": [
        "f1_macro = []\n",
        "f1_micro = []\n",
        "f1_weight = []\n",
        "\n",
        "for i in tqdm(range(0, len(test_labels))) :\n",
        "    \n",
        "    metric_macro = f1_score(test_labels[i], test_predictions[i],average = 'macro')\n",
        "    metric_micro = f1_score(test_labels[i], test_predictions[i],average = 'micro')\n",
        "    metric_weight = f1_score(test_labels[i], test_predictions[i],average = 'weighted')\n",
        "    \n",
        "    f1_macro.append(metric_macro)\n",
        "    f1_micro.append(metric_micro)\n",
        "    f1_weight.append(metric_weight)"
      ],
      "metadata": {
        "colab": {
          "base_uri": "https://localhost:8080/"
        },
        "id": "vI4fF1cGGc1Z",
        "outputId": "6997315f-3b74-458f-cb5a-a510c134d47a"
      },
      "execution_count": 82,
      "outputs": [
        {
          "output_type": "stream",
          "name": "stderr",
          "text": [
            "100%|██████████| 10000/10000 [00:17<00:00, 558.15it/s]\n"
          ]
        }
      ]
    },
    {
      "cell_type": "code",
      "source": [
        "# create a dataframe from the numbers\n",
        "df_metric = pd.DataFrame()\n",
        "df_metric['f1_macro'] =  f1_macro\n",
        "df_metric['f1_micro'] =  f1_micro\n",
        "df_metric['f1_weight'] = f1_weight\n",
        "\n",
        "df_metric.head()"
      ],
      "metadata": {
        "colab": {
          "base_uri": "https://localhost:8080/",
          "height": 206
        },
        "id": "3uwAYYZrGlpc",
        "outputId": "1559c30f-f0eb-46b7-9bec-464019594b47"
      },
      "execution_count": 83,
      "outputs": [
        {
          "output_type": "execute_result",
          "data": {
            "text/plain": [
              "   f1_macro  f1_micro  f1_weight\n",
              "0  0.683333  0.793103   0.774138\n",
              "1  0.832753  0.896552   0.878169\n",
              "2  0.750000  0.862069   0.821839\n",
              "3  0.817143  0.896552   0.880591\n",
              "4  0.750000  0.862069   0.821839"
            ],
            "text/html": [
              "\n",
              "  <div id=\"df-46a7586a-64da-4a3c-b104-33941a6e08de\">\n",
              "    <div class=\"colab-df-container\">\n",
              "      <div>\n",
              "<style scoped>\n",
              "    .dataframe tbody tr th:only-of-type {\n",
              "        vertical-align: middle;\n",
              "    }\n",
              "\n",
              "    .dataframe tbody tr th {\n",
              "        vertical-align: top;\n",
              "    }\n",
              "\n",
              "    .dataframe thead th {\n",
              "        text-align: right;\n",
              "    }\n",
              "</style>\n",
              "<table border=\"1\" class=\"dataframe\">\n",
              "  <thead>\n",
              "    <tr style=\"text-align: right;\">\n",
              "      <th></th>\n",
              "      <th>f1_macro</th>\n",
              "      <th>f1_micro</th>\n",
              "      <th>f1_weight</th>\n",
              "    </tr>\n",
              "  </thead>\n",
              "  <tbody>\n",
              "    <tr>\n",
              "      <th>0</th>\n",
              "      <td>0.683333</td>\n",
              "      <td>0.793103</td>\n",
              "      <td>0.774138</td>\n",
              "    </tr>\n",
              "    <tr>\n",
              "      <th>1</th>\n",
              "      <td>0.832753</td>\n",
              "      <td>0.896552</td>\n",
              "      <td>0.878169</td>\n",
              "    </tr>\n",
              "    <tr>\n",
              "      <th>2</th>\n",
              "      <td>0.750000</td>\n",
              "      <td>0.862069</td>\n",
              "      <td>0.821839</td>\n",
              "    </tr>\n",
              "    <tr>\n",
              "      <th>3</th>\n",
              "      <td>0.817143</td>\n",
              "      <td>0.896552</td>\n",
              "      <td>0.880591</td>\n",
              "    </tr>\n",
              "    <tr>\n",
              "      <th>4</th>\n",
              "      <td>0.750000</td>\n",
              "      <td>0.862069</td>\n",
              "      <td>0.821839</td>\n",
              "    </tr>\n",
              "  </tbody>\n",
              "</table>\n",
              "</div>\n",
              "      <button class=\"colab-df-convert\" onclick=\"convertToInteractive('df-46a7586a-64da-4a3c-b104-33941a6e08de')\"\n",
              "              title=\"Convert this dataframe to an interactive table.\"\n",
              "              style=\"display:none;\">\n",
              "        \n",
              "  <svg xmlns=\"http://www.w3.org/2000/svg\" height=\"24px\"viewBox=\"0 0 24 24\"\n",
              "       width=\"24px\">\n",
              "    <path d=\"M0 0h24v24H0V0z\" fill=\"none\"/>\n",
              "    <path d=\"M18.56 5.44l.94 2.06.94-2.06 2.06-.94-2.06-.94-.94-2.06-.94 2.06-2.06.94zm-11 1L8.5 8.5l.94-2.06 2.06-.94-2.06-.94L8.5 2.5l-.94 2.06-2.06.94zm10 10l.94 2.06.94-2.06 2.06-.94-2.06-.94-.94-2.06-.94 2.06-2.06.94z\"/><path d=\"M17.41 7.96l-1.37-1.37c-.4-.4-.92-.59-1.43-.59-.52 0-1.04.2-1.43.59L10.3 9.45l-7.72 7.72c-.78.78-.78 2.05 0 2.83L4 21.41c.39.39.9.59 1.41.59.51 0 1.02-.2 1.41-.59l7.78-7.78 2.81-2.81c.8-.78.8-2.07 0-2.86zM5.41 20L4 18.59l7.72-7.72 1.47 1.35L5.41 20z\"/>\n",
              "  </svg>\n",
              "      </button>\n",
              "      \n",
              "  <style>\n",
              "    .colab-df-container {\n",
              "      display:flex;\n",
              "      flex-wrap:wrap;\n",
              "      gap: 12px;\n",
              "    }\n",
              "\n",
              "    .colab-df-convert {\n",
              "      background-color: #E8F0FE;\n",
              "      border: none;\n",
              "      border-radius: 50%;\n",
              "      cursor: pointer;\n",
              "      display: none;\n",
              "      fill: #1967D2;\n",
              "      height: 32px;\n",
              "      padding: 0 0 0 0;\n",
              "      width: 32px;\n",
              "    }\n",
              "\n",
              "    .colab-df-convert:hover {\n",
              "      background-color: #E2EBFA;\n",
              "      box-shadow: 0px 1px 2px rgba(60, 64, 67, 0.3), 0px 1px 3px 1px rgba(60, 64, 67, 0.15);\n",
              "      fill: #174EA6;\n",
              "    }\n",
              "\n",
              "    [theme=dark] .colab-df-convert {\n",
              "      background-color: #3B4455;\n",
              "      fill: #D2E3FC;\n",
              "    }\n",
              "\n",
              "    [theme=dark] .colab-df-convert:hover {\n",
              "      background-color: #434B5C;\n",
              "      box-shadow: 0px 1px 3px 1px rgba(0, 0, 0, 0.15);\n",
              "      filter: drop-shadow(0px 1px 2px rgba(0, 0, 0, 0.3));\n",
              "      fill: #FFFFFF;\n",
              "    }\n",
              "  </style>\n",
              "\n",
              "      <script>\n",
              "        const buttonEl =\n",
              "          document.querySelector('#df-46a7586a-64da-4a3c-b104-33941a6e08de button.colab-df-convert');\n",
              "        buttonEl.style.display =\n",
              "          google.colab.kernel.accessAllowed ? 'block' : 'none';\n",
              "\n",
              "        async function convertToInteractive(key) {\n",
              "          const element = document.querySelector('#df-46a7586a-64da-4a3c-b104-33941a6e08de');\n",
              "          const dataTable =\n",
              "            await google.colab.kernel.invokeFunction('convertToInteractive',\n",
              "                                                     [key], {});\n",
              "          if (!dataTable) return;\n",
              "\n",
              "          const docLinkHtml = 'Like what you see? Visit the ' +\n",
              "            '<a target=\"_blank\" href=https://colab.research.google.com/notebooks/data_table.ipynb>data table notebook</a>'\n",
              "            + ' to learn more about interactive tables.';\n",
              "          element.innerHTML = '';\n",
              "          dataTable['output_type'] = 'display_data';\n",
              "          await google.colab.output.renderOutput(dataTable, element);\n",
              "          const docLink = document.createElement('div');\n",
              "          docLink.innerHTML = docLinkHtml;\n",
              "          element.appendChild(docLink);\n",
              "        }\n",
              "      </script>\n",
              "    </div>\n",
              "  </div>\n",
              "  "
            ]
          },
          "metadata": {},
          "execution_count": 83
        }
      ]
    },
    {
      "cell_type": "markdown",
      "source": [
        "## Attention maps"
      ],
      "metadata": {
        "id": "-CjhOl7qGq9D"
      }
    },
    {
      "cell_type": "markdown",
      "source": [
        "We are interested in the intermediate \"softmax\" layer that produces a tensor of shape `[None, max_story_length, max_sentence_length]`. Our aim is to get the attention weights of each of the words present in a summary (predicted by the model) sentence. "
      ],
      "metadata": {
        "id": "yfRC--RzGv0R"
      }
    },
    {
      "cell_type": "code",
      "source": [
        "model_with_attention = Model(model2.input, model.layers[-7].output)\n",
        "model_with_attention.summary()"
      ],
      "metadata": {
        "colab": {
          "base_uri": "https://localhost:8080/"
        },
        "id": "-tKOotNKN0GY",
        "outputId": "1fc85944-5ae9-45ec-8353-54dc1b24e979"
      },
      "execution_count": 84,
      "outputs": [
        {
          "output_type": "stream",
          "name": "stdout",
          "text": [
            "Model: \"model_4\"\n",
            "_________________________________________________________________\n",
            " Layer (type)                Output Shape              Param #   \n",
            "=================================================================\n",
            " input_3 (InputLayer)        [(None, 29, 40)]          0         \n",
            "                                                                 \n",
            " time_distributed_18 (TimeDi  (None, 29, 40, 100)      16625600  \n",
            " stributed)                                                      \n",
            "                                                                 \n",
            " time_distributed_19 (TimeDi  (None, 29, 40, 32)       6432      \n",
            " stributed)                                                      \n",
            "                                                                 \n",
            " time_distributed_20 (TimeDi  (None, 29, 40, 1)        33        \n",
            " stributed)                                                      \n",
            "                                                                 \n",
            " time_distributed_21 (TimeDi  (None, 29, 40)           0         \n",
            " stributed)                                                      \n",
            "                                                                 \n",
            " time_distributed_22 (TimeDi  (None, 29, 40)           0         \n",
            " stributed)                                                      \n",
            "                                                                 \n",
            "=================================================================\n",
            "Total params: 16,632,065\n",
            "Trainable params: 16,632,065\n",
            "Non-trainable params: 0\n",
            "_________________________________________________________________\n"
          ]
        }
      ]
    },
    {
      "cell_type": "code",
      "source": [
        "# run the model to predict on a single preprocessed story and take an argmax\n",
        "# along the last dimension\n",
        "summary_predicted = model2.predict(X_word_test_single_story).argmax(axis=-1)\n",
        "summary_predicted.shape"
      ],
      "metadata": {
        "colab": {
          "base_uri": "https://localhost:8080/"
        },
        "id": "-WGRme0jN7dq",
        "outputId": "4abed420-c154-4a27-b8a1-e9b6771f53fa"
      },
      "execution_count": 85,
      "outputs": [
        {
          "output_type": "stream",
          "name": "stdout",
          "text": [
            "1/1 [==============================] - 0s 17ms/step\n"
          ]
        },
        {
          "output_type": "execute_result",
          "data": {
            "text/plain": [
              "(1, 29)"
            ]
          },
          "metadata": {},
          "execution_count": 85
        }
      ]
    },
    {
      "cell_type": "code",
      "source": [
        "# get the attention weights\n",
        "attention_weights = model_with_attention.predict(X_word_test_single_story)\n",
        "attention_weights.shape"
      ],
      "metadata": {
        "colab": {
          "base_uri": "https://localhost:8080/"
        },
        "id": "B48Nq11HN9aL",
        "outputId": "707fb186-1ebf-45e9-ea4a-506532ced369"
      },
      "execution_count": 86,
      "outputs": [
        {
          "output_type": "stream",
          "name": "stdout",
          "text": [
            "1/1 [==============================] - 0s 112ms/step\n"
          ]
        },
        {
          "output_type": "execute_result",
          "data": {
            "text/plain": [
              "(1, 29, 40)"
            ]
          },
          "metadata": {},
          "execution_count": 86
        }
      ]
    },
    {
      "cell_type": "code",
      "source": [
        "# get the index from prediction array where the value is 2\n",
        "# and use it to query the preprocessed test story\n",
        "idx = np.where(summary_predicted==2)\n",
        "summary_candidates_from_preds = X_word_test_single_story[idx]\n",
        "summary_candidates_from_preds.shape"
      ],
      "metadata": {
        "colab": {
          "base_uri": "https://localhost:8080/"
        },
        "id": "UjrReB19N_lA",
        "outputId": "07332326-76c3-457d-b623-4a5695afb128"
      },
      "execution_count": 87,
      "outputs": [
        {
          "output_type": "execute_result",
          "data": {
            "text/plain": [
              "(6, 40)"
            ]
          },
          "metadata": {},
          "execution_count": 87
        }
      ]
    },
    {
      "cell_type": "code",
      "source": [
        "# filtering the attention weights for summary candidates only\n",
        "idx = np.where(summary_predicted==2)\n",
        "summary_attention_weights = attention_weights[idx]\n",
        "summary_attention_weights.shape"
      ],
      "metadata": {
        "colab": {
          "base_uri": "https://localhost:8080/"
        },
        "id": "1-HvBPpROJMo",
        "outputId": "237b8063-59e0-4545-cf38-7b5d47ef2aac"
      },
      "execution_count": 88,
      "outputs": [
        {
          "output_type": "execute_result",
          "data": {
            "text/plain": [
              "(6, 40)"
            ]
          },
          "metadata": {},
          "execution_count": 88
        }
      ]
    },
    {
      "cell_type": "code",
      "source": [
        "single_pred_summary_idx = np.random.choice(len(summary_attention_weights), 1)\n",
        "\n",
        "# selecting a single summary candidate\n",
        "single_summary_candidate = summary_candidates_from_preds[single_pred_summary_idx]\n",
        "\n",
        "# selecting a summary candidate randomly\n",
        "single_candidate_weights = summary_attention_weights[single_pred_summary_idx]\n",
        "\n",
        "print(single_summary_candidate.shape, single_candidate_weights.shape)"
      ],
      "metadata": {
        "colab": {
          "base_uri": "https://localhost:8080/"
        },
        "id": "kb6TQdyfOLVM",
        "outputId": "45f1d77c-1cec-4f9b-f39d-ae75e43e946e"
      },
      "execution_count": 89,
      "outputs": [
        {
          "output_type": "stream",
          "name": "stdout",
          "text": [
            "(1, 40) (1, 40)\n"
          ]
        }
      ]
    },
    {
      "cell_type": "code",
      "source": [
        "single_summary_candidate"
      ],
      "metadata": {
        "colab": {
          "base_uri": "https://localhost:8080/"
        },
        "id": "QpBjKfMJONxO",
        "outputId": "e2fb88b5-5c6b-4bd7-9ee1-66b236af3471"
      },
      "execution_count": 90,
      "outputs": [
        {
          "output_type": "execute_result",
          "data": {
            "text/plain": [
              "array([[ 27948., 145205.,  43999., 109789.,  79624.,  27948.,  95185.,\n",
              "        141820.,  27948.,  45526.,  27048.,  86459., 120740.,  63183.,\n",
              "        141820.,  27948.,  80386., 115225., 157261.,  12367.,  23602.,\n",
              "        151476.,  24395.,      0.,      0.,      0.,      0.,      0.,\n",
              "             0.,      0.,      0.,      0.,      0.,      0.,      0.,\n",
              "             0.,      0.,      0.,      0.,      0.]])"
            ]
          },
          "metadata": {},
          "execution_count": 90
        }
      ]
    },
    {
      "cell_type": "code",
      "source": [
        "sentence_decoded = [idx2word.get(idx) for idx in single_summary_candidate[0]]\n",
        "' '.join(sentence_decoded)"
      ],
      "metadata": {
        "colab": {
          "base_uri": "https://localhost:8080/",
          "height": 55
        },
        "id": "6G5UjisYOPj3",
        "outputId": "2556bb2d-dfb5-4c15-c314-2444a75d7012"
      },
      "execution_count": 91,
      "outputs": [
        {
          "output_type": "execute_result",
          "data": {
            "text/plain": [
              "'the redesign apart from increasing the length of the track also sees famous sections of the old course bridge and priory removed altogether PAD PAD PAD PAD PAD PAD PAD PAD PAD PAD PAD PAD PAD PAD PAD PAD PAD'"
            ],
            "application/vnd.google.colaboratory.intrinsic+json": {
              "type": "string"
            }
          },
          "metadata": {},
          "execution_count": 91
        }
      ]
    },
    {
      "cell_type": "markdown",
      "source": [
        "## Visualizing the Attention Weights"
      ],
      "metadata": {
        "id": "9PFvxOQvP84p"
      }
    },
    {
      "cell_type": "code",
      "source": [
        "# create a temporary dataframe\n",
        "df = pd.DataFrame()\n",
        "df['words'] = (sentence_deocded)\n",
        "df['attention_weights'] = single_candidate_weights.squeeze()\n",
        "\n",
        "# filter out the top weights\n",
        "df_sub = df.sort_values(by='attention_weights',ascending=False).head(10)\n",
        "df_sub.head()"
      ],
      "metadata": {
        "colab": {
          "base_uri": "https://localhost:8080/",
          "height": 206
        },
        "id": "TxRsAbyDQE3F",
        "outputId": "5b75e413-88bc-484d-f828-1f1d54bb1670"
      },
      "execution_count": 93,
      "outputs": [
        {
          "output_type": "execute_result",
          "data": {
            "text/plain": [
              "      words  attention_weights\n",
              "7        in           0.040364\n",
              "14  matthew           0.040364\n",
              "15     None           0.040364\n",
              "10    honor           0.040364\n",
              "16      PAD           0.040364"
            ],
            "text/html": [
              "\n",
              "  <div id=\"df-0263849a-cf5d-43ff-8581-7af75d4e8dec\">\n",
              "    <div class=\"colab-df-container\">\n",
              "      <div>\n",
              "<style scoped>\n",
              "    .dataframe tbody tr th:only-of-type {\n",
              "        vertical-align: middle;\n",
              "    }\n",
              "\n",
              "    .dataframe tbody tr th {\n",
              "        vertical-align: top;\n",
              "    }\n",
              "\n",
              "    .dataframe thead th {\n",
              "        text-align: right;\n",
              "    }\n",
              "</style>\n",
              "<table border=\"1\" class=\"dataframe\">\n",
              "  <thead>\n",
              "    <tr style=\"text-align: right;\">\n",
              "      <th></th>\n",
              "      <th>words</th>\n",
              "      <th>attention_weights</th>\n",
              "    </tr>\n",
              "  </thead>\n",
              "  <tbody>\n",
              "    <tr>\n",
              "      <th>7</th>\n",
              "      <td>in</td>\n",
              "      <td>0.040364</td>\n",
              "    </tr>\n",
              "    <tr>\n",
              "      <th>14</th>\n",
              "      <td>matthew</td>\n",
              "      <td>0.040364</td>\n",
              "    </tr>\n",
              "    <tr>\n",
              "      <th>15</th>\n",
              "      <td>None</td>\n",
              "      <td>0.040364</td>\n",
              "    </tr>\n",
              "    <tr>\n",
              "      <th>10</th>\n",
              "      <td>honor</td>\n",
              "      <td>0.040364</td>\n",
              "    </tr>\n",
              "    <tr>\n",
              "      <th>16</th>\n",
              "      <td>PAD</td>\n",
              "      <td>0.040364</td>\n",
              "    </tr>\n",
              "  </tbody>\n",
              "</table>\n",
              "</div>\n",
              "      <button class=\"colab-df-convert\" onclick=\"convertToInteractive('df-0263849a-cf5d-43ff-8581-7af75d4e8dec')\"\n",
              "              title=\"Convert this dataframe to an interactive table.\"\n",
              "              style=\"display:none;\">\n",
              "        \n",
              "  <svg xmlns=\"http://www.w3.org/2000/svg\" height=\"24px\"viewBox=\"0 0 24 24\"\n",
              "       width=\"24px\">\n",
              "    <path d=\"M0 0h24v24H0V0z\" fill=\"none\"/>\n",
              "    <path d=\"M18.56 5.44l.94 2.06.94-2.06 2.06-.94-2.06-.94-.94-2.06-.94 2.06-2.06.94zm-11 1L8.5 8.5l.94-2.06 2.06-.94-2.06-.94L8.5 2.5l-.94 2.06-2.06.94zm10 10l.94 2.06.94-2.06 2.06-.94-2.06-.94-.94-2.06-.94 2.06-2.06.94z\"/><path d=\"M17.41 7.96l-1.37-1.37c-.4-.4-.92-.59-1.43-.59-.52 0-1.04.2-1.43.59L10.3 9.45l-7.72 7.72c-.78.78-.78 2.05 0 2.83L4 21.41c.39.39.9.59 1.41.59.51 0 1.02-.2 1.41-.59l7.78-7.78 2.81-2.81c.8-.78.8-2.07 0-2.86zM5.41 20L4 18.59l7.72-7.72 1.47 1.35L5.41 20z\"/>\n",
              "  </svg>\n",
              "      </button>\n",
              "      \n",
              "  <style>\n",
              "    .colab-df-container {\n",
              "      display:flex;\n",
              "      flex-wrap:wrap;\n",
              "      gap: 12px;\n",
              "    }\n",
              "\n",
              "    .colab-df-convert {\n",
              "      background-color: #E8F0FE;\n",
              "      border: none;\n",
              "      border-radius: 50%;\n",
              "      cursor: pointer;\n",
              "      display: none;\n",
              "      fill: #1967D2;\n",
              "      height: 32px;\n",
              "      padding: 0 0 0 0;\n",
              "      width: 32px;\n",
              "    }\n",
              "\n",
              "    .colab-df-convert:hover {\n",
              "      background-color: #E2EBFA;\n",
              "      box-shadow: 0px 1px 2px rgba(60, 64, 67, 0.3), 0px 1px 3px 1px rgba(60, 64, 67, 0.15);\n",
              "      fill: #174EA6;\n",
              "    }\n",
              "\n",
              "    [theme=dark] .colab-df-convert {\n",
              "      background-color: #3B4455;\n",
              "      fill: #D2E3FC;\n",
              "    }\n",
              "\n",
              "    [theme=dark] .colab-df-convert:hover {\n",
              "      background-color: #434B5C;\n",
              "      box-shadow: 0px 1px 3px 1px rgba(0, 0, 0, 0.15);\n",
              "      filter: drop-shadow(0px 1px 2px rgba(0, 0, 0, 0.3));\n",
              "      fill: #FFFFFF;\n",
              "    }\n",
              "  </style>\n",
              "\n",
              "      <script>\n",
              "        const buttonEl =\n",
              "          document.querySelector('#df-0263849a-cf5d-43ff-8581-7af75d4e8dec button.colab-df-convert');\n",
              "        buttonEl.style.display =\n",
              "          google.colab.kernel.accessAllowed ? 'block' : 'none';\n",
              "\n",
              "        async function convertToInteractive(key) {\n",
              "          const element = document.querySelector('#df-0263849a-cf5d-43ff-8581-7af75d4e8dec');\n",
              "          const dataTable =\n",
              "            await google.colab.kernel.invokeFunction('convertToInteractive',\n",
              "                                                     [key], {});\n",
              "          if (!dataTable) return;\n",
              "\n",
              "          const docLinkHtml = 'Like what you see? Visit the ' +\n",
              "            '<a target=\"_blank\" href=https://colab.research.google.com/notebooks/data_table.ipynb>data table notebook</a>'\n",
              "            + ' to learn more about interactive tables.';\n",
              "          element.innerHTML = '';\n",
              "          dataTable['output_type'] = 'display_data';\n",
              "          await google.colab.output.renderOutput(dataTable, element);\n",
              "          const docLink = document.createElement('div');\n",
              "          docLink.innerHTML = docLinkHtml;\n",
              "          element.appendChild(docLink);\n",
              "        }\n",
              "      </script>\n",
              "    </div>\n",
              "  </div>\n",
              "  "
            ]
          },
          "metadata": {},
          "execution_count": 93
        }
      ]
    },
    {
      "cell_type": "code",
      "source": [
        "sns.barplot(x=\"words\", y=\"attention_weights\", data=df_sub)\n",
        "plt.show()"
      ],
      "metadata": {
        "colab": {
          "base_uri": "https://localhost:8080/",
          "height": 279
        },
        "id": "qe9sqhYSQQFS",
        "outputId": "41cfceb5-8d11-410a-ffaf-55c0006f1568"
      },
      "execution_count": 94,
      "outputs": [
        {
          "output_type": "display_data",
          "data": {
            "text/plain": [
              "<Figure size 432x288 with 1 Axes>"
            ],
            "image/png": "[encoded data removed]"
          },
          "metadata": {
            "needs_background": "light"
          }
        }
      ]
    }
  ],
  "metadata": {
    "colab": {
      "collapsed_sections": [
        "LUpxvZ2yC2PL"
      ],
      "provenance": [],
      "mount_file_id": "1woQhYhRGlw5YfmX8BUCGghus47yiRpEE",
      "authorship_tag": "ABX9TyMMDmMhprXc8DUMnHgpAoG9",
      "include_colab_link": true
    },
    "kernelspec": {
      "display_name": "Python 3",
      "name": "python3"
    },
    "language_info": {
      "name": "python"
    },
    "widgets": {
      "application/vnd.jupyter.widget-state+json": {
        "0111338988d14586aa168f97bb3c91c5": {
          "model_module": "@jupyter-widgets/base",
          "model_module_version": "1.2.0",
          "model_name": "LayoutModel",
          "state": {
            "_model_module": "@jupyter-widgets/base",
            "_model_module_version": "1.2.0",
            "_model_name": "LayoutModel",
            "_view_count": null,
            "_view_module": "@jupyter-widgets/base",
            "_view_module_version": "1.2.0",
            "_view_name": "LayoutView",
            "align_content": null,
            "align_items": null,
            "align_self": null,
            "border": null,
            "bottom": null,
            "display": null,
            "flex": null,
            "flex_flow": null,
            "grid_area": null,
            "grid_auto_columns": null,
            "grid_auto_flow": null,
            "grid_auto_rows": null,
            "grid_column": null,
            "grid_gap": null,
            "grid_row": null,
            "grid_template_areas": null,
            "grid_template_columns": null,
            "grid_template_rows": null,
            "height": null,
            "justify_content": null,
            "justify_items": null,
            "left": null,
            "margin": null,
            "max_height": null,
            "max_width": null,
            "min_height": null,
            "min_width": null,
            "object_fit": null,
            "object_position": null,
            "order": null,
            "overflow": null,
            "overflow_x": null,
            "overflow_y": null,
            "padding": null,
            "right": null,
            "top": null,
            "visibility": null,
            "width": null
          }
        },
        "0940c762ec0848b2a9442b0dd97ef769": {
          "model_module": "@jupyter-widgets/controls",
          "model_module_version": "1.5.0",
          "model_name": "HTMLModel",
          "state": {
            "_dom_classes": [],
            "_model_module": "@jupyter-widgets/controls",
            "_model_module_version": "1.5.0",
            "_model_name": "HTMLModel",
            "_view_count": null,
            "_view_module": "@jupyter-widgets/controls",
            "_view_module_version": "1.5.0",
            "_view_name": "HTMLView",
            "description": "",
            "description_tooltip": null,
            "layout": "IPY_MODEL_dbf7d8c4b92a4507ab0ec96e8979c60c",
            "placeholder": "​",
            "style": "IPY_MODEL_46196ce3d2fa463aabeab9fd2b0e3ef3",
            "value": " 92579/92579 [00:02&lt;00:00, 36621.71it/s]"
          }
        },
        "1140f300819a4dda869f0f9ccc5122c7": {
          "model_module": "@jupyter-widgets/controls",
          "model_module_version": "1.5.0",
          "model_name": "FloatProgressModel",
          "state": {
            "_dom_classes": [],
            "_model_module": "@jupyter-widgets/controls",
            "_model_module_version": "1.5.0",
            "_model_name": "FloatProgressModel",
            "_view_count": null,
            "_view_module": "@jupyter-widgets/controls",
            "_view_module_version": "1.5.0",
            "_view_name": "ProgressView",
            "bar_style": "success",
            "description": "",
            "description_tooltip": null,
            "layout": "IPY_MODEL_47c1a8af6b7046a88ce4d1bf87d003d7",
            "max": 92579,
            "min": 0,
            "orientation": "horizontal",
            "style": "IPY_MODEL_c941c5af001b4b149bb2ca850c9c3814",
            "value": 92579
          }
        },
        "15e40055df9f4547a1e195a7a56fff28": {
          "model_module": "@jupyter-widgets/controls",
          "model_module_version": "1.5.0",
          "model_name": "HBoxModel",
          "state": {
            "_dom_classes": [],
            "_model_module": "@jupyter-widgets/controls",
            "_model_module_version": "1.5.0",
            "_model_name": "HBoxModel",
            "_view_count": null,
            "_view_module": "@jupyter-widgets/controls",
            "_view_module_version": "1.5.0",
            "_view_name": "HBoxView",
            "box_style": "",
            "children": [
              "IPY_MODEL_abbedf9032624e2684a4e457d1e917b0",
              "IPY_MODEL_1140f300819a4dda869f0f9ccc5122c7",
              "IPY_MODEL_23840e99a7234417b7c3deacffd14f03"
            ],
            "layout": "IPY_MODEL_5ae1b15cccef4527a3b12027c898a097"
          }
        },
        "226fac28b41149acabc216f6588b9e19": {
          "model_module": "@jupyter-widgets/base",
          "model_module_version": "1.2.0",
          "model_name": "LayoutModel",
          "state": {
            "_model_module": "@jupyter-widgets/base",
            "_model_module_version": "1.2.0",
            "_model_name": "LayoutModel",
            "_view_count": null,
            "_view_module": "@jupyter-widgets/base",
            "_view_module_version": "1.2.0",
            "_view_name": "LayoutView",
            "align_content": null,
            "align_items": null,
            "align_self": null,
            "border": null,
            "bottom": null,
            "display": null,
            "flex": null,
            "flex_flow": null,
            "grid_area": null,
            "grid_auto_columns": null,
            "grid_auto_flow": null,
            "grid_auto_rows": null,
            "grid_column": null,
            "grid_gap": null,
            "grid_row": null,
            "grid_template_areas": null,
            "grid_template_columns": null,
            "grid_template_rows": null,
            "height": null,
            "justify_content": null,
            "justify_items": null,
            "left": null,
            "margin": null,
            "max_height": null,
            "max_width": null,
            "min_height": null,
            "min_width": null,
            "object_fit": null,
            "object_position": null,
            "order": null,
            "overflow": null,
            "overflow_x": null,
            "overflow_y": null,
            "padding": null,
            "right": null,
            "top": null,
            "visibility": null,
            "width": null
          }
        },
        "23840e99a7234417b7c3deacffd14f03": {
          "model_module": "@jupyter-widgets/controls",
          "model_module_version": "1.5.0",
          "model_name": "HTMLModel",
          "state": {
            "_dom_classes": [],
            "_model_module": "@jupyter-widgets/controls",
            "_model_module_version": "1.5.0",
            "_model_name": "HTMLModel",
            "_view_count": null,
            "_view_module": "@jupyter-widgets/controls",
            "_view_module_version": "1.5.0",
            "_view_name": "HTMLView",
            "description": "",
            "description_tooltip": null,
            "layout": "IPY_MODEL_8054c8a0076045bc979f157f051da384",
            "placeholder": "​",
            "style": "IPY_MODEL_47db9899363b4ca0ae2e86b36838ca7f",
            "value": " 92579/92579 [01:31&lt;00:00, 1278.31it/s]"
          }
        },
        "46196ce3d2fa463aabeab9fd2b0e3ef3": {
          "model_module": "@jupyter-widgets/controls",
          "model_module_version": "1.5.0",
          "model_name": "DescriptionStyleModel",
          "state": {
            "_model_module": "@jupyter-widgets/controls",
            "_model_module_version": "1.5.0",
            "_model_name": "DescriptionStyleModel",
            "_view_count": null,
            "_view_module": "@jupyter-widgets/base",
            "_view_module_version": "1.2.0",
            "_view_name": "StyleView",
            "description_width": ""
          }
        },
        "47c1a8af6b7046a88ce4d1bf87d003d7": {
          "model_module": "@jupyter-widgets/base",
          "model_module_version": "1.2.0",
          "model_name": "LayoutModel",
          "state": {
            "_model_module": "@jupyter-widgets/base",
            "_model_module_version": "1.2.0",
            "_model_name": "LayoutModel",
            "_view_count": null,
            "_view_module": "@jupyter-widgets/base",
            "_view_module_version": "1.2.0",
            "_view_name": "LayoutView",
            "align_content": null,
            "align_items": null,
            "align_self": null,
            "border": null,
            "bottom": null,
            "display": null,
            "flex": null,
            "flex_flow": null,
            "grid_area": null,
            "grid_auto_columns": null,
            "grid_auto_flow": null,
            "grid_auto_rows": null,
            "grid_column": null,
            "grid_gap": null,
            "grid_row": null,
            "grid_template_areas": null,
            "grid_template_columns": null,
            "grid_template_rows": null,
            "height": null,
            "justify_content": null,
            "justify_items": null,
            "left": null,
            "margin": null,
            "max_height": null,
            "max_width": null,
            "min_height": null,
            "min_width": null,
            "object_fit": null,
            "object_position": null,
            "order": null,
            "overflow": null,
            "overflow_x": null,
            "overflow_y": null,
            "padding": null,
            "right": null,
            "top": null,
            "visibility": null,
            "width": null
          }
        },
        "47db9899363b4ca0ae2e86b36838ca7f": {
          "model_module": "@jupyter-widgets/controls",
          "model_module_version": "1.5.0",
          "model_name": "DescriptionStyleModel",
          "state": {
            "_model_module": "@jupyter-widgets/controls",
            "_model_module_version": "1.5.0",
            "_model_name": "DescriptionStyleModel",
            "_view_count": null,
            "_view_module": "@jupyter-widgets/base",
            "_view_module_version": "1.2.0",
            "_view_name": "StyleView",
            "description_width": ""
          }
        },
        "520c7eb1f5bc4cf78a8330b5276adc31": {
          "model_module": "@jupyter-widgets/controls",
          "model_module_version": "1.5.0",
          "model_name": "DescriptionStyleModel",
          "state": {
            "_model_module": "@jupyter-widgets/controls",
            "_model_module_version": "1.5.0",
            "_model_name": "DescriptionStyleModel",
            "_view_count": null,
            "_view_module": "@jupyter-widgets/base",
            "_view_module_version": "1.2.0",
            "_view_name": "StyleView",
            "description_width": ""
          }
        },
        "5ae1b15cccef4527a3b12027c898a097": {
          "model_module": "@jupyter-widgets/base",
          "model_module_version": "1.2.0",
          "model_name": "LayoutModel",
          "state": {
            "_model_module": "@jupyter-widgets/base",
            "_model_module_version": "1.2.0",
            "_model_name": "LayoutModel",
            "_view_count": null,
            "_view_module": "@jupyter-widgets/base",
            "_view_module_version": "1.2.0",
            "_view_name": "LayoutView",
            "align_content": null,
            "align_items": null,
            "align_self": null,
            "border": null,
            "bottom": null,
            "display": null,
            "flex": null,
            "flex_flow": null,
            "grid_area": null,
            "grid_auto_columns": null,
            "grid_auto_flow": null,
            "grid_auto_rows": null,
            "grid_column": null,
            "grid_gap": null,
            "grid_row": null,
            "grid_template_areas": null,
            "grid_template_columns": null,
            "grid_template_rows": null,
            "height": null,
            "justify_content": null,
            "justify_items": null,
            "left": null,
            "margin": null,
            "max_height": null,
            "max_width": null,
            "min_height": null,
            "min_width": null,
            "object_fit": null,
            "object_position": null,
            "order": null,
            "overflow": null,
            "overflow_x": null,
            "overflow_y": null,
            "padding": null,
            "right": null,
            "top": null,
            "visibility": null,
            "width": null
          }
        },
        "5e825f9788534e64a2ddd5bf7bcd872b": {
          "model_module": "@jupyter-widgets/base",
          "model_module_version": "1.2.0",
          "model_name": "LayoutModel",
          "state": {
            "_model_module": "@jupyter-widgets/base",
            "_model_module_version": "1.2.0",
            "_model_name": "LayoutModel",
            "_view_count": null,
            "_view_module": "@jupyter-widgets/base",
            "_view_module_version": "1.2.0",
            "_view_name": "LayoutView",
            "align_content": null,
            "align_items": null,
            "align_self": null,
            "border": null,
            "bottom": null,
            "display": null,
            "flex": null,
            "flex_flow": null,
            "grid_area": null,
            "grid_auto_columns": null,
            "grid_auto_flow": null,
            "grid_auto_rows": null,
            "grid_column": null,
            "grid_gap": null,
            "grid_row": null,
            "grid_template_areas": null,
            "grid_template_columns": null,
            "grid_template_rows": null,
            "height": null,
            "justify_content": null,
            "justify_items": null,
            "left": null,
            "margin": null,
            "max_height": null,
            "max_width": null,
            "min_height": null,
            "min_width": null,
            "object_fit": null,
            "object_position": null,
            "order": null,
            "overflow": null,
            "overflow_x": null,
            "overflow_y": null,
            "padding": null,
            "right": null,
            "top": null,
            "visibility": null,
            "width": null
          }
        },
        "65b199a392264bcb8848980407c9f5e7": {
          "model_module": "@jupyter-widgets/controls",
          "model_module_version": "1.5.0",
          "model_name": "HTMLModel",
          "state": {
            "_dom_classes": [],
            "_model_module": "@jupyter-widgets/controls",
            "_model_module_version": "1.5.0",
            "_model_name": "HTMLModel",
            "_view_count": null,
            "_view_module": "@jupyter-widgets/controls",
            "_view_module_version": "1.5.0",
            "_view_name": "HTMLView",
            "description": "",
            "description_tooltip": null,
            "layout": "IPY_MODEL_fa0b04c00c004350b5e4f0e0f58d5d50",
            "placeholder": "​",
            "style": "IPY_MODEL_73a681b807064be29d0b68183e69907c",
            "value": " 92579/92579 [1:32:16&lt;00:00, 17.80it/s]"
          }
        },
        "6916e2e545d144669daa869a57c2299c": {
          "model_module": "@jupyter-widgets/controls",
          "model_module_version": "1.5.0",
          "model_name": "HTMLModel",
          "state": {
            "_dom_classes": [],
            "_model_module": "@jupyter-widgets/controls",
            "_model_module_version": "1.5.0",
            "_model_name": "HTMLModel",
            "_view_count": null,
            "_view_module": "@jupyter-widgets/controls",
            "_view_module_version": "1.5.0",
            "_view_name": "HTMLView",
            "description": "",
            "description_tooltip": null,
            "layout": "IPY_MODEL_6f997cfe91cc475cbe749c20db024b9c",
            "placeholder": "​",
            "style": "IPY_MODEL_520c7eb1f5bc4cf78a8330b5276adc31",
            "value": "100%"
          }
        },
        "695d830d2409443284017c23d7034dda": {
          "model_module": "@jupyter-widgets/controls",
          "model_module_version": "1.5.0",
          "model_name": "ProgressStyleModel",
          "state": {
            "_model_module": "@jupyter-widgets/controls",
            "_model_module_version": "1.5.0",
            "_model_name": "ProgressStyleModel",
            "_view_count": null,
            "_view_module": "@jupyter-widgets/base",
            "_view_module_version": "1.2.0",
            "_view_name": "StyleView",
            "bar_color": null,
            "description_width": ""
          }
        },
        "6f997cfe91cc475cbe749c20db024b9c": {
          "model_module": "@jupyter-widgets/base",
          "model_module_version": "1.2.0",
          "model_name": "LayoutModel",
          "state": {
            "_model_module": "@jupyter-widgets/base",
            "_model_module_version": "1.2.0",
            "_model_name": "LayoutModel",
            "_view_count": null,
            "_view_module": "@jupyter-widgets/base",
            "_view_module_version": "1.2.0",
            "_view_name": "LayoutView",
            "align_content": null,
            "align_items": null,
            "align_self": null,
            "border": null,
            "bottom": null,
            "display": null,
            "flex": null,
            "flex_flow": null,
            "grid_area": null,
            "grid_auto_columns": null,
            "grid_auto_flow": null,
            "grid_auto_rows": null,
            "grid_column": null,
            "grid_gap": null,
            "grid_row": null,
            "grid_template_areas": null,
            "grid_template_columns": null,
            "grid_template_rows": null,
            "height": null,
            "justify_content": null,
            "justify_items": null,
            "left": null,
            "margin": null,
            "max_height": null,
            "max_width": null,
            "min_height": null,
            "min_width": null,
            "object_fit": null,
            "object_position": null,
            "order": null,
            "overflow": null,
            "overflow_x": null,
            "overflow_y": null,
            "padding": null,
            "right": null,
            "top": null,
            "visibility": null,
            "width": null
          }
        },
        "73a681b807064be29d0b68183e69907c": {
          "model_module": "@jupyter-widgets/controls",
          "model_module_version": "1.5.0",
          "model_name": "DescriptionStyleModel",
          "state": {
            "_model_module": "@jupyter-widgets/controls",
            "_model_module_version": "1.5.0",
            "_model_name": "DescriptionStyleModel",
            "_view_count": null,
            "_view_module": "@jupyter-widgets/base",
            "_view_module_version": "1.2.0",
            "_view_name": "StyleView",
            "description_width": ""
          }
        },
        "79b72a6729284a86a361df025a9748fd": {
          "model_module": "@jupyter-widgets/controls",
          "model_module_version": "1.5.0",
          "model_name": "HBoxModel",
          "state": {
            "_dom_classes": [],
            "_model_module": "@jupyter-widgets/controls",
            "_model_module_version": "1.5.0",
            "_model_name": "HBoxModel",
            "_view_count": null,
            "_view_module": "@jupyter-widgets/controls",
            "_view_module_version": "1.5.0",
            "_view_name": "HBoxView",
            "box_style": "",
            "children": [
              "IPY_MODEL_6916e2e545d144669daa869a57c2299c",
              "IPY_MODEL_c767d36c605c46bd9714f31ee347c5c2",
              "IPY_MODEL_0940c762ec0848b2a9442b0dd97ef769"
            ],
            "layout": "IPY_MODEL_0111338988d14586aa168f97bb3c91c5"
          }
        },
        "8054c8a0076045bc979f157f051da384": {
          "model_module": "@jupyter-widgets/base",
          "model_module_version": "1.2.0",
          "model_name": "LayoutModel",
          "state": {
            "_model_module": "@jupyter-widgets/base",
            "_model_module_version": "1.2.0",
            "_model_name": "LayoutModel",
            "_view_count": null,
            "_view_module": "@jupyter-widgets/base",
            "_view_module_version": "1.2.0",
            "_view_name": "LayoutView",
            "align_content": null,
            "align_items": null,
            "align_self": null,
            "border": null,
            "bottom": null,
            "display": null,
            "flex": null,
            "flex_flow": null,
            "grid_area": null,
            "grid_auto_columns": null,
            "grid_auto_flow": null,
            "grid_auto_rows": null,
            "grid_column": null,
            "grid_gap": null,
            "grid_row": null,
            "grid_template_areas": null,
            "grid_template_columns": null,
            "grid_template_rows": null,
            "height": null,
            "justify_content": null,
            "justify_items": null,
            "left": null,
            "margin": null,
            "max_height": null,
            "max_width": null,
            "min_height": null,
            "min_width": null,
            "object_fit": null,
            "object_position": null,
            "order": null,
            "overflow": null,
            "overflow_x": null,
            "overflow_y": null,
            "padding": null,
            "right": null,
            "top": null,
            "visibility": null,
            "width": null
          }
        },
        "83a2d8822e3441b89d39a26822b22387": {
          "model_module": "@jupyter-widgets/controls",
          "model_module_version": "1.5.0",
          "model_name": "ProgressStyleModel",
          "state": {
            "_model_module": "@jupyter-widgets/controls",
            "_model_module_version": "1.5.0",
            "_model_name": "ProgressStyleModel",
            "_view_count": null,
            "_view_module": "@jupyter-widgets/base",
            "_view_module_version": "1.2.0",
            "_view_name": "StyleView",
            "bar_color": null,
            "description_width": ""
          }
        },
        "90a89a73cb074cfaa458c511fea0b2b0": {
          "model_module": "@jupyter-widgets/controls",
          "model_module_version": "1.5.0",
          "model_name": "HTMLModel",
          "state": {
            "_dom_classes": [],
            "_model_module": "@jupyter-widgets/controls",
            "_model_module_version": "1.5.0",
            "_model_name": "HTMLModel",
            "_view_count": null,
            "_view_module": "@jupyter-widgets/controls",
            "_view_module_version": "1.5.0",
            "_view_name": "HTMLView",
            "description": "",
            "description_tooltip": null,
            "layout": "IPY_MODEL_d65984e1a4134f5d90aff163c4f6dad1",
            "placeholder": "​",
            "style": "IPY_MODEL_c79243172862452694a1f2804bcca783",
            "value": "100%"
          }
        },
        "9a6b527cad2b4b80a2d8e3faa1a180c0": {
          "model_module": "@jupyter-widgets/base",
          "model_module_version": "1.2.0",
          "model_name": "LayoutModel",
          "state": {
            "_model_module": "@jupyter-widgets/base",
            "_model_module_version": "1.2.0",
            "_model_name": "LayoutModel",
            "_view_count": null,
            "_view_module": "@jupyter-widgets/base",
            "_view_module_version": "1.2.0",
            "_view_name": "LayoutView",
            "align_content": null,
            "align_items": null,
            "align_self": null,
            "border": null,
            "bottom": null,
            "display": null,
            "flex": null,
            "flex_flow": null,
            "grid_area": null,
            "grid_auto_columns": null,
            "grid_auto_flow": null,
            "grid_auto_rows": null,
            "grid_column": null,
            "grid_gap": null,
            "grid_row": null,
            "grid_template_areas": null,
            "grid_template_columns": null,
            "grid_template_rows": null,
            "height": null,
            "justify_content": null,
            "justify_items": null,
            "left": null,
            "margin": null,
            "max_height": null,
            "max_width": null,
            "min_height": null,
            "min_width": null,
            "object_fit": null,
            "object_position": null,
            "order": null,
            "overflow": null,
            "overflow_x": null,
            "overflow_y": null,
            "padding": null,
            "right": null,
            "top": null,
            "visibility": null,
            "width": null
          }
        },
        "abbedf9032624e2684a4e457d1e917b0": {
          "model_module": "@jupyter-widgets/controls",
          "model_module_version": "1.5.0",
          "model_name": "HTMLModel",
          "state": {
            "_dom_classes": [],
            "_model_module": "@jupyter-widgets/controls",
            "_model_module_version": "1.5.0",
            "_model_name": "HTMLModel",
            "_view_count": null,
            "_view_module": "@jupyter-widgets/controls",
            "_view_module_version": "1.5.0",
            "_view_name": "HTMLView",
            "description": "",
            "description_tooltip": null,
            "layout": "IPY_MODEL_5e825f9788534e64a2ddd5bf7bcd872b",
            "placeholder": "​",
            "style": "IPY_MODEL_d0bb3dff290c4492a1926329ad004084",
            "value": "100%"
          }
        },
        "b36114bb2a124a5f9447d77db576734c": {
          "model_module": "@jupyter-widgets/base",
          "model_module_version": "1.2.0",
          "model_name": "LayoutModel",
          "state": {
            "_model_module": "@jupyter-widgets/base",
            "_model_module_version": "1.2.0",
            "_model_name": "LayoutModel",
            "_view_count": null,
            "_view_module": "@jupyter-widgets/base",
            "_view_module_version": "1.2.0",
            "_view_name": "LayoutView",
            "align_content": null,
            "align_items": null,
            "align_self": null,
            "border": null,
            "bottom": null,
            "display": null,
            "flex": null,
            "flex_flow": null,
            "grid_area": null,
            "grid_auto_columns": null,
            "grid_auto_flow": null,
            "grid_auto_rows": null,
            "grid_column": null,
            "grid_gap": null,
            "grid_row": null,
            "grid_template_areas": null,
            "grid_template_columns": null,
            "grid_template_rows": null,
            "height": null,
            "justify_content": null,
            "justify_items": null,
            "left": null,
            "margin": null,
            "max_height": null,
            "max_width": null,
            "min_height": null,
            "min_width": null,
            "object_fit": null,
            "object_position": null,
            "order": null,
            "overflow": null,
            "overflow_x": null,
            "overflow_y": null,
            "padding": null,
            "right": null,
            "top": null,
            "visibility": null,
            "width": null
          }
        },
        "c767d36c605c46bd9714f31ee347c5c2": {
          "model_module": "@jupyter-widgets/controls",
          "model_module_version": "1.5.0",
          "model_name": "FloatProgressModel",
          "state": {
            "_dom_classes": [],
            "_model_module": "@jupyter-widgets/controls",
            "_model_module_version": "1.5.0",
            "_model_name": "FloatProgressModel",
            "_view_count": null,
            "_view_module": "@jupyter-widgets/controls",
            "_view_module_version": "1.5.0",
            "_view_name": "ProgressView",
            "bar_style": "success",
            "description": "",
            "description_tooltip": null,
            "layout": "IPY_MODEL_226fac28b41149acabc216f6588b9e19",
            "max": 92579,
            "min": 0,
            "orientation": "horizontal",
            "style": "IPY_MODEL_695d830d2409443284017c23d7034dda",
            "value": 92579
          }
        },
        "c79243172862452694a1f2804bcca783": {
          "model_module": "@jupyter-widgets/controls",
          "model_module_version": "1.5.0",
          "model_name": "DescriptionStyleModel",
          "state": {
            "_model_module": "@jupyter-widgets/controls",
            "_model_module_version": "1.5.0",
            "_model_name": "DescriptionStyleModel",
            "_view_count": null,
            "_view_module": "@jupyter-widgets/base",
            "_view_module_version": "1.2.0",
            "_view_name": "StyleView",
            "description_width": ""
          }
        },
        "c941c5af001b4b149bb2ca850c9c3814": {
          "model_module": "@jupyter-widgets/controls",
          "model_module_version": "1.5.0",
          "model_name": "ProgressStyleModel",
          "state": {
            "_model_module": "@jupyter-widgets/controls",
            "_model_module_version": "1.5.0",
            "_model_name": "ProgressStyleModel",
            "_view_count": null,
            "_view_module": "@jupyter-widgets/base",
            "_view_module_version": "1.2.0",
            "_view_name": "StyleView",
            "bar_color": null,
            "description_width": ""
          }
        },
        "d0bb3dff290c4492a1926329ad004084": {
          "model_module": "@jupyter-widgets/controls",
          "model_module_version": "1.5.0",
          "model_name": "DescriptionStyleModel",
          "state": {
            "_model_module": "@jupyter-widgets/controls",
            "_model_module_version": "1.5.0",
            "_model_name": "DescriptionStyleModel",
            "_view_count": null,
            "_view_module": "@jupyter-widgets/base",
            "_view_module_version": "1.2.0",
            "_view_name": "StyleView",
            "description_width": ""
          }
        },
        "d65984e1a4134f5d90aff163c4f6dad1": {
          "model_module": "@jupyter-widgets/base",
          "model_module_version": "1.2.0",
          "model_name": "LayoutModel",
          "state": {
            "_model_module": "@jupyter-widgets/base",
            "_model_module_version": "1.2.0",
            "_model_name": "LayoutModel",
            "_view_count": null,
            "_view_module": "@jupyter-widgets/base",
            "_view_module_version": "1.2.0",
            "_view_name": "LayoutView",
            "align_content": null,
            "align_items": null,
            "align_self": null,
            "border": null,
            "bottom": null,
            "display": null,
            "flex": null,
            "flex_flow": null,
            "grid_area": null,
            "grid_auto_columns": null,
            "grid_auto_flow": null,
            "grid_auto_rows": null,
            "grid_column": null,
            "grid_gap": null,
            "grid_row": null,
            "grid_template_areas": null,
            "grid_template_columns": null,
            "grid_template_rows": null,
            "height": null,
            "justify_content": null,
            "justify_items": null,
            "left": null,
            "margin": null,
            "max_height": null,
            "max_width": null,
            "min_height": null,
            "min_width": null,
            "object_fit": null,
            "object_position": null,
            "order": null,
            "overflow": null,
            "overflow_x": null,
            "overflow_y": null,
            "padding": null,
            "right": null,
            "top": null,
            "visibility": null,
            "width": null
          }
        },
        "dbf7d8c4b92a4507ab0ec96e8979c60c": {
          "model_module": "@jupyter-widgets/base",
          "model_module_version": "1.2.0",
          "model_name": "LayoutModel",
          "state": {
            "_model_module": "@jupyter-widgets/base",
            "_model_module_version": "1.2.0",
            "_model_name": "LayoutModel",
            "_view_count": null,
            "_view_module": "@jupyter-widgets/base",
            "_view_module_version": "1.2.0",
            "_view_name": "LayoutView",
            "align_content": null,
            "align_items": null,
            "align_self": null,
            "border": null,
            "bottom": null,
            "display": null,
            "flex": null,
            "flex_flow": null,
            "grid_area": null,
            "grid_auto_columns": null,
            "grid_auto_flow": null,
            "grid_auto_rows": null,
            "grid_column": null,
            "grid_gap": null,
            "grid_row": null,
            "grid_template_areas": null,
            "grid_template_columns": null,
            "grid_template_rows": null,
            "height": null,
            "justify_content": null,
            "justify_items": null,
            "left": null,
            "margin": null,
            "max_height": null,
            "max_width": null,
            "min_height": null,
            "min_width": null,
            "object_fit": null,
            "object_position": null,
            "order": null,
            "overflow": null,
            "overflow_x": null,
            "overflow_y": null,
            "padding": null,
            "right": null,
            "top": null,
            "visibility": null,
            "width": null
          }
        },
        "f05c541f143f4a6e843291026c29ae02": {
          "model_module": "@jupyter-widgets/controls",
          "model_module_version": "1.5.0",
          "model_name": "HBoxModel",
          "state": {
            "_dom_classes": [],
            "_model_module": "@jupyter-widgets/controls",
            "_model_module_version": "1.5.0",
            "_model_name": "HBoxModel",
            "_view_count": null,
            "_view_module": "@jupyter-widgets/controls",
            "_view_module_version": "1.5.0",
            "_view_name": "HBoxView",
            "box_style": "",
            "children": [
              "IPY_MODEL_90a89a73cb074cfaa458c511fea0b2b0",
              "IPY_MODEL_f957660a34584d00bbdf73d70a4377f5",
              "IPY_MODEL_65b199a392264bcb8848980407c9f5e7"
            ],
            "layout": "IPY_MODEL_9a6b527cad2b4b80a2d8e3faa1a180c0"
          }
        },
        "f957660a34584d00bbdf73d70a4377f5": {
          "model_module": "@jupyter-widgets/controls",
          "model_module_version": "1.5.0",
          "model_name": "FloatProgressModel",
          "state": {
            "_dom_classes": [],
            "_model_module": "@jupyter-widgets/controls",
            "_model_module_version": "1.5.0",
            "_model_name": "FloatProgressModel",
            "_view_count": null,
            "_view_module": "@jupyter-widgets/controls",
            "_view_module_version": "1.5.0",
            "_view_name": "ProgressView",
            "bar_style": "success",
            "description": "",
            "description_tooltip": null,
            "layout": "IPY_MODEL_b36114bb2a124a5f9447d77db576734c",
            "max": 92579,
            "min": 0,
            "orientation": "horizontal",
            "style": "IPY_MODEL_83a2d8822e3441b89d39a26822b22387",
            "value": 92579
          }
        },
        "fa0b04c00c004350b5e4f0e0f58d5d50": {
          "model_module": "@jupyter-widgets/base",
          "model_module_version": "1.2.0",
          "model_name": "LayoutModel",
          "state": {
            "_model_module": "@jupyter-widgets/base",
            "_model_module_version": "1.2.0",
            "_model_name": "LayoutModel",
            "_view_count": null,
            "_view_module": "@jupyter-widgets/base",
            "_view_module_version": "1.2.0",
            "_view_name": "LayoutView",
            "align_content": null,
            "align_items": null,
            "align_self": null,
            "border": null,
            "bottom": null,
            "display": null,
            "flex": null,
            "flex_flow": null,
            "grid_area": null,
            "grid_auto_columns": null,
            "grid_auto_flow": null,
            "grid_auto_rows": null,
            "grid_column": null,
            "grid_gap": null,
            "grid_row": null,
            "grid_template_areas": null,
            "grid_template_columns": null,
            "grid_template_rows": null,
            "height": null,
            "justify_content": null,
            "justify_items": null,
            "left": null,
            "margin": null,
            "max_height": null,
            "max_width": null,
            "min_height": null,
            "min_width": null,
            "object_fit": null,
            "object_position": null,
            "order": null,
            "overflow": null,
            "overflow_x": null,
            "overflow_y": null,
            "padding": null,
            "right": null,
            "top": null,
            "visibility": null,
            "width": null
          }
        },
        "54a602b22cad4bb4833fbfc01e7591ee": {
          "model_module": "@jupyter-widgets/controls",
          "model_name": "HBoxModel",
          "model_module_version": "1.5.0",
          "state": {
            "_dom_classes": [],
            "_model_module": "@jupyter-widgets/controls",
            "_model_module_version": "1.5.0",
            "_model_name": "HBoxModel",
            "_view_count": null,
            "_view_module": "@jupyter-widgets/controls",
            "_view_module_version": "1.5.0",
            "_view_name": "HBoxView",
            "box_style": "",
            "children": [
              "IPY_MODEL_212247f228974e26b101736434fd6ad8",
              "IPY_MODEL_5317361ee75c4944af1a439a4e08e6ae",
              "IPY_MODEL_1d41575cbc2e40289b7ee998a92a370a"
            ],
            "layout": "IPY_MODEL_da43b1de666d48d389e74c76e93f10ea"
          }
        },
        "212247f228974e26b101736434fd6ad8": {
          "model_module": "@jupyter-widgets/controls",
          "model_name": "HTMLModel",
          "model_module_version": "1.5.0",
          "state": {
            "_dom_classes": [],
            "_model_module": "@jupyter-widgets/controls",
            "_model_module_version": "1.5.0",
            "_model_name": "HTMLModel",
            "_view_count": null,
            "_view_module": "@jupyter-widgets/controls",
            "_view_module_version": "1.5.0",
            "_view_name": "HTMLView",
            "description": "",
            "description_tooltip": null,
            "layout": "IPY_MODEL_ab1700a6fae34a1ba1b229d927bcc9b6",
            "placeholder": "​",
            "style": "IPY_MODEL_439ec7b60d954a82a46f327066b9866b",
            "value": "100%"
          }
        },
        "5317361ee75c4944af1a439a4e08e6ae": {
          "model_module": "@jupyter-widgets/controls",
          "model_name": "FloatProgressModel",
          "model_module_version": "1.5.0",
          "state": {
            "_dom_classes": [],
            "_model_module": "@jupyter-widgets/controls",
            "_model_module_version": "1.5.0",
            "_model_name": "FloatProgressModel",
            "_view_count": null,
            "_view_module": "@jupyter-widgets/controls",
            "_view_module_version": "1.5.0",
            "_view_name": "ProgressView",
            "bar_style": "success",
            "description": "",
            "description_tooltip": null,
            "layout": "IPY_MODEL_a341ddfcc3804176afd3c0129cca9e2b",
            "max": 92579,
            "min": 0,
            "orientation": "horizontal",
            "style": "IPY_MODEL_995bd13447a9436584170067e870078a",
            "value": 92579
          }
        },
        "1d41575cbc2e40289b7ee998a92a370a": {
          "model_module": "@jupyter-widgets/controls",
          "model_name": "HTMLModel",
          "model_module_version": "1.5.0",
          "state": {
            "_dom_classes": [],
            "_model_module": "@jupyter-widgets/controls",
            "_model_module_version": "1.5.0",
            "_model_name": "HTMLModel",
            "_view_count": null,
            "_view_module": "@jupyter-widgets/controls",
            "_view_module_version": "1.5.0",
            "_view_name": "HTMLView",
            "description": "",
            "description_tooltip": null,
            "layout": "IPY_MODEL_d11b0d9af40542dd8b9327eb29fd4ac6",
            "placeholder": "​",
            "style": "IPY_MODEL_48b898e509944aa7827a1a122408e39b",
            "value": " 92579/92579 [00:04&lt;00:00, 18807.41it/s]"
          }
        },
        "da43b1de666d48d389e74c76e93f10ea": {
          "model_module": "@jupyter-widgets/base",
          "model_name": "LayoutModel",
          "model_module_version": "1.2.0",
          "state": {
            "_model_module": "@jupyter-widgets/base",
            "_model_module_version": "1.2.0",
            "_model_name": "LayoutModel",
            "_view_count": null,
            "_view_module": "@jupyter-widgets/base",
            "_view_module_version": "1.2.0",
            "_view_name": "LayoutView",
            "align_content": null,
            "align_items": null,
            "align_self": null,
            "border": null,
            "bottom": null,
            "display": null,
            "flex": null,
            "flex_flow": null,
            "grid_area": null,
            "grid_auto_columns": null,
            "grid_auto_flow": null,
            "grid_auto_rows": null,
            "grid_column": null,
            "grid_gap": null,
            "grid_row": null,
            "grid_template_areas": null,
            "grid_template_columns": null,
            "grid_template_rows": null,
            "height": null,
            "justify_content": null,
            "justify_items": null,
            "left": null,
            "margin": null,
            "max_height": null,
            "max_width": null,
            "min_height": null,
            "min_width": null,
            "object_fit": null,
            "object_position": null,
            "order": null,
            "overflow": null,
            "overflow_x": null,
            "overflow_y": null,
            "padding": null,
            "right": null,
            "top": null,
            "visibility": null,
            "width": null
          }
        },
        "ab1700a6fae34a1ba1b229d927bcc9b6": {
          "model_module": "@jupyter-widgets/base",
          "model_name": "LayoutModel",
          "model_module_version": "1.2.0",
          "state": {
            "_model_module": "@jupyter-widgets/base",
            "_model_module_version": "1.2.0",
            "_model_name": "LayoutModel",
            "_view_count": null,
            "_view_module": "@jupyter-widgets/base",
            "_view_module_version": "1.2.0",
            "_view_name": "LayoutView",
            "align_content": null,
            "align_items": null,
            "align_self": null,
            "border": null,
            "bottom": null,
            "display": null,
            "flex": null,
            "flex_flow": null,
            "grid_area": null,
            "grid_auto_columns": null,
            "grid_auto_flow": null,
            "grid_auto_rows": null,
            "grid_column": null,
            "grid_gap": null,
            "grid_row": null,
            "grid_template_areas": null,
            "grid_template_columns": null,
            "grid_template_rows": null,
            "height": null,
            "justify_content": null,
            "justify_items": null,
            "left": null,
            "margin": null,
            "max_height": null,
            "max_width": null,
            "min_height": null,
            "min_width": null,
            "object_fit": null,
            "object_position": null,
            "order": null,
            "overflow": null,
            "overflow_x": null,
            "overflow_y": null,
            "padding": null,
            "right": null,
            "top": null,
            "visibility": null,
            "width": null
          }
        },
        "439ec7b60d954a82a46f327066b9866b": {
          "model_module": "@jupyter-widgets/controls",
          "model_name": "DescriptionStyleModel",
          "model_module_version": "1.5.0",
          "state": {
            "_model_module": "@jupyter-widgets/controls",
            "_model_module_version": "1.5.0",
            "_model_name": "DescriptionStyleModel",
            "_view_count": null,
            "_view_module": "@jupyter-widgets/base",
            "_view_module_version": "1.2.0",
            "_view_name": "StyleView",
            "description_width": ""
          }
        },
        "a341ddfcc3804176afd3c0129cca9e2b": {
          "model_module": "@jupyter-widgets/base",
          "model_name": "LayoutModel",
          "model_module_version": "1.2.0",
          "state": {
            "_model_module": "@jupyter-widgets/base",
            "_model_module_version": "1.2.0",
            "_model_name": "LayoutModel",
            "_view_count": null,
            "_view_module": "@jupyter-widgets/base",
            "_view_module_version": "1.2.0",
            "_view_name": "LayoutView",
            "align_content": null,
            "align_items": null,
            "align_self": null,
            "border": null,
            "bottom": null,
            "display": null,
            "flex": null,
            "flex_flow": null,
            "grid_area": null,
            "grid_auto_columns": null,
            "grid_auto_flow": null,
            "grid_auto_rows": null,
            "grid_column": null,
            "grid_gap": null,
            "grid_row": null,
            "grid_template_areas": null,
            "grid_template_columns": null,
            "grid_template_rows": null,
            "height": null,
            "justify_content": null,
            "justify_items": null,
            "left": null,
            "margin": null,
            "max_height": null,
            "max_width": null,
            "min_height": null,
            "min_width": null,
            "object_fit": null,
            "object_position": null,
            "order": null,
            "overflow": null,
            "overflow_x": null,
            "overflow_y": null,
            "padding": null,
            "right": null,
            "top": null,
            "visibility": null,
            "width": null
          }
        },
        "995bd13447a9436584170067e870078a": {
          "model_module": "@jupyter-widgets/controls",
          "model_name": "ProgressStyleModel",
          "model_module_version": "1.5.0",
          "state": {
            "_model_module": "@jupyter-widgets/controls",
            "_model_module_version": "1.5.0",
            "_model_name": "ProgressStyleModel",
            "_view_count": null,
            "_view_module": "@jupyter-widgets/base",
            "_view_module_version": "1.2.0",
            "_view_name": "StyleView",
            "bar_color": null,
            "description_width": ""
          }
        },
        "d11b0d9af40542dd8b9327eb29fd4ac6": {
          "model_module": "@jupyter-widgets/base",
          "model_name": "LayoutModel",
          "model_module_version": "1.2.0",
          "state": {
            "_model_module": "@jupyter-widgets/base",
            "_model_module_version": "1.2.0",
            "_model_name": "LayoutModel",
            "_view_count": null,
            "_view_module": "@jupyter-widgets/base",
            "_view_module_version": "1.2.0",
            "_view_name": "LayoutView",
            "align_content": null,
            "align_items": null,
            "align_self": null,
            "border": null,
            "bottom": null,
            "display": null,
            "flex": null,
            "flex_flow": null,
            "grid_area": null,
            "grid_auto_columns": null,
            "grid_auto_flow": null,
            "grid_auto_rows": null,
            "grid_column": null,
            "grid_gap": null,
            "grid_row": null,
            "grid_template_areas": null,
            "grid_template_columns": null,
            "grid_template_rows": null,
            "height": null,
            "justify_content": null,
            "justify_items": null,
            "left": null,
            "margin": null,
            "max_height": null,
            "max_width": null,
            "min_height": null,
            "min_width": null,
            "object_fit": null,
            "object_position": null,
            "order": null,
            "overflow": null,
            "overflow_x": null,
            "overflow_y": null,
            "padding": null,
            "right": null,
            "top": null,
            "visibility": null,
            "width": null
          }
        },
        "48b898e509944aa7827a1a122408e39b": {
          "model_module": "@jupyter-widgets/controls",
          "model_name": "DescriptionStyleModel",
          "model_module_version": "1.5.0",
          "state": {
            "_model_module": "@jupyter-widgets/controls",
            "_model_module_version": "1.5.0",
            "_model_name": "DescriptionStyleModel",
            "_view_count": null,
            "_view_module": "@jupyter-widgets/base",
            "_view_module_version": "1.2.0",
            "_view_name": "StyleView",
            "description_width": ""
          }
        }
      }
    },
    "accelerator": "GPU",
    "gpuClass": "standard"
  },
  "nbformat": 4,
  "nbformat_minor": 0
}