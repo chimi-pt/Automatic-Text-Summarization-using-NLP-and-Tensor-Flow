{
  "cells": [
    {
      "cell_type": "markdown",
      "metadata": {
        "id": "view-in-github",
        "colab_type": "text"
      },
      "source": [
        "<a href=\"https://colab.research.google.com/github/chimi-pt/Automatic-Text-Summarization-using-NLP-and-Tensor-Flow/blob/main/main.ipynb\" target=\"_parent\"><img src=\"https://colab.research.google.com/assets/colab-badge.svg\" alt=\"Open In Colab\"/></a>"
      ]
    },
    {
      "cell_type": "markdown",
      "metadata": {
        "id": "p8cmEntDCqFz"
      },
      "source": [
        "# **Loading and Segregating the Dataset**"
      ]
    },
    {
      "cell_type": "code",
      "source": [
        "# get the CNN stories dataset\n",
        "# untar the dataset\n",
        "!tar -xvf /content/drive/MyDrive/project/cnn_stories.tgz"
      ],
      "metadata": {
        "id": "w-yf47ay-PvY"
      },
      "execution_count": null,
      "outputs": []
    },
    {
      "cell_type": "code",
      "execution_count": null,
      "metadata": {
        "id": "1VYuG-jCwhd7"
      },
      "outputs": [],
      "source": [
        "# dependencies\n",
        "from tqdm.notebook import tqdm\n",
        "from os import listdir\n",
        "import string"
      ]
    },
    {
      "cell_type": "code",
      "execution_count": null,
      "metadata": {
        "id": "h8PA835kwjfb"
      },
      "outputs": [],
      "source": [
        "# load doc into memory\n",
        "def load_doc(filename):\n",
        "    # open the file as read only\n",
        "    file = open(filename, encoding='utf-8')\n",
        "    # read all text\n",
        "    text = file.read()\n",
        "    # close the file\n",
        "    file.close()\n",
        "    \n",
        "    return text\n",
        "\n",
        "# split a document into news story and highlights\n",
        "def split_story(doc):\n",
        "    \n",
        "    #find first highlight\n",
        "    index = doc.find('@highlight')\n",
        "    \n",
        "    # split into story and highlights\n",
        "    story, highlights = doc[:index], doc[index:].split('@highlight')\n",
        "    \n",
        "    # strip extra white space around each highlight\n",
        "    highlights = [h.strip() for h in highlights if len(h) > 0]\n",
        "    \n",
        "    return story, highlights\n",
        "\n",
        "# load all stories in a directory\n",
        "def load_stories(directory):\n",
        "    stories = list()\n",
        "    \n",
        "    for name in tqdm(listdir(directory)):\n",
        "        filename = directory + '/' + name\n",
        "        \n",
        "        # load document\n",
        "        doc = load_doc(filename)\n",
        "        \n",
        "        # split into story and highlights\n",
        "        story, highlights = split_story(doc)\n",
        "        \n",
        "        # store\n",
        "        stories.append({'story':story, 'highlights':highlights})\n",
        "    \n",
        "    return stories"
      ]
    },
    {
      "cell_type": "code",
      "execution_count": null,
      "metadata": {
        "colab": {
          "base_uri": "https://localhost:8080/",
          "height": 67,
          "referenced_widgets": [
            "54a602b22cad4bb4833fbfc01e7591ee",
            "212247f228974e26b101736434fd6ad8",
            "5317361ee75c4944af1a439a4e08e6ae",
            "1d41575cbc2e40289b7ee998a92a370a",
            "da43b1de666d48d389e74c76e93f10ea",
            "ab1700a6fae34a1ba1b229d927bcc9b6",
            "439ec7b60d954a82a46f327066b9866b",
            "a341ddfcc3804176afd3c0129cca9e2b",
            "995bd13447a9436584170067e870078a",
            "d11b0d9af40542dd8b9327eb29fd4ac6",
            "48b898e509944aa7827a1a122408e39b"
          ]
        },
        "id": "ZR1rBYLownQi",
        "outputId": "8b57414a-f562-4436-de95-1f86d6d1a19c"
      },
      "outputs": [
        {
          "output_type": "display_data",
          "data": {
            "text/plain": [
              "  0%|          | 0/92579 [00:00<?, ?it/s]"
            ],
            "application/vnd.jupyter.widget-view+json": {
              "version_major": 2,
              "version_minor": 0,
              "model_id": "54a602b22cad4bb4833fbfc01e7591ee"
            }
          },
          "metadata": {}
        },
        {
          "output_type": "stream",
          "name": "stdout",
          "text": [
            "Loaded Stories 92579\n"
          ]
        }
      ],
      "source": [
        "# segregate into news and summaries\n",
        "directory = 'cnn/stories/'\n",
        "stories = load_stories(directory)\n",
        "print('Loaded Stories %d' % len(stories))"
      ]
    },
    {
      "cell_type": "code",
      "execution_count": null,
      "metadata": {
        "id": "k2o-_c9lwpc5"
      },
      "outputs": [],
      "source": [
        "# serialize the master list\n",
        "from pickle import dump\n",
        "dump(stories, open('stories.pkl', 'wb'))"
      ]
    },
    {
      "cell_type": "markdown",
      "metadata": {
        "id": "LUpxvZ2yC2PL"
      },
      "source": [
        "## **Preprocessing the stories and the summaries**"
      ]
    },
    {
      "cell_type": "markdown",
      "metadata": {
        "id": "aq4PNVhQDCgr"
      },
      "source": [
        "## Converting all words to lowercase.\n",
        "Removing all punctuation\n",
        "No numerical tokens are present."
      ]
    },
    {
      "cell_type": "code",
      "execution_count": null,
      "metadata": {
        "id": "U-lOwzzJwrcE"
      },
      "outputs": [],
      "source": [
        "# dependencies\n",
        "from tqdm.notebook import tqdm\n",
        "from pickle import load\n",
        "import pandas as pd\n",
        "import numpy as np\n",
        "import string"
      ]
    },
    {
      "cell_type": "code",
      "execution_count": null,
      "metadata": {
        "colab": {
          "base_uri": "https://localhost:8080/"
        },
        "id": "aEGcoB_1wuTp",
        "outputId": "f624c347-4f6c-44f6-a7ee-ddfd8f5c205f"
      },
      "outputs": [
        {
          "name": "stdout",
          "output_type": "stream",
          "text": [
            "Loaded Stories 92579\n"
          ]
        }
      ],
      "source": [
        "# load stories and summaries' list\n",
        "stories = load(open('stories.pkl', 'rb'))\n",
        "print('Loaded Stories %d' % len(stories))"
      ]
    },
    {
      "cell_type": "code",
      "execution_count": null,
      "metadata": {
        "id": "98iZIwnDwwaq"
      },
      "outputs": [],
      "source": [
        "# clean a list of lines\n",
        "def clean_lines(lines):\n",
        "    cleaned = list()\n",
        "    # prepare a translation table to remove punctuation\n",
        "    table = str.maketrans('', '', string.punctuation)\n",
        "    for line in lines:\n",
        "        # strip source cnn office if it exists\n",
        "        index = line.find('(CNN) -- ')\n",
        "        if index > -1:\n",
        "            line = line[index+len('(CNN)'):]\n",
        "        # tokenize on white space\n",
        "        line = line.split()\n",
        "        # convert to lower case\n",
        "        line = [word.lower() for word in line]\n",
        "        # remove punctuation from each token\n",
        "        line = [w.translate(table) for w in line]\n",
        "        # remove tokens with numbers in them\n",
        "        line = [word for word in line if word.isalpha()]\n",
        "        # store as string\n",
        "        cleaned.append(' '.join(line))\n",
        "    # remove empty strings\n",
        "    cleaned = [c for c in cleaned if len(c) > 0]\n",
        "    return cleaned"
      ]
    },
    {
      "cell_type": "markdown",
      "metadata": {
        "id": "vtWKh8ANDKAi"
      },
      "source": [
        "**## Cleaning the stories and summaries**"
      ]
    },
    {
      "cell_type": "code",
      "execution_count": null,
      "metadata": {
        "colab": {
          "base_uri": "https://localhost:8080/",
          "height": 49,
          "referenced_widgets": [
            "15e40055df9f4547a1e195a7a56fff28",
            "abbedf9032624e2684a4e457d1e917b0",
            "1140f300819a4dda869f0f9ccc5122c7",
            "23840e99a7234417b7c3deacffd14f03",
            "5ae1b15cccef4527a3b12027c898a097",
            "5e825f9788534e64a2ddd5bf7bcd872b",
            "d0bb3dff290c4492a1926329ad004084",
            "47c1a8af6b7046a88ce4d1bf87d003d7",
            "c941c5af001b4b149bb2ca850c9c3814",
            "8054c8a0076045bc979f157f051da384",
            "47db9899363b4ca0ae2e86b36838ca7f"
          ]
        },
        "id": "mTM8XGbCwyLL",
        "outputId": "224f9af4-68c1-4aa4-f4b6-e7bd285ab183"
      },
      "outputs": [
        {
          "data": {
            "application/vnd.jupyter.widget-view+json": {
              "model_id": "15e40055df9f4547a1e195a7a56fff28",
              "version_major": 2,
              "version_minor": 0
            },
            "text/plain": [
              "  0%|          | 0/92579 [00:00<?, ?it/s]"
            ]
          },
          "metadata": {},
          "output_type": "display_data"
        }
      ],
      "source": [
        "# clean th stories and summaries\n",
        "for example in tqdm(stories):\n",
        "    example['story'] = clean_lines(example['story'].split('\\n'))\n",
        "    example['highlights'] = clean_lines(example['highlights'])"
      ]
    },
    {
      "cell_type": "markdown",
      "metadata": {
        "id": "j1r8VINNDQin"
      },
      "source": [
        "# **Extracting Summaries from the Stories with ROUGE Score**"
      ]
    },
    {
      "cell_type": "markdown",
      "metadata": {
        "id": "pJzh55FPDnjg"
      },
      "source": [
        "## Installing the rouge module  for calculating the rouge scores"
      ]
    },
    {
      "cell_type": "code",
      "execution_count": null,
      "metadata": {
        "id": "qwOabTX5w0L-"
      },
      "outputs": [],
      "source": [
        "# install the Rouge module for calculating the Rouge scores\n",
        "#!pip install -q Rouge"
      ]
    },
    {
      "cell_type": "code",
      "execution_count": null,
      "metadata": {
        "id": "Vv9zTZU-w2Az"
      },
      "outputs": [],
      "source": [
        "# import the Rouge module and instantiate it\n",
        "from rouge import Rouge \n",
        "rouge = Rouge()"
      ]
    },
    {
      "cell_type": "code",
      "execution_count": null,
      "metadata": {
        "id": "ubuPm3Wqw5tW"
      },
      "outputs": [],
      "source": [
        "# utility for calculating Rouge score between pairs of sentences\n",
        "def get_rouge_f1(references, sentence):\n",
        "    score_ls = []\n",
        "    for ans in references :\n",
        "        scores = rouge.get_scores(ans, sentence)\n",
        "        score_ls.append(scores[0]['rouge-1']['f'])\n",
        "    \n",
        "    return max(score_ls)"
      ]
    },
    {
      "cell_type": "code",
      "execution_count": null,
      "metadata": {
        "id": "3ZqAjoKgw7cs"
      },
      "outputs": [],
      "source": [
        "def get_list_ans_each_story(story_inp, references_inp):\n",
        "    \n",
        "    scr = []\n",
        "    hyp = []\n",
        "\n",
        "    # iterate through each sentence of a given story\n",
        "    for i in range(0, len(story_inp)):\n",
        "        # calculate Rouge score between the current sentence and the\n",
        "        # provided (abstractive summaries)\n",
        "        hypothesis = story_inp[i]\n",
        "        scores = get_rouge_f1(references_inp, hypothesis)\n",
        "\n",
        "        # track sentences iterated and store their scores\n",
        "        hyp.append(hypothesis)\n",
        "        scr.append(scores)\n",
        "        \n",
        "    # convert to NumPy array\n",
        "    hyp1 = np.array(hyp)\n",
        "    \n",
        "    # sort the scores to get the indices\n",
        "    scr1 = np.array(scr)\n",
        "    scr2 = np.sort(scr)[::-1]\n",
        "    ind  = np.argsort(scr)[::-1]\n",
        "    \n",
        "    # take top 5 \n",
        "    ind1 = ind[0:5]\n",
        "    list_ref = list(hyp1[ind1])\n",
        "    \n",
        "    return list_ref, scr2[0:5]"
      ]
    },
    {
      "cell_type": "code",
      "execution_count": null,
      "metadata": {
        "colab": {
          "base_uri": "https://localhost:8080/",
          "height": 49,
          "referenced_widgets": [
            "f05c541f143f4a6e843291026c29ae02",
            "90a89a73cb074cfaa458c511fea0b2b0",
            "f957660a34584d00bbdf73d70a4377f5",
            "65b199a392264bcb8848980407c9f5e7",
            "9a6b527cad2b4b80a2d8e3faa1a180c0",
            "d65984e1a4134f5d90aff163c4f6dad1",
            "c79243172862452694a1f2804bcca783",
            "b36114bb2a124a5f9447d77db576734c",
            "83a2d8822e3441b89d39a26822b22387",
            "fa0b04c00c004350b5e4f0e0f58d5d50",
            "73a681b807064be29d0b68183e69907c"
          ]
        },
        "id": "JoPg_a22w7_m",
        "outputId": "1de90dcd-7574-4fa7-d187-934e6883041d"
      },
      "outputs": [
        {
          "data": {
            "application/vnd.jupyter.widget-view+json": {
              "model_id": "f05c541f143f4a6e843291026c29ae02",
              "version_major": 2,
              "version_minor": 0
            },
            "text/plain": [
              "  0%|          | 0/92579 [00:00<?, ?it/s]"
            ]
          },
          "metadata": {},
          "output_type": "display_data"
        }
      ],
      "source": [
        "dict_id_summary = {}\n",
        "dict_id_score = {}\n",
        "\n",
        "# iterate through each story\n",
        "for s_id in tqdm(range(0, len(stories))):\n",
        "    \n",
        "    # story inputs (each sentence of a story)\n",
        "    story_inp = stories[s_id]['story']\n",
        "    \n",
        "    # reference inputs (abstractive summaries)\n",
        "    references_inp = stories[s_id]['highlights']\n",
        "    \n",
        "    # get the list of references and scores\n",
        "    list_ref, list_score = get_list_ans_each_story(story_inp, references_inp)\n",
        "    \n",
        "    # store the results in the dictionaries\n",
        "    dict_id_summary[s_id] = list_ref\n",
        "    dict_id_score[s_id] = list_score"
      ]
    },
    {
      "cell_type": "markdown",
      "metadata": {
        "id": "U1FX47z9D2se"
      },
      "source": [
        "## Storing the dictionaries created above as `.pkl` files"
      ]
    },
    {
      "cell_type": "code",
      "execution_count": null,
      "metadata": {
        "colab": {
          "base_uri": "https://localhost:8080/",
          "height": 49,
          "referenced_widgets": [
            "79b72a6729284a86a361df025a9748fd",
            "6916e2e545d144669daa869a57c2299c",
            "c767d36c605c46bd9714f31ee347c5c2",
            "0940c762ec0848b2a9442b0dd97ef769",
            "0111338988d14586aa168f97bb3c91c5",
            "6f997cfe91cc475cbe749c20db024b9c",
            "520c7eb1f5bc4cf78a8330b5276adc31",
            "226fac28b41149acabc216f6588b9e19",
            "695d830d2409443284017c23d7034dda",
            "dbf7d8c4b92a4507ab0ec96e8979c60c",
            "46196ce3d2fa463aabeab9fd2b0e3ef3"
          ]
        },
        "id": "fXgZIi1jw-DU",
        "outputId": "6b63ad5b-5134-4d43-84ef-bd4e60ad8af1"
      },
      "outputs": [
        {
          "data": {
            "application/vnd.jupyter.widget-view+json": {
              "model_id": "79b72a6729284a86a361df025a9748fd",
              "version_major": 2,
              "version_minor": 0
            },
            "text/plain": [
              "  0%|          | 0/92579 [00:00<?, ?it/s]"
            ]
          },
          "metadata": {},
          "output_type": "display_data"
        }
      ],
      "source": [
        "story_id = []\n",
        "label_sent = []\n",
        "sent_id = []\n",
        "list_sent = []\n",
        "\n",
        "# iterate through each story\n",
        "for i in tqdm(range(0, len(stories))):\n",
        "    \n",
        "    # list of references for the story\n",
        "    list_ref = dict_id_summary[i]\n",
        "    \n",
        "    # iterate through each sentence of the current story\n",
        "    for j, story in enumerate(stories[i]['story']) :\n",
        "        \n",
        "        # check if the story is in the list reference\n",
        "        ind =  int(story in list_ref)\n",
        "        \n",
        "        # append the indicator as the labels\n",
        "        label_sent.append(ind)\n",
        "        \n",
        "        # 1. append the sentences per story\n",
        "        list_sent.append(story)\n",
        "        \n",
        "        # 2. append the sent_ids\n",
        "        sent_id.append(j)\n",
        "        \n",
        "        # 3. append the story_id\n",
        "        story_id.append(i)"
      ]
    },
    {
      "cell_type": "code",
      "execution_count": null,
      "metadata": {
        "id": "7mZEyPdaxAPr"
      },
      "outputs": [],
      "source": [
        "# create the dataframe\n",
        "df_story_summary = pd.DataFrame()\n",
        "\n",
        "df_story_summary['story_id'] = story_id\n",
        "df_story_summary['sent_id'] = sent_id\n",
        "df_story_summary['sentence'] = list_sent\n",
        "df_story_summary['label_sent'] = label_sent"
      ]
    },
    {
      "cell_type": "markdown",
      "metadata": {
        "id": "xj8_wOLlD9KP"
      },
      "source": [
        "## Preview"
      ]
    },
    {
      "cell_type": "code",
      "execution_count": null,
      "metadata": {
        "colab": {
          "base_uri": "https://localhost:8080/",
          "height": 206
        },
        "id": "aVIUCeS-xCjg",
        "outputId": "613d7281-81ce-4ab1-d827-0b3b8c310668"
      },
      "outputs": [
        {
          "data": {
            "text/html": [
              "\n",
              "  <div id=\"df-5e4e006a-8c28-40a5-ac75-a0f318421a41\">\n",
              "    <div class=\"colab-df-container\">\n",
              "      <div>\n",
              "<style scoped>\n",
              "    .dataframe tbody tr th:only-of-type {\n",
              "        vertical-align: middle;\n",
              "    }\n",
              "\n",
              "    .dataframe tbody tr th {\n",
              "        vertical-align: top;\n",
              "    }\n",
              "\n",
              "    .dataframe thead th {\n",
              "        text-align: right;\n",
              "    }\n",
              "</style>\n",
              "<table border=\"1\" class=\"dataframe\">\n",
              "  <thead>\n",
              "    <tr style=\"text-align: right;\">\n",
              "      <th></th>\n",
              "      <th>story_id</th>\n",
              "      <th>sent_id</th>\n",
              "      <th>sentence</th>\n",
              "      <th>label_sent</th>\n",
              "    </tr>\n",
              "  </thead>\n",
              "  <tbody>\n",
              "    <tr>\n",
              "      <th>0</th>\n",
              "      <td>0</td>\n",
              "      <td>0</td>\n",
              "      <td>the us food and drug administration issued a w...</td>\n",
              "      <td>1</td>\n",
              "    </tr>\n",
              "    <tr>\n",
              "      <th>1</th>\n",
              "      <td>0</td>\n",
              "      <td>1</td>\n",
              "      <td>magic power coffee contains a chemical that ca...</td>\n",
              "      <td>1</td>\n",
              "    </tr>\n",
              "    <tr>\n",
              "      <th>2</th>\n",
              "      <td>0</td>\n",
              "      <td>2</td>\n",
              "      <td>customers who have magic power coffee should s...</td>\n",
              "      <td>1</td>\n",
              "    </tr>\n",
              "    <tr>\n",
              "      <th>3</th>\n",
              "      <td>0</td>\n",
              "      <td>3</td>\n",
              "      <td>because this product is an instant coffee labe...</td>\n",
              "      <td>1</td>\n",
              "    </tr>\n",
              "    <tr>\n",
              "      <th>4</th>\n",
              "      <td>0</td>\n",
              "      <td>4</td>\n",
              "      <td>the agency warned the public that sexual enhan...</td>\n",
              "      <td>0</td>\n",
              "    </tr>\n",
              "  </tbody>\n",
              "</table>\n",
              "</div>\n",
              "      <button class=\"colab-df-convert\" onclick=\"convertToInteractive('df-5e4e006a-8c28-40a5-ac75-a0f318421a41')\"\n",
              "              title=\"Convert this dataframe to an interactive table.\"\n",
              "              style=\"display:none;\">\n",
              "        \n",
              "  <svg xmlns=\"http://www.w3.org/2000/svg\" height=\"24px\"viewBox=\"0 0 24 24\"\n",
              "       width=\"24px\">\n",
              "    <path d=\"M0 0h24v24H0V0z\" fill=\"none\"/>\n",
              "    <path d=\"M18.56 5.44l.94 2.06.94-2.06 2.06-.94-2.06-.94-.94-2.06-.94 2.06-2.06.94zm-11 1L8.5 8.5l.94-2.06 2.06-.94-2.06-.94L8.5 2.5l-.94 2.06-2.06.94zm10 10l.94 2.06.94-2.06 2.06-.94-2.06-.94-.94-2.06-.94 2.06-2.06.94z\"/><path d=\"M17.41 7.96l-1.37-1.37c-.4-.4-.92-.59-1.43-.59-.52 0-1.04.2-1.43.59L10.3 9.45l-7.72 7.72c-.78.78-.78 2.05 0 2.83L4 21.41c.39.39.9.59 1.41.59.51 0 1.02-.2 1.41-.59l7.78-7.78 2.81-2.81c.8-.78.8-2.07 0-2.86zM5.41 20L4 18.59l7.72-7.72 1.47 1.35L5.41 20z\"/>\n",
              "  </svg>\n",
              "      </button>\n",
              "      \n",
              "  <style>\n",
              "    .colab-df-container {\n",
              "      display:flex;\n",
              "      flex-wrap:wrap;\n",
              "      gap: 12px;\n",
              "    }\n",
              "\n",
              "    .colab-df-convert {\n",
              "      background-color: #E8F0FE;\n",
              "      border: none;\n",
              "      border-radius: 50%;\n",
              "      cursor: pointer;\n",
              "      display: none;\n",
              "      fill: #1967D2;\n",
              "      height: 32px;\n",
              "      padding: 0 0 0 0;\n",
              "      width: 32px;\n",
              "    }\n",
              "\n",
              "    .colab-df-convert:hover {\n",
              "      background-color: #E2EBFA;\n",
              "      box-shadow: 0px 1px 2px rgba(60, 64, 67, 0.3), 0px 1px 3px 1px rgba(60, 64, 67, 0.15);\n",
              "      fill: #174EA6;\n",
              "    }\n",
              "\n",
              "    [theme=dark] .colab-df-convert {\n",
              "      background-color: #3B4455;\n",
              "      fill: #D2E3FC;\n",
              "    }\n",
              "\n",
              "    [theme=dark] .colab-df-convert:hover {\n",
              "      background-color: #434B5C;\n",
              "      box-shadow: 0px 1px 3px 1px rgba(0, 0, 0, 0.15);\n",
              "      filter: drop-shadow(0px 1px 2px rgba(0, 0, 0, 0.3));\n",
              "      fill: #FFFFFF;\n",
              "    }\n",
              "  </style>\n",
              "\n",
              "      <script>\n",
              "        const buttonEl =\n",
              "          document.querySelector('#df-5e4e006a-8c28-40a5-ac75-a0f318421a41 button.colab-df-convert');\n",
              "        buttonEl.style.display =\n",
              "          google.colab.kernel.accessAllowed ? 'block' : 'none';\n",
              "\n",
              "        async function convertToInteractive(key) {\n",
              "          const element = document.querySelector('#df-5e4e006a-8c28-40a5-ac75-a0f318421a41');\n",
              "          const dataTable =\n",
              "            await google.colab.kernel.invokeFunction('convertToInteractive',\n",
              "                                                     [key], {});\n",
              "          if (!dataTable) return;\n",
              "\n",
              "          const docLinkHtml = 'Like what you see? Visit the ' +\n",
              "            '<a target=\"_blank\" href=https://colab.research.google.com/notebooks/data_table.ipynb>data table notebook</a>'\n",
              "            + ' to learn more about interactive tables.';\n",
              "          element.innerHTML = '';\n",
              "          dataTable['output_type'] = 'display_data';\n",
              "          await google.colab.output.renderOutput(dataTable, element);\n",
              "          const docLink = document.createElement('div');\n",
              "          docLink.innerHTML = docLinkHtml;\n",
              "          element.appendChild(docLink);\n",
              "        }\n",
              "      </script>\n",
              "    </div>\n",
              "  </div>\n",
              "  "
            ],
            "text/plain": [
              "   story_id  sent_id                                           sentence  \\\n",
              "0         0        0  the us food and drug administration issued a w...   \n",
              "1         0        1  magic power coffee contains a chemical that ca...   \n",
              "2         0        2  customers who have magic power coffee should s...   \n",
              "3         0        3  because this product is an instant coffee labe...   \n",
              "4         0        4  the agency warned the public that sexual enhan...   \n",
              "\n",
              "   label_sent  \n",
              "0           1  \n",
              "1           1  \n",
              "2           1  \n",
              "3           1  \n",
              "4           0  "
            ]
          },
          "execution_count": 29,
          "metadata": {},
          "output_type": "execute_result"
        }
      ],
      "source": [
        "# preview the dataframe\n",
        "df_story_summary.head()"
      ]
    },
    {
      "cell_type": "code",
      "execution_count": null,
      "metadata": {
        "id": "gEkylBhixGCD"
      },
      "outputs": [],
      "source": [
        "# serialize\n",
        "df_story_summary.to_pickle('dataframe_extractive.pkl')"
      ]
    },
    {
      "cell_type": "markdown",
      "metadata": {
        "id": "6dmw6BCyEB3a"
      },
      "source": [
        "# **Dataset Subsampling and Splitting**"
      ]
    },
    {
      "cell_type": "markdown",
      "metadata": {
        "id": "Ni5owlEiEHxe"
      },
      "source": [
        "Creating a small sample from the original dataset and further split the sample into training, validation, and test sets.Important because it finalizes the input training dataset that will go into the model."
      ]
    },
    {
      "cell_type": "code",
      "execution_count": null,
      "metadata": {
        "id": "Y2ql_mjXxGls"
      },
      "outputs": [],
      "source": [
        "# dependencies\n",
        "import pandas as pd\n",
        "import numpy as np\n",
        "import seaborn as sns\n",
        "import matplotlib.pyplot as plt\n",
        "import random \n",
        "\n",
        "from tqdm import tqdm\n",
        "from itertools import chain\n",
        "from sklearn.model_selection import train_test_split\n",
        "from tensorflow.keras.layers import *\n",
        "from tensorflow.keras.models import *\n",
        "from tensorflow.keras.preprocessing.sequence import pad_sequences\n",
        "import tensorflow as tf\n",
        "from tensorflow.keras import backend as K"
      ]
    },
    {
      "cell_type": "code",
      "execution_count": null,
      "metadata": {
        "colab": {
          "base_uri": "https://localhost:8080/"
        },
        "id": "-sCgnoO0xJnK",
        "outputId": "0f625cc7-ed09-418b-f67b-99f87150ebc1"
      },
      "outputs": [
        {
          "output_type": "stream",
          "name": "stdout",
          "text": [
            "2.9.2\n"
          ]
        }
      ],
      "source": [
        "# TensorFlow version\n",
        "print(tf.__version__)"
      ]
    },
    {
      "cell_type": "markdown",
      "metadata": {
        "id": "KcVyWeQnEPz_"
      },
      "source": [
        "ensure that the seeds are set properly in order to provide reproducible results."
      ]
    },
    {
      "cell_type": "code",
      "execution_count": null,
      "metadata": {
        "id": "z9gamxNQxLW2"
      },
      "outputs": [],
      "source": [
        "# fix the seed for better reproducibility\n",
        "SEED = 42\n",
        "tf.random.set_seed(SEED)\n",
        "np.random.seed(SEED)\n",
        "random.seed(SEED)"
      ]
    },
    {
      "cell_type": "code",
      "execution_count": null,
      "metadata": {
        "id": "aZU2y87KxMFO"
      },
      "outputs": [],
      "source": [
        "# make tqdm work with pandas\n",
        "tqdm.pandas()"
      ]
    },
    {
      "cell_type": "markdown",
      "metadata": {
        "id": "QoesMg5LEZi5"
      },
      "source": [
        "# **Dataset splitting and visualization**"
      ]
    },
    {
      "cell_type": "code",
      "execution_count": null,
      "metadata": {
        "colab": {
          "base_uri": "https://localhost:8080/",
          "height": 206
        },
        "id": "LkJWsqW1xMUY",
        "outputId": "07cad1f0-f4b1-4839-a605-dbf696c6262b"
      },
      "outputs": [
        {
          "output_type": "execute_result",
          "data": {
            "text/plain": [
              "   story_id  sent_id                                           sentence  \\\n",
              "0         0        0  in business if one of our companies is failing...   \n",
              "1         0        1  its this kind of logic that underpins a new re...   \n",
              "2         0        2  im a member of the commission and i am pleased...   \n",
              "3         0        3  this latest report taking control pathways to ...   \n",
              "4         0        4  the reality is that the most effective way to ...   \n",
              "\n",
              "   label_sent  \n",
              "0           0  \n",
              "1           1  \n",
              "2           1  \n",
              "3           1  \n",
              "4           1  "
            ],
            "text/html": [
              "\n",
              "  <div id=\"df-b2163968-53df-4e3f-9776-a6ae1ec80f28\">\n",
              "    <div class=\"colab-df-container\">\n",
              "      <div>\n",
              "<style scoped>\n",
              "    .dataframe tbody tr th:only-of-type {\n",
              "        vertical-align: middle;\n",
              "    }\n",
              "\n",
              "    .dataframe tbody tr th {\n",
              "        vertical-align: top;\n",
              "    }\n",
              "\n",
              "    .dataframe thead th {\n",
              "        text-align: right;\n",
              "    }\n",
              "</style>\n",
              "<table border=\"1\" class=\"dataframe\">\n",
              "  <thead>\n",
              "    <tr style=\"text-align: right;\">\n",
              "      <th></th>\n",
              "      <th>story_id</th>\n",
              "      <th>sent_id</th>\n",
              "      <th>sentence</th>\n",
              "      <th>label_sent</th>\n",
              "    </tr>\n",
              "  </thead>\n",
              "  <tbody>\n",
              "    <tr>\n",
              "      <th>0</th>\n",
              "      <td>0</td>\n",
              "      <td>0</td>\n",
              "      <td>in business if one of our companies is failing...</td>\n",
              "      <td>0</td>\n",
              "    </tr>\n",
              "    <tr>\n",
              "      <th>1</th>\n",
              "      <td>0</td>\n",
              "      <td>1</td>\n",
              "      <td>its this kind of logic that underpins a new re...</td>\n",
              "      <td>1</td>\n",
              "    </tr>\n",
              "    <tr>\n",
              "      <th>2</th>\n",
              "      <td>0</td>\n",
              "      <td>2</td>\n",
              "      <td>im a member of the commission and i am pleased...</td>\n",
              "      <td>1</td>\n",
              "    </tr>\n",
              "    <tr>\n",
              "      <th>3</th>\n",
              "      <td>0</td>\n",
              "      <td>3</td>\n",
              "      <td>this latest report taking control pathways to ...</td>\n",
              "      <td>1</td>\n",
              "    </tr>\n",
              "    <tr>\n",
              "      <th>4</th>\n",
              "      <td>0</td>\n",
              "      <td>4</td>\n",
              "      <td>the reality is that the most effective way to ...</td>\n",
              "      <td>1</td>\n",
              "    </tr>\n",
              "  </tbody>\n",
              "</table>\n",
              "</div>\n",
              "      <button class=\"colab-df-convert\" onclick=\"convertToInteractive('df-b2163968-53df-4e3f-9776-a6ae1ec80f28')\"\n",
              "              title=\"Convert this dataframe to an interactive table.\"\n",
              "              style=\"display:none;\">\n",
              "        \n",
              "  <svg xmlns=\"http://www.w3.org/2000/svg\" height=\"24px\"viewBox=\"0 0 24 24\"\n",
              "       width=\"24px\">\n",
              "    <path d=\"M0 0h24v24H0V0z\" fill=\"none\"/>\n",
              "    <path d=\"M18.56 5.44l.94 2.06.94-2.06 2.06-.94-2.06-.94-.94-2.06-.94 2.06-2.06.94zm-11 1L8.5 8.5l.94-2.06 2.06-.94-2.06-.94L8.5 2.5l-.94 2.06-2.06.94zm10 10l.94 2.06.94-2.06 2.06-.94-2.06-.94-.94-2.06-.94 2.06-2.06.94z\"/><path d=\"M17.41 7.96l-1.37-1.37c-.4-.4-.92-.59-1.43-.59-.52 0-1.04.2-1.43.59L10.3 9.45l-7.72 7.72c-.78.78-.78 2.05 0 2.83L4 21.41c.39.39.9.59 1.41.59.51 0 1.02-.2 1.41-.59l7.78-7.78 2.81-2.81c.8-.78.8-2.07 0-2.86zM5.41 20L4 18.59l7.72-7.72 1.47 1.35L5.41 20z\"/>\n",
              "  </svg>\n",
              "      </button>\n",
              "      \n",
              "  <style>\n",
              "    .colab-df-container {\n",
              "      display:flex;\n",
              "      flex-wrap:wrap;\n",
              "      gap: 12px;\n",
              "    }\n",
              "\n",
              "    .colab-df-convert {\n",
              "      background-color: #E8F0FE;\n",
              "      border: none;\n",
              "      border-radius: 50%;\n",
              "      cursor: pointer;\n",
              "      display: none;\n",
              "      fill: #1967D2;\n",
              "      height: 32px;\n",
              "      padding: 0 0 0 0;\n",
              "      width: 32px;\n",
              "    }\n",
              "\n",
              "    .colab-df-convert:hover {\n",
              "      background-color: #E2EBFA;\n",
              "      box-shadow: 0px 1px 2px rgba(60, 64, 67, 0.3), 0px 1px 3px 1px rgba(60, 64, 67, 0.15);\n",
              "      fill: #174EA6;\n",
              "    }\n",
              "\n",
              "    [theme=dark] .colab-df-convert {\n",
              "      background-color: #3B4455;\n",
              "      fill: #D2E3FC;\n",
              "    }\n",
              "\n",
              "    [theme=dark] .colab-df-convert:hover {\n",
              "      background-color: #434B5C;\n",
              "      box-shadow: 0px 1px 3px 1px rgba(0, 0, 0, 0.15);\n",
              "      filter: drop-shadow(0px 1px 2px rgba(0, 0, 0, 0.3));\n",
              "      fill: #FFFFFF;\n",
              "    }\n",
              "  </style>\n",
              "\n",
              "      <script>\n",
              "        const buttonEl =\n",
              "          document.querySelector('#df-b2163968-53df-4e3f-9776-a6ae1ec80f28 button.colab-df-convert');\n",
              "        buttonEl.style.display =\n",
              "          google.colab.kernel.accessAllowed ? 'block' : 'none';\n",
              "\n",
              "        async function convertToInteractive(key) {\n",
              "          const element = document.querySelector('#df-b2163968-53df-4e3f-9776-a6ae1ec80f28');\n",
              "          const dataTable =\n",
              "            await google.colab.kernel.invokeFunction('convertToInteractive',\n",
              "                                                     [key], {});\n",
              "          if (!dataTable) return;\n",
              "\n",
              "          const docLinkHtml = 'Like what you see? Visit the ' +\n",
              "            '<a target=\"_blank\" href=https://colab.research.google.com/notebooks/data_table.ipynb>data table notebook</a>'\n",
              "            + ' to learn more about interactive tables.';\n",
              "          element.innerHTML = '';\n",
              "          dataTable['output_type'] = 'display_data';\n",
              "          await google.colab.output.renderOutput(dataTable, element);\n",
              "          const docLink = document.createElement('div');\n",
              "          docLink.innerHTML = docLinkHtml;\n",
              "          element.appendChild(docLink);\n",
              "        }\n",
              "      </script>\n",
              "    </div>\n",
              "  </div>\n",
              "  "
            ]
          },
          "metadata": {},
          "execution_count": 5
        }
      ],
      "source": [
        "# load the dataset and preview\n",
        "data = pd.read_pickle('/content/drive/MyDrive/project/dataframe_extractive (1).pkl')\n",
        "data.head()"
      ]
    },
    {
      "cell_type": "code",
      "execution_count": null,
      "metadata": {
        "colab": {
          "base_uri": "https://localhost:8080/",
          "height": 206
        },
        "id": "h5jfafF-xMaG",
        "outputId": "61098b5b-d08c-4f9d-dd89-e1e143db8ebc"
      },
      "outputs": [
        {
          "output_type": "execute_result",
          "data": {
            "text/plain": [
              "   story_id  count_sentences\n",
              "0         0               16\n",
              "1         1               26\n",
              "2         2               25\n",
              "3         3               19\n",
              "4         4               14"
            ],
            "text/html": [
              "\n",
              "  <div id=\"df-fd78aa82-5ada-4f3a-97b4-57a8d3ac0c01\">\n",
              "    <div class=\"colab-df-container\">\n",
              "      <div>\n",
              "<style scoped>\n",
              "    .dataframe tbody tr th:only-of-type {\n",
              "        vertical-align: middle;\n",
              "    }\n",
              "\n",
              "    .dataframe tbody tr th {\n",
              "        vertical-align: top;\n",
              "    }\n",
              "\n",
              "    .dataframe thead th {\n",
              "        text-align: right;\n",
              "    }\n",
              "</style>\n",
              "<table border=\"1\" class=\"dataframe\">\n",
              "  <thead>\n",
              "    <tr style=\"text-align: right;\">\n",
              "      <th></th>\n",
              "      <th>story_id</th>\n",
              "      <th>count_sentences</th>\n",
              "    </tr>\n",
              "  </thead>\n",
              "  <tbody>\n",
              "    <tr>\n",
              "      <th>0</th>\n",
              "      <td>0</td>\n",
              "      <td>16</td>\n",
              "    </tr>\n",
              "    <tr>\n",
              "      <th>1</th>\n",
              "      <td>1</td>\n",
              "      <td>26</td>\n",
              "    </tr>\n",
              "    <tr>\n",
              "      <th>2</th>\n",
              "      <td>2</td>\n",
              "      <td>25</td>\n",
              "    </tr>\n",
              "    <tr>\n",
              "      <th>3</th>\n",
              "      <td>3</td>\n",
              "      <td>19</td>\n",
              "    </tr>\n",
              "    <tr>\n",
              "      <th>4</th>\n",
              "      <td>4</td>\n",
              "      <td>14</td>\n",
              "    </tr>\n",
              "  </tbody>\n",
              "</table>\n",
              "</div>\n",
              "      <button class=\"colab-df-convert\" onclick=\"convertToInteractive('df-fd78aa82-5ada-4f3a-97b4-57a8d3ac0c01')\"\n",
              "              title=\"Convert this dataframe to an interactive table.\"\n",
              "              style=\"display:none;\">\n",
              "        \n",
              "  <svg xmlns=\"http://www.w3.org/2000/svg\" height=\"24px\"viewBox=\"0 0 24 24\"\n",
              "       width=\"24px\">\n",
              "    <path d=\"M0 0h24v24H0V0z\" fill=\"none\"/>\n",
              "    <path d=\"M18.56 5.44l.94 2.06.94-2.06 2.06-.94-2.06-.94-.94-2.06-.94 2.06-2.06.94zm-11 1L8.5 8.5l.94-2.06 2.06-.94-2.06-.94L8.5 2.5l-.94 2.06-2.06.94zm10 10l.94 2.06.94-2.06 2.06-.94-2.06-.94-.94-2.06-.94 2.06-2.06.94z\"/><path d=\"M17.41 7.96l-1.37-1.37c-.4-.4-.92-.59-1.43-.59-.52 0-1.04.2-1.43.59L10.3 9.45l-7.72 7.72c-.78.78-.78 2.05 0 2.83L4 21.41c.39.39.9.59 1.41.59.51 0 1.02-.2 1.41-.59l7.78-7.78 2.81-2.81c.8-.78.8-2.07 0-2.86zM5.41 20L4 18.59l7.72-7.72 1.47 1.35L5.41 20z\"/>\n",
              "  </svg>\n",
              "      </button>\n",
              "      \n",
              "  <style>\n",
              "    .colab-df-container {\n",
              "      display:flex;\n",
              "      flex-wrap:wrap;\n",
              "      gap: 12px;\n",
              "    }\n",
              "\n",
              "    .colab-df-convert {\n",
              "      background-color: #E8F0FE;\n",
              "      border: none;\n",
              "      border-radius: 50%;\n",
              "      cursor: pointer;\n",
              "      display: none;\n",
              "      fill: #1967D2;\n",
              "      height: 32px;\n",
              "      padding: 0 0 0 0;\n",
              "      width: 32px;\n",
              "    }\n",
              "\n",
              "    .colab-df-convert:hover {\n",
              "      background-color: #E2EBFA;\n",
              "      box-shadow: 0px 1px 2px rgba(60, 64, 67, 0.3), 0px 1px 3px 1px rgba(60, 64, 67, 0.15);\n",
              "      fill: #174EA6;\n",
              "    }\n",
              "\n",
              "    [theme=dark] .colab-df-convert {\n",
              "      background-color: #3B4455;\n",
              "      fill: #D2E3FC;\n",
              "    }\n",
              "\n",
              "    [theme=dark] .colab-df-convert:hover {\n",
              "      background-color: #434B5C;\n",
              "      box-shadow: 0px 1px 3px 1px rgba(0, 0, 0, 0.15);\n",
              "      filter: drop-shadow(0px 1px 2px rgba(0, 0, 0, 0.3));\n",
              "      fill: #FFFFFF;\n",
              "    }\n",
              "  </style>\n",
              "\n",
              "      <script>\n",
              "        const buttonEl =\n",
              "          document.querySelector('#df-fd78aa82-5ada-4f3a-97b4-57a8d3ac0c01 button.colab-df-convert');\n",
              "        buttonEl.style.display =\n",
              "          google.colab.kernel.accessAllowed ? 'block' : 'none';\n",
              "\n",
              "        async function convertToInteractive(key) {\n",
              "          const element = document.querySelector('#df-fd78aa82-5ada-4f3a-97b4-57a8d3ac0c01');\n",
              "          const dataTable =\n",
              "            await google.colab.kernel.invokeFunction('convertToInteractive',\n",
              "                                                     [key], {});\n",
              "          if (!dataTable) return;\n",
              "\n",
              "          const docLinkHtml = 'Like what you see? Visit the ' +\n",
              "            '<a target=\"_blank\" href=https://colab.research.google.com/notebooks/data_table.ipynb>data table notebook</a>'\n",
              "            + ' to learn more about interactive tables.';\n",
              "          element.innerHTML = '';\n",
              "          dataTable['output_type'] = 'display_data';\n",
              "          await google.colab.output.renderOutput(dataTable, element);\n",
              "          const docLink = document.createElement('div');\n",
              "          docLink.innerHTML = docLinkHtml;\n",
              "          element.appendChild(docLink);\n",
              "        }\n",
              "      </script>\n",
              "    </div>\n",
              "  </div>\n",
              "  "
            ]
          },
          "metadata": {},
          "execution_count": 6
        }
      ],
      "source": [
        "# story length distribution\n",
        "d1_sent_count = data.groupby('story_id').size().reset_index(name='count_sentences')\n",
        "d1_sent_count.head()"
      ]
    },
    {
      "cell_type": "markdown",
      "metadata": {
        "id": "RjpmHa69Efg7"
      },
      "source": [
        "calculating the median length of the stories"
      ]
    },
    {
      "cell_type": "code",
      "execution_count": null,
      "metadata": {
        "colab": {
          "base_uri": "https://localhost:8080/"
        },
        "id": "VEDSDFP0xMiA",
        "outputId": "2fb97906-f8d6-4ebd-a3ce-211b1c856e5d"
      },
      "outputs": [
        {
          "output_type": "execute_result",
          "data": {
            "text/plain": [
              "19.0"
            ]
          },
          "metadata": {},
          "execution_count": 7
        }
      ],
      "source": [
        "# median of the story lengths\n",
        "d1_sent_count['count_sentences'].median()"
      ]
    },
    {
      "cell_type": "code",
      "execution_count": null,
      "metadata": {
        "colab": {
          "base_uri": "https://localhost:8080/"
        },
        "id": "-U8HWivLxWB7",
        "outputId": "93eae7b8-6057-4b3f-dda5-c416553c05ba"
      },
      "outputs": [
        {
          "output_type": "execute_result",
          "data": {
            "text/plain": [
              "74223"
            ]
          },
          "metadata": {},
          "execution_count": 8
        }
      ],
      "source": [
        "# filter the stories that have a length < 30\n",
        "list_stories_subset = list(d1_sent_count[d1_sent_count['count_sentences'] < 30]['story_id'])\n",
        "len(list_stories_subset)"
      ]
    },
    {
      "cell_type": "markdown",
      "metadata": {
        "id": "wfnaytMYEjrm"
      },
      "source": [
        "Randomly sample 50,000 unique stories from the filtered-out story IDs."
      ]
    },
    {
      "cell_type": "code",
      "execution_count": null,
      "metadata": {
        "colab": {
          "base_uri": "https://localhost:8080/"
        },
        "id": "es36IakMxWE6",
        "outputId": "31ddb297-628a-442b-968a-67a5492360f8"
      },
      "outputs": [
        {
          "output_type": "execute_result",
          "data": {
            "text/plain": [
              "50000"
            ]
          },
          "metadata": {},
          "execution_count": 9
        }
      ],
      "source": [
        "# now subset the stories so that it can run on the system\n",
        "SUBSET = 50000\n",
        "list_stories_subset = random.sample(list_stories_subset, SUBSET)\n",
        "len(np.unique(list_stories_subset))"
      ]
    },
    {
      "cell_type": "markdown",
      "metadata": {
        "id": "ijo--KadEnAv"
      },
      "source": [
        "## Split these randomly sampled story IDs into three sets—training, validation, and testing—in a 3:1:1 ratio."
      ]
    },
    {
      "cell_type": "code",
      "execution_count": null,
      "metadata": {
        "colab": {
          "base_uri": "https://localhost:8080/"
        },
        "id": "ZoLe8c99xWHu",
        "outputId": "cce64b95-66bb-4495-aae4-66815b77661e"
      },
      "outputs": [
        {
          "output_type": "execute_result",
          "data": {
            "text/plain": [
              "((505305, 4), (168546, 4), (168504, 4))"
            ]
          },
          "metadata": {},
          "execution_count": 10
        }
      ],
      "source": [
        "# segregating into different splits\n",
        "train_ids = list_stories_subset[:30000]\n",
        "validation_ids = list_stories_subset[30000:40000]\n",
        "test_ids = list_stories_subset[40000:]\n",
        "\n",
        "train = data[data['story_id'].isin(train_ids)]\n",
        "valid = data[data['story_id'].isin(validation_ids)]\n",
        "test = data[data['story_id'].isin(test_ids)]\n",
        "\n",
        "train.shape, valid.shape, test.shape"
      ]
    },
    {
      "cell_type": "code",
      "execution_count": null,
      "metadata": {
        "colab": {
          "base_uri": "https://localhost:8080/",
          "height": 337
        },
        "id": "-y9vDdiVxWKW",
        "outputId": "4ca83906-28f1-4b24-892e-42e773bb4682"
      },
      "outputs": [
        {
          "output_type": "stream",
          "name": "stderr",
          "text": [
            "/usr/local/lib/python3.8/dist-packages/seaborn/distributions.py:2619: FutureWarning: `distplot` is a deprecated function and will be removed in a future version. Please adapt your code to use either `displot` (a figure-level function with similar flexibility) or `histplot` (an axes-level function for histograms).\n",
            "  warnings.warn(msg, FutureWarning)\n"
          ]
        },
        {
          "output_type": "display_data",
          "data": {
            "text/plain": [
              "<Figure size 432x288 with 1 Axes>"
            ],
            "image/png": "[encoded data removed]"
          },
          "metadata": {
            "needs_background": "light"
          }
        }
      ],
      "source": [
        "# story length distribution plot in the training dataset\n",
        "train = train.sort_values(['story_id','sent_id'])\n",
        "d2_sent_count = train.groupby('story_id').size().reset_index(name='count_sentences')\n",
        "sns.distplot(d2_sent_count['count_sentences'])\n",
        "plt.show()"
      ]
    },
    {
      "cell_type": "code",
      "execution_count": null,
      "metadata": {
        "colab": {
          "base_uri": "https://localhost:8080/"
        },
        "id": "wWe8cgEDxekm",
        "outputId": "793a8221-ff8a-4e9f-d2f4-ad1a7e989d02"
      },
      "outputs": [
        {
          "output_type": "execute_result",
          "data": {
            "text/plain": [
              "count    30000.000000\n",
              "mean        16.843500\n",
              "std          6.234375\n",
              "min          1.000000\n",
              "25%         12.000000\n",
              "50%         16.000000\n",
              "75%         22.000000\n",
              "max         29.000000\n",
              "Name: count_sentences, dtype: float64"
            ]
          },
          "metadata": {},
          "execution_count": 12
        }
      ],
      "source": [
        "# descriptive statistics of story length in the training dataset\n",
        "d2_sent_count['count_sentences'].describe()"
      ]
    },
    {
      "cell_type": "code",
      "execution_count": null,
      "metadata": {
        "colab": {
          "base_uri": "https://localhost:8080/"
        },
        "id": "OiMXsO9Zxenw",
        "outputId": "f0697b62-d25e-4427-df7b-d5ca72021bcc"
      },
      "outputs": [
        {
          "output_type": "execute_result",
          "data": {
            "text/plain": [
              "29"
            ]
          },
          "metadata": {},
          "execution_count": 13
        }
      ],
      "source": [
        "# we note the maximum story length from the training dataset as we will\n",
        "# be using this statistic for preprocessing\n",
        "max_len_story = d2_sent_count['count_sentences'].max()\n",
        "max_len_story"
      ]
    },
    {
      "cell_type": "code",
      "execution_count": null,
      "metadata": {
        "colab": {
          "base_uri": "https://localhost:8080/"
        },
        "id": "JiffuVYWxerF",
        "outputId": "e79ee905-fc68-4248-e4d9-155f5665b18e"
      },
      "outputs": [
        {
          "output_type": "execute_result",
          "data": {
            "text/plain": [
              "484438"
            ]
          },
          "metadata": {},
          "execution_count": 14
        }
      ],
      "source": [
        "# total number of unique sentences in the training dataset\n",
        "sent_ls = set(train['sentence'].tolist())\n",
        "len(sent_ls)"
      ]
    },
    {
      "cell_type": "code",
      "execution_count": null,
      "metadata": {
        "colab": {
          "base_uri": "https://localhost:8080/"
        },
        "id": "F6CfHVyIxkuI",
        "outputId": "8126fba2-1f6e-45bb-ea8e-268e3ffc311d"
      },
      "outputs": [
        {
          "output_type": "execute_result",
          "data": {
            "text/plain": [
              "2"
            ]
          },
          "metadata": {},
          "execution_count": 15
        }
      ],
      "source": [
        "# unique labels in the training dataset\n",
        "# 0: sentence is not a summary candidate\n",
        "# 1: sentence is a summary candidate\n",
        "tags = list(set(train['label_sent'].values))\n",
        "n_tags = len(tags)\n",
        "n_tags"
      ]
    },
    {
      "cell_type": "markdown",
      "metadata": {
        "id": "QFhwlV6vEyOb"
      },
      "source": [
        "# **Dataset Preprocessing**"
      ]
    },
    {
      "cell_type": "markdown",
      "metadata": {
        "id": "0-P_nhIgE1y6"
      },
      "source": [
        "Represent the sentences with integer tokens, pad the sentences to the maximum sentence length, and represent the corresponding labels in 0s and 1s.\n",
        "\n",
        "This is an important step, as it helps with choosing and setting some of the model configuration parameters, such as the maximum_story_length and maximum_sentence_length.\n",
        "The choice regarding the maximum_story_length and maximum_sentence_length is determined based on the statistical distribution of those parameters and for the majority of the stories in the dataset."
      ]
    },
    {
      "cell_type": "code",
      "execution_count": null,
      "metadata": {
        "colab": {
          "base_uri": "https://localhost:8080/"
        },
        "id": "-w8fusjdxkxr",
        "outputId": "6c567799-b3d2-4b23-9924-5fb70bbf8e0e"
      },
      "outputs": [
        {
          "output_type": "stream",
          "name": "stdout",
          "text": [
            "{0: 1, 1: 2, 'PAD': 0}\n"
          ]
        }
      ],
      "source": [
        "# encoding the sentence labels and reversing them\n",
        "tag2idx  = {t: i + 1 for i, t in enumerate(tags)}\n",
        "tag2idx['PAD'] = 0\n",
        "idx2tag = {i: s for s, i in tag2idx.items()}\n",
        "print(tag2idx)"
      ]
    },
    {
      "cell_type": "code",
      "execution_count": null,
      "metadata": {
        "id": "kzR72Ownxk_9"
      },
      "outputs": [],
      "source": [
        "def add_word_lengths(df):\n",
        "    df['word_len'] = df['sentence'].progress_apply(lambda x: len(x.split()))\n",
        "    df['word_lis'] = df['sentence'].progress_apply(lambda x: x.split())\n",
        "    return df"
      ]
    },
    {
      "cell_type": "code",
      "execution_count": null,
      "metadata": {
        "colab": {
          "base_uri": "https://localhost:8080/",
          "height": 538
        },
        "id": "aCSOPijZxrWC",
        "outputId": "b2684aea-1f46-4e1d-f81c-601659ed8ac0"
      },
      "outputs": [
        {
          "output_type": "stream",
          "name": "stderr",
          "text": [
            "100%|██████████| 505305/505305 [00:01<00:00, 282274.50it/s]\n",
            "100%|██████████| 505305/505305 [00:04<00:00, 118707.91it/s]\n",
            "100%|██████████| 168546/168546 [00:00<00:00, 300293.21it/s]\n",
            "<ipython-input-17-c10b9c3d8801>:2: SettingWithCopyWarning: \n",
            "A value is trying to be set on a copy of a slice from a DataFrame.\n",
            "Try using .loc[row_indexer,col_indexer] = value instead\n",
            "\n",
            "See the caveats in the documentation: https://pandas.pydata.org/pandas-docs/stable/user_guide/indexing.html#returning-a-view-versus-a-copy\n",
            "  df['word_len'] = df['sentence'].progress_apply(lambda x: len(x.split()))\n",
            "100%|██████████| 168546/168546 [00:01<00:00, 95635.93it/s] \n",
            "<ipython-input-17-c10b9c3d8801>:3: SettingWithCopyWarning: \n",
            "A value is trying to be set on a copy of a slice from a DataFrame.\n",
            "Try using .loc[row_indexer,col_indexer] = value instead\n",
            "\n",
            "See the caveats in the documentation: https://pandas.pydata.org/pandas-docs/stable/user_guide/indexing.html#returning-a-view-versus-a-copy\n",
            "  df['word_lis'] = df['sentence'].progress_apply(lambda x: x.split())\n",
            "100%|██████████| 168504/168504 [00:00<00:00, 294730.89it/s]\n",
            "100%|██████████| 168504/168504 [00:02<00:00, 82867.59it/s] \n"
          ]
        },
        {
          "output_type": "execute_result",
          "data": {
            "text/plain": [
              "   story_id  sent_id                                           sentence  \\\n",
              "0         0        0  in business if one of our companies is failing...   \n",
              "1         0        1  its this kind of logic that underpins a new re...   \n",
              "2         0        2  im a member of the commission and i am pleased...   \n",
              "3         0        3  this latest report taking control pathways to ...   \n",
              "4         0        4  the reality is that the most effective way to ...   \n",
              "\n",
              "   label_sent  word_len                                           word_lis  \n",
              "0           0        37  [in, business, if, one, of, our, companies, is...  \n",
              "1           1        33  [its, this, kind, of, logic, that, underpins, ...  \n",
              "2           1        89  [im, a, member, of, the, commission, and, i, a...  \n",
              "3           1        49  [this, latest, report, taking, control, pathwa...  \n",
              "4           1        55  [the, reality, is, that, the, most, effective,...  "
            ],
            "text/html": [
              "\n",
              "  <div id=\"df-a8dd36ce-86fc-4e87-a40b-333e29862b53\">\n",
              "    <div class=\"colab-df-container\">\n",
              "      <div>\n",
              "<style scoped>\n",
              "    .dataframe tbody tr th:only-of-type {\n",
              "        vertical-align: middle;\n",
              "    }\n",
              "\n",
              "    .dataframe tbody tr th {\n",
              "        vertical-align: top;\n",
              "    }\n",
              "\n",
              "    .dataframe thead th {\n",
              "        text-align: right;\n",
              "    }\n",
              "</style>\n",
              "<table border=\"1\" class=\"dataframe\">\n",
              "  <thead>\n",
              "    <tr style=\"text-align: right;\">\n",
              "      <th></th>\n",
              "      <th>story_id</th>\n",
              "      <th>sent_id</th>\n",
              "      <th>sentence</th>\n",
              "      <th>label_sent</th>\n",
              "      <th>word_len</th>\n",
              "      <th>word_lis</th>\n",
              "    </tr>\n",
              "  </thead>\n",
              "  <tbody>\n",
              "    <tr>\n",
              "      <th>0</th>\n",
              "      <td>0</td>\n",
              "      <td>0</td>\n",
              "      <td>in business if one of our companies is failing...</td>\n",
              "      <td>0</td>\n",
              "      <td>37</td>\n",
              "      <td>[in, business, if, one, of, our, companies, is...</td>\n",
              "    </tr>\n",
              "    <tr>\n",
              "      <th>1</th>\n",
              "      <td>0</td>\n",
              "      <td>1</td>\n",
              "      <td>its this kind of logic that underpins a new re...</td>\n",
              "      <td>1</td>\n",
              "      <td>33</td>\n",
              "      <td>[its, this, kind, of, logic, that, underpins, ...</td>\n",
              "    </tr>\n",
              "    <tr>\n",
              "      <th>2</th>\n",
              "      <td>0</td>\n",
              "      <td>2</td>\n",
              "      <td>im a member of the commission and i am pleased...</td>\n",
              "      <td>1</td>\n",
              "      <td>89</td>\n",
              "      <td>[im, a, member, of, the, commission, and, i, a...</td>\n",
              "    </tr>\n",
              "    <tr>\n",
              "      <th>3</th>\n",
              "      <td>0</td>\n",
              "      <td>3</td>\n",
              "      <td>this latest report taking control pathways to ...</td>\n",
              "      <td>1</td>\n",
              "      <td>49</td>\n",
              "      <td>[this, latest, report, taking, control, pathwa...</td>\n",
              "    </tr>\n",
              "    <tr>\n",
              "      <th>4</th>\n",
              "      <td>0</td>\n",
              "      <td>4</td>\n",
              "      <td>the reality is that the most effective way to ...</td>\n",
              "      <td>1</td>\n",
              "      <td>55</td>\n",
              "      <td>[the, reality, is, that, the, most, effective,...</td>\n",
              "    </tr>\n",
              "  </tbody>\n",
              "</table>\n",
              "</div>\n",
              "      <button class=\"colab-df-convert\" onclick=\"convertToInteractive('df-a8dd36ce-86fc-4e87-a40b-333e29862b53')\"\n",
              "              title=\"Convert this dataframe to an interactive table.\"\n",
              "              style=\"display:none;\">\n",
              "        \n",
              "  <svg xmlns=\"http://www.w3.org/2000/svg\" height=\"24px\"viewBox=\"0 0 24 24\"\n",
              "       width=\"24px\">\n",
              "    <path d=\"M0 0h24v24H0V0z\" fill=\"none\"/>\n",
              "    <path d=\"M18.56 5.44l.94 2.06.94-2.06 2.06-.94-2.06-.94-.94-2.06-.94 2.06-2.06.94zm-11 1L8.5 8.5l.94-2.06 2.06-.94-2.06-.94L8.5 2.5l-.94 2.06-2.06.94zm10 10l.94 2.06.94-2.06 2.06-.94-2.06-.94-.94-2.06-.94 2.06-2.06.94z\"/><path d=\"M17.41 7.96l-1.37-1.37c-.4-.4-.92-.59-1.43-.59-.52 0-1.04.2-1.43.59L10.3 9.45l-7.72 7.72c-.78.78-.78 2.05 0 2.83L4 21.41c.39.39.9.59 1.41.59.51 0 1.02-.2 1.41-.59l7.78-7.78 2.81-2.81c.8-.78.8-2.07 0-2.86zM5.41 20L4 18.59l7.72-7.72 1.47 1.35L5.41 20z\"/>\n",
              "  </svg>\n",
              "      </button>\n",
              "      \n",
              "  <style>\n",
              "    .colab-df-container {\n",
              "      display:flex;\n",
              "      flex-wrap:wrap;\n",
              "      gap: 12px;\n",
              "    }\n",
              "\n",
              "    .colab-df-convert {\n",
              "      background-color: #E8F0FE;\n",
              "      border: none;\n",
              "      border-radius: 50%;\n",
              "      cursor: pointer;\n",
              "      display: none;\n",
              "      fill: #1967D2;\n",
              "      height: 32px;\n",
              "      padding: 0 0 0 0;\n",
              "      width: 32px;\n",
              "    }\n",
              "\n",
              "    .colab-df-convert:hover {\n",
              "      background-color: #E2EBFA;\n",
              "      box-shadow: 0px 1px 2px rgba(60, 64, 67, 0.3), 0px 1px 3px 1px rgba(60, 64, 67, 0.15);\n",
              "      fill: #174EA6;\n",
              "    }\n",
              "\n",
              "    [theme=dark] .colab-df-convert {\n",
              "      background-color: #3B4455;\n",
              "      fill: #D2E3FC;\n",
              "    }\n",
              "\n",
              "    [theme=dark] .colab-df-convert:hover {\n",
              "      background-color: #434B5C;\n",
              "      box-shadow: 0px 1px 3px 1px rgba(0, 0, 0, 0.15);\n",
              "      filter: drop-shadow(0px 1px 2px rgba(0, 0, 0, 0.3));\n",
              "      fill: #FFFFFF;\n",
              "    }\n",
              "  </style>\n",
              "\n",
              "      <script>\n",
              "        const buttonEl =\n",
              "          document.querySelector('#df-a8dd36ce-86fc-4e87-a40b-333e29862b53 button.colab-df-convert');\n",
              "        buttonEl.style.display =\n",
              "          google.colab.kernel.accessAllowed ? 'block' : 'none';\n",
              "\n",
              "        async function convertToInteractive(key) {\n",
              "          const element = document.querySelector('#df-a8dd36ce-86fc-4e87-a40b-333e29862b53');\n",
              "          const dataTable =\n",
              "            await google.colab.kernel.invokeFunction('convertToInteractive',\n",
              "                                                     [key], {});\n",
              "          if (!dataTable) return;\n",
              "\n",
              "          const docLinkHtml = 'Like what you see? Visit the ' +\n",
              "            '<a target=\"_blank\" href=https://colab.research.google.com/notebooks/data_table.ipynb>data table notebook</a>'\n",
              "            + ' to learn more about interactive tables.';\n",
              "          element.innerHTML = '';\n",
              "          dataTable['output_type'] = 'display_data';\n",
              "          await google.colab.output.renderOutput(dataTable, element);\n",
              "          const docLink = document.createElement('div');\n",
              "          docLink.innerHTML = docLinkHtml;\n",
              "          element.appendChild(docLink);\n",
              "        }\n",
              "      </script>\n",
              "    </div>\n",
              "  </div>\n",
              "  "
            ]
          },
          "metadata": {},
          "execution_count": 18
        }
      ],
      "source": [
        "train = add_word_lengths(train)\n",
        "valid = add_word_lengths(valid)\n",
        "test = add_word_lengths(test)\n",
        "\n",
        "train.head()"
      ]
    },
    {
      "cell_type": "code",
      "execution_count": null,
      "metadata": {
        "colab": {
          "base_uri": "https://localhost:8080/",
          "height": 337
        },
        "id": "33NFDU9exrZO",
        "outputId": "8349f493-b8a9-49a8-e68f-dbeaf5dc4706"
      },
      "outputs": [
        {
          "output_type": "stream",
          "name": "stderr",
          "text": [
            "/usr/local/lib/python3.8/dist-packages/seaborn/distributions.py:2619: FutureWarning: `distplot` is a deprecated function and will be removed in a future version. Please adapt your code to use either `displot` (a figure-level function with similar flexibility) or `histplot` (an axes-level function for histograms).\n",
            "  warnings.warn(msg, FutureWarning)\n"
          ]
        },
        {
          "output_type": "display_data",
          "data": {
            "text/plain": [
              "<Figure size 432x288 with 1 Axes>"
            ],
            "image/png": "[encoded data removed]"
          },
          "metadata": {
            "needs_background": "light"
          }
        }
      ],
      "source": [
        "# sentence length distribution per story from the training dataset\n",
        "sns.distplot(train['word_len'])\n",
        "plt.show()"
      ]
    },
    {
      "cell_type": "code",
      "execution_count": null,
      "metadata": {
        "colab": {
          "base_uri": "https://localhost:8080/"
        },
        "id": "XGcZf9ckxrcx",
        "outputId": "834a649a-e677-42f9-acf2-35e1771feb13"
      },
      "outputs": [
        {
          "output_type": "execute_result",
          "data": {
            "text/plain": [
              "count    505305.000000\n",
              "mean         31.523084\n",
              "std          18.216125\n",
              "min           1.000000\n",
              "25%          19.000000\n",
              "50%          29.000000\n",
              "75%          41.000000\n",
              "max         907.000000\n",
              "Name: word_len, dtype: float64"
            ]
          },
          "metadata": {},
          "execution_count": 20
        }
      ],
      "source": [
        "# descriptive statistics of sentence length distribution per story \n",
        "# from the training dataset\n",
        "train['word_len'].describe()"
      ]
    },
    {
      "cell_type": "code",
      "execution_count": null,
      "metadata": {
        "colab": {
          "base_uri": "https://localhost:8080/"
        },
        "id": "wqjFB_rcxxri",
        "outputId": "135a52a8-22c1-48d6-ec85-8ca7b28f3431"
      },
      "outputs": [
        {
          "output_type": "stream",
          "name": "stdout",
          "text": [
            "166254\n"
          ]
        }
      ],
      "source": [
        "# total number of unique words in our training corpus\n",
        "word_ls = set(list(chain(*train['word_lis'].tolist())))\n",
        "n_words = len(word_ls)\n",
        "print(n_words)"
      ]
    },
    {
      "cell_type": "code",
      "execution_count": null,
      "metadata": {
        "id": "K1au9yMvxxu0"
      },
      "outputs": [],
      "source": [
        "# mapping the words to integers (tokenization) because machines don't\n",
        "# understand raw text\n",
        "word2idx = {c: i+2 for i,c in enumerate(word_ls)}\n",
        "word2idx['UNK'] = 1\n",
        "word2idx['PAD'] = 0\n",
        "\n",
        "# reversing this dictionary as this would be needed for post-processing\n",
        "idx2word = {i: s for s, i in word2idx.items()}"
      ]
    },
    {
      "cell_type": "code",
      "execution_count": null,
      "metadata": {
        "id": "-GhHrNMYxxx2"
      },
      "outputs": [],
      "source": [
        "def append_sent_labels(df):\n",
        "    df['sent_lab'] = df[['sentence','label_sent']].apply(tuple, axis=1)\n",
        "    return df"
      ]
    },
    {
      "cell_type": "code",
      "execution_count": null,
      "metadata": {
        "colab": {
          "base_uri": "https://localhost:8080/",
          "height": 317
        },
        "id": "2dFY2wx0x3XV",
        "outputId": "3afcd90f-b22f-4876-f824-d27632680658"
      },
      "outputs": [
        {
          "output_type": "stream",
          "name": "stderr",
          "text": [
            "<ipython-input-23-bd523398f5f3>:2: SettingWithCopyWarning: \n",
            "A value is trying to be set on a copy of a slice from a DataFrame.\n",
            "Try using .loc[row_indexer,col_indexer] = value instead\n",
            "\n",
            "See the caveats in the documentation: https://pandas.pydata.org/pandas-docs/stable/user_guide/indexing.html#returning-a-view-versus-a-copy\n",
            "  df['sent_lab'] = df[['sentence','label_sent']].apply(tuple, axis=1)\n"
          ]
        },
        {
          "output_type": "execute_result",
          "data": {
            "text/plain": [
              "   story_id  sent_id                                           sentence  \\\n",
              "0         0        0  in business if one of our companies is failing...   \n",
              "1         0        1  its this kind of logic that underpins a new re...   \n",
              "2         0        2  im a member of the commission and i am pleased...   \n",
              "3         0        3  this latest report taking control pathways to ...   \n",
              "4         0        4  the reality is that the most effective way to ...   \n",
              "\n",
              "   label_sent  word_len                                           word_lis  \\\n",
              "0           0        37  [in, business, if, one, of, our, companies, is...   \n",
              "1           1        33  [its, this, kind, of, logic, that, underpins, ...   \n",
              "2           1        89  [im, a, member, of, the, commission, and, i, a...   \n",
              "3           1        49  [this, latest, report, taking, control, pathwa...   \n",
              "4           1        55  [the, reality, is, that, the, most, effective,...   \n",
              "\n",
              "                                            sent_lab  \n",
              "0  (in business if one of our companies is failin...  \n",
              "1  (its this kind of logic that underpins a new r...  \n",
              "2  (im a member of the commission and i am please...  \n",
              "3  (this latest report taking control pathways to...  \n",
              "4  (the reality is that the most effective way to...  "
            ],
            "text/html": [
              "\n",
              "  <div id=\"df-9079885f-bcb2-46d5-8a03-5fb413eaaa50\">\n",
              "    <div class=\"colab-df-container\">\n",
              "      <div>\n",
              "<style scoped>\n",
              "    .dataframe tbody tr th:only-of-type {\n",
              "        vertical-align: middle;\n",
              "    }\n",
              "\n",
              "    .dataframe tbody tr th {\n",
              "        vertical-align: top;\n",
              "    }\n",
              "\n",
              "    .dataframe thead th {\n",
              "        text-align: right;\n",
              "    }\n",
              "</style>\n",
              "<table border=\"1\" class=\"dataframe\">\n",
              "  <thead>\n",
              "    <tr style=\"text-align: right;\">\n",
              "      <th></th>\n",
              "      <th>story_id</th>\n",
              "      <th>sent_id</th>\n",
              "      <th>sentence</th>\n",
              "      <th>label_sent</th>\n",
              "      <th>word_len</th>\n",
              "      <th>word_lis</th>\n",
              "      <th>sent_lab</th>\n",
              "    </tr>\n",
              "  </thead>\n",
              "  <tbody>\n",
              "    <tr>\n",
              "      <th>0</th>\n",
              "      <td>0</td>\n",
              "      <td>0</td>\n",
              "      <td>in business if one of our companies is failing...</td>\n",
              "      <td>0</td>\n",
              "      <td>37</td>\n",
              "      <td>[in, business, if, one, of, our, companies, is...</td>\n",
              "      <td>(in business if one of our companies is failin...</td>\n",
              "    </tr>\n",
              "    <tr>\n",
              "      <th>1</th>\n",
              "      <td>0</td>\n",
              "      <td>1</td>\n",
              "      <td>its this kind of logic that underpins a new re...</td>\n",
              "      <td>1</td>\n",
              "      <td>33</td>\n",
              "      <td>[its, this, kind, of, logic, that, underpins, ...</td>\n",
              "      <td>(its this kind of logic that underpins a new r...</td>\n",
              "    </tr>\n",
              "    <tr>\n",
              "      <th>2</th>\n",
              "      <td>0</td>\n",
              "      <td>2</td>\n",
              "      <td>im a member of the commission and i am pleased...</td>\n",
              "      <td>1</td>\n",
              "      <td>89</td>\n",
              "      <td>[im, a, member, of, the, commission, and, i, a...</td>\n",
              "      <td>(im a member of the commission and i am please...</td>\n",
              "    </tr>\n",
              "    <tr>\n",
              "      <th>3</th>\n",
              "      <td>0</td>\n",
              "      <td>3</td>\n",
              "      <td>this latest report taking control pathways to ...</td>\n",
              "      <td>1</td>\n",
              "      <td>49</td>\n",
              "      <td>[this, latest, report, taking, control, pathwa...</td>\n",
              "      <td>(this latest report taking control pathways to...</td>\n",
              "    </tr>\n",
              "    <tr>\n",
              "      <th>4</th>\n",
              "      <td>0</td>\n",
              "      <td>4</td>\n",
              "      <td>the reality is that the most effective way to ...</td>\n",
              "      <td>1</td>\n",
              "      <td>55</td>\n",
              "      <td>[the, reality, is, that, the, most, effective,...</td>\n",
              "      <td>(the reality is that the most effective way to...</td>\n",
              "    </tr>\n",
              "  </tbody>\n",
              "</table>\n",
              "</div>\n",
              "      <button class=\"colab-df-convert\" onclick=\"convertToInteractive('df-9079885f-bcb2-46d5-8a03-5fb413eaaa50')\"\n",
              "              title=\"Convert this dataframe to an interactive table.\"\n",
              "              style=\"display:none;\">\n",
              "        \n",
              "  <svg xmlns=\"http://www.w3.org/2000/svg\" height=\"24px\"viewBox=\"0 0 24 24\"\n",
              "       width=\"24px\">\n",
              "    <path d=\"M0 0h24v24H0V0z\" fill=\"none\"/>\n",
              "    <path d=\"M18.56 5.44l.94 2.06.94-2.06 2.06-.94-2.06-.94-.94-2.06-.94 2.06-2.06.94zm-11 1L8.5 8.5l.94-2.06 2.06-.94-2.06-.94L8.5 2.5l-.94 2.06-2.06.94zm10 10l.94 2.06.94-2.06 2.06-.94-2.06-.94-.94-2.06-.94 2.06-2.06.94z\"/><path d=\"M17.41 7.96l-1.37-1.37c-.4-.4-.92-.59-1.43-.59-.52 0-1.04.2-1.43.59L10.3 9.45l-7.72 7.72c-.78.78-.78 2.05 0 2.83L4 21.41c.39.39.9.59 1.41.59.51 0 1.02-.2 1.41-.59l7.78-7.78 2.81-2.81c.8-.78.8-2.07 0-2.86zM5.41 20L4 18.59l7.72-7.72 1.47 1.35L5.41 20z\"/>\n",
              "  </svg>\n",
              "      </button>\n",
              "      \n",
              "  <style>\n",
              "    .colab-df-container {\n",
              "      display:flex;\n",
              "      flex-wrap:wrap;\n",
              "      gap: 12px;\n",
              "    }\n",
              "\n",
              "    .colab-df-convert {\n",
              "      background-color: #E8F0FE;\n",
              "      border: none;\n",
              "      border-radius: 50%;\n",
              "      cursor: pointer;\n",
              "      display: none;\n",
              "      fill: #1967D2;\n",
              "      height: 32px;\n",
              "      padding: 0 0 0 0;\n",
              "      width: 32px;\n",
              "    }\n",
              "\n",
              "    .colab-df-convert:hover {\n",
              "      background-color: #E2EBFA;\n",
              "      box-shadow: 0px 1px 2px rgba(60, 64, 67, 0.3), 0px 1px 3px 1px rgba(60, 64, 67, 0.15);\n",
              "      fill: #174EA6;\n",
              "    }\n",
              "\n",
              "    [theme=dark] .colab-df-convert {\n",
              "      background-color: #3B4455;\n",
              "      fill: #D2E3FC;\n",
              "    }\n",
              "\n",
              "    [theme=dark] .colab-df-convert:hover {\n",
              "      background-color: #434B5C;\n",
              "      box-shadow: 0px 1px 3px 1px rgba(0, 0, 0, 0.15);\n",
              "      filter: drop-shadow(0px 1px 2px rgba(0, 0, 0, 0.3));\n",
              "      fill: #FFFFFF;\n",
              "    }\n",
              "  </style>\n",
              "\n",
              "      <script>\n",
              "        const buttonEl =\n",
              "          document.querySelector('#df-9079885f-bcb2-46d5-8a03-5fb413eaaa50 button.colab-df-convert');\n",
              "        buttonEl.style.display =\n",
              "          google.colab.kernel.accessAllowed ? 'block' : 'none';\n",
              "\n",
              "        async function convertToInteractive(key) {\n",
              "          const element = document.querySelector('#df-9079885f-bcb2-46d5-8a03-5fb413eaaa50');\n",
              "          const dataTable =\n",
              "            await google.colab.kernel.invokeFunction('convertToInteractive',\n",
              "                                                     [key], {});\n",
              "          if (!dataTable) return;\n",
              "\n",
              "          const docLinkHtml = 'Like what you see? Visit the ' +\n",
              "            '<a target=\"_blank\" href=https://colab.research.google.com/notebooks/data_table.ipynb>data table notebook</a>'\n",
              "            + ' to learn more about interactive tables.';\n",
              "          element.innerHTML = '';\n",
              "          dataTable['output_type'] = 'display_data';\n",
              "          await google.colab.output.renderOutput(dataTable, element);\n",
              "          const docLink = document.createElement('div');\n",
              "          docLink.innerHTML = docLinkHtml;\n",
              "          element.appendChild(docLink);\n",
              "        }\n",
              "      </script>\n",
              "    </div>\n",
              "  </div>\n",
              "  "
            ]
          },
          "metadata": {},
          "execution_count": 24
        }
      ],
      "source": [
        "train = append_sent_labels(train)\n",
        "valid = append_sent_labels(valid)\n",
        "test = append_sent_labels(test)\n",
        "\n",
        "train.head()"
      ]
    },
    {
      "cell_type": "code",
      "execution_count": null,
      "metadata": {
        "colab": {
          "base_uri": "https://localhost:8080/"
        },
        "id": "aUpoMzW0F8BS",
        "outputId": "1836d64e-af4c-4841-875b-417c44e54875"
      },
      "outputs": [
        {
          "output_type": "execute_result",
          "data": {
            "text/plain": [
              "(30000, 10000, 10000)"
            ]
          },
          "metadata": {},
          "execution_count": 25
        }
      ],
      "source": [
        "# sanity check the unique story ids in each of the splits\n",
        "train['story_id'].nunique(), valid['story_id'].nunique(), test['story_id'].nunique()"
      ]
    },
    {
      "cell_type": "code",
      "execution_count": null,
      "metadata": {
        "id": "49HqATPFGF6r"
      },
      "outputs": [],
      "source": [
        "# we can play with this number but for now we will settle with 40\n",
        "MAX_LEN_WORD = 40\n",
        "\n",
        "def represent_stories(df):\n",
        "    # filter out the labels from the data subset\n",
        "    story_ids = df['story_id'].unique()\n",
        "    stories_labels = []\n",
        "    for s_id in tqdm(story_ids):\n",
        "        temp_story = []\n",
        "        # get all the sentences with respect to the givcen story id\n",
        "        temp_story = list(df[df['story_id'] == s_id]['sent_lab'])\n",
        "        stories_labels.append(temp_story)\n",
        "    \n",
        "    # initialize an all-zeros array in the shape of \n",
        "    # (nb_stories, max_story_length, max_sentence_lenght)\n",
        "    X_word = np.zeros((len(stories_labels), max_len_story, MAX_LEN_WORD))\n",
        "    \n",
        "    for idx, story in tqdm(enumerate(stories_labels)):\n",
        "        story_seq = []\n",
        "        \n",
        "        # to give an upper bound on the maximum length of the word sequence for sentence\n",
        "        for i in range(max_len_story):\n",
        "            sent_seq = []\n",
        "            \n",
        "            # to give an upper bound on the maximum length of words to consider\n",
        "            for j in range(MAX_LEN_WORD):\n",
        "                try:\n",
        "                    split_sent = story[i][0].split()\n",
        "                    sent_seq.append(word2idx.get(split_sent[j]))\n",
        "                except:  \n",
        "                    # exception will be there when there will not be any sentence for the length \n",
        "                    # and will be padded 0\n",
        "                    sent_seq.append(word2idx.get('PAD'))\n",
        "            story_seq.append(sent_seq)\n",
        "        \n",
        "        X_word[idx] = np.array(story_seq)\n",
        "\n",
        "    return (X_word, stories_labels)"
      ]
    },
    {
      "cell_type": "code",
      "execution_count": null,
      "metadata": {
        "colab": {
          "base_uri": "https://localhost:8080/"
        },
        "id": "QqRfCf4eGJ70",
        "outputId": "fd2aafaf-b86c-45a9-ef6a-b3dcdb161ed5"
      },
      "outputs": [
        {
          "output_type": "stream",
          "name": "stderr",
          "text": [
            "100%|██████████| 30000/30000 [00:27<00:00, 1100.28it/s]\n",
            "30000it [00:49, 603.75it/s]\n"
          ]
        },
        {
          "output_type": "execute_result",
          "data": {
            "text/plain": [
              "(30000, 29, 40)"
            ]
          },
          "metadata": {},
          "execution_count": 27
        }
      ],
      "source": [
        "# preprocess the training corpus\n",
        "X_train, stories_labels_train = represent_stories(train)\n",
        "X_train.shape"
      ]
    },
    {
      "cell_type": "code",
      "execution_count": null,
      "metadata": {
        "colab": {
          "base_uri": "https://localhost:8080/"
        },
        "id": "msLAKDqyGd7L",
        "outputId": "1b133fdc-0a40-48be-af45-1d0adda32b42"
      },
      "outputs": [
        {
          "output_type": "stream",
          "name": "stderr",
          "text": [
            "100%|██████████| 10000/10000 [00:05<00:00, 1881.27it/s]\n",
            "10000it [00:16, 590.18it/s]\n"
          ]
        },
        {
          "output_type": "execute_result",
          "data": {
            "text/plain": [
              "(10000, 29, 40)"
            ]
          },
          "metadata": {},
          "execution_count": 28
        }
      ],
      "source": [
        "# preprocess the validation set\n",
        "X_valid, stories_labels_valid = represent_stories(valid)\n",
        "X_valid.shape"
      ]
    },
    {
      "cell_type": "code",
      "execution_count": null,
      "metadata": {
        "id": "8lOOt9gqGiZN"
      },
      "outputs": [],
      "source": [
        "def prepare_labels(story_labels):\n",
        "    y = [[tag2idx[w[1]] for w in s] for s in story_labels]\n",
        "    y = pad_sequences(maxlen=max_len_story, \n",
        "                  sequences=y, \n",
        "                  value=tag2idx[\"PAD\"], \n",
        "                  padding='post', \n",
        "                  truncating='post')\n",
        "    y = y.reshape(-1, max_len_story, 1)\n",
        "    \n",
        "    return y"
      ]
    },
    {
      "cell_type": "code",
      "execution_count": null,
      "metadata": {
        "colab": {
          "base_uri": "https://localhost:8080/"
        },
        "id": "MEqo1x6bGjxo",
        "outputId": "b3ae3cb7-9165-44ca-d557-44a233fca882"
      },
      "outputs": [
        {
          "output_type": "execute_result",
          "data": {
            "text/plain": [
              "((30000, 29, 1), (10000, 29, 1))"
            ]
          },
          "metadata": {},
          "execution_count": 30
        }
      ],
      "source": [
        "# preprocess the train and validation labels\n",
        "train_labels = prepare_labels(stories_labels_train)\n",
        "valid_labels = prepare_labels(stories_labels_valid)\n",
        "\n",
        "train_labels.shape, valid_labels.shape"
      ]
    },
    {
      "cell_type": "markdown",
      "metadata": {
        "id": "6LcyrayfGtUs"
      },
      "source": [
        "# **Model building**"
      ]
    },
    {
      "cell_type": "markdown",
      "metadata": {
        "id": "rzjW3b9iHyJY"
      },
      "source": [
        "Building a neural model using the TimeDistributed, CNN, LSTM, Embedding, Bidirectional, and Dense layers from Keras.Initializing the Embedding layer to have the pre-trained \"GloVe: Global Vectors for Word Representation\" embeddings."
      ]
    },
    {
      "cell_type": "markdown",
      "metadata": {
        "id": "7uaa9UJxH7CD"
      },
      "source": [
        "\n",
        "\n",
        "*   The architecture that works extremely well for my case is the CNN-LSTM-based architecture. This is because the CNNs can efficiently encode the neighborhood information and the LSTMs capture the sequential information of the text document.\n",
        "\n",
        "*   In this case, the text embedding matrix has been initialized with pre-trained GloVe embeddings. The main reason is that the GloVe embeddings already capture the semantic relationship between the words of a large text corpus, so it’s helpful for our model’s embedding layer to get initialized with the GloVe vectors. Initializing the text embedding matrix with the pre-trained GloVe embeddings gives the deep neural model a good initialization, which helps the model converge faster and more efficiently.\n",
        "\n",
        "*   Moreover, in this case, the TimeDistributed layer has been used instead of the vanilla linear/non-linear layer. We use it because the problem is a sequence tagging problem and, therefore, the output with respect to each sequence/time point needs to be monitored. This problem falls into the class of entity extraction or sequence tagging problems, where each sequence needs to be tagged into one of the categories that need TimeDistributed implementation.\n",
        "*   Furthermore, this approach is well tested.Starting with a relatively standardized approach is likely going to get you better results faster.\n",
        "\n",
        "\n",
        "\n"
      ]
    },
    {
      "cell_type": "markdown",
      "metadata": {
        "id": "5D4VYEakIQ3a"
      },
      "source": [
        "## **Using GloVe 100d embeddings**"
      ]
    },
    {
      "cell_type": "markdown",
      "metadata": {
        "id": "vKKK9forJ1AP"
      },
      "source": [
        "Create an embedding matrix in which integer encodings of the words from our vocabulary get mapped to their corresponding vector representations from the GloVe embeddings."
      ]
    },
    {
      "cell_type": "code",
      "execution_count": null,
      "metadata": {
        "id": "ONdqVnG7JQCD"
      },
      "outputs": [],
      "source": [
        "# Reference: https://blog.keras.io/using-pre-trained-word-embeddings-in-a-keras-model.html\n",
        "def get_embedding_matrix(word_index, embedding_path, embedding_dim):\n",
        "    embedding_matrix_all = {}\n",
        "    with open(embedding_path) as f:\n",
        "        for line in f:  # every line contains word followed by the vector value\n",
        "            values = line.split()\n",
        "            word = values[0]\n",
        "            coefs = np.asarray(values[1:], dtype='float32')\n",
        "            embedding_matrix_all[word] = coefs\n",
        "\n",
        "    # prepare embedding matrix with just the words in our word_index dictionary\n",
        "    num_words = len(word_index) \n",
        "    embedding_matrix = np.zeros((num_words, embedding_dim))\n",
        "\n",
        "    for word, i in word_index.items():\n",
        "        embedding_vector = embedding_matrix_all.get(word)\n",
        "        if embedding_vector is not None:\n",
        "            # words not found in embedding index will be all-zeros.\n",
        "            embedding_matrix[i] = embedding_vector\n",
        "  \n",
        "    return embedding_matrix\n",
        "\n",
        "\n",
        "\n",
        "    "
      ]
    },
    {
      "cell_type": "markdown",
      "metadata": {
        "id": "z6P2BWCAJ_Jw"
      },
      "source": [
        "## **Build your model in tf.keras**"
      ]
    },
    {
      "cell_type": "markdown",
      "metadata": {
        "id": "4RlmkUrJL6JH"
      },
      "source": [
        "The “weights” argument of the embedding layer is initialized to the embedding matrix created earlier.\n",
        "The embedding layer is be trainable as well.\n",
        "The activation for the last dense layer is “softmax.”"
      ]
    },
    {
      "cell_type": "code",
      "execution_count": null,
      "metadata": {
        "id": "yqolCuOFKCYf"
      },
      "outputs": [],
      "source": [
        "# construct the model\n",
        "EMBEDDING_PATH = '/content/drive/MyDrive/project/glove.6B.100d.txt'\n",
        "EMBEDDING_DIM = 100\n",
        "\n",
        "def get_baseline_model():\n",
        "    #max_len_story=29 \n",
        "    #max_len_word=40\n",
        "    #n_words=166254\n",
        "    word_in = Input(shape=(max_len_story, MAX_LEN_WORD,))\n",
        "\n",
        "    emb_word = TimeDistributed(\n",
        "        Embedding(input_dim=(n_words + 2), \n",
        "            output_dim=EMBEDDING_DIM,\n",
        "            input_length=MAX_LEN_WORD, \n",
        "            weights=[get_embedding_matrix(word2idx, \n",
        "                EMBEDDING_PATH, EMBEDDING_DIM)], \n",
        "            trainable=True\n",
        "        )\t\n",
        "    )(word_in)\n",
        "\n",
        "\n",
        "    conv_layer = TimeDistributed(Convolution1D(128, 3, activation='relu'))(emb_word)\n",
        "    conv_layer = TimeDistributed(GlobalAveragePooling1D())(conv_layer)\n",
        "    main_lstm = Bidirectional(LSTM(units=32, return_sequences=True))(conv_layer)\n",
        "    out = TimeDistributed(Dense(n_tags + 1, activation=\"softmax\"))(main_lstm)\n",
        "    \n",
        "    model = Model([word_in], out)\n",
        "    \n",
        "\n",
        "    return model"
      ]
    },
    {
      "cell_type": "code",
      "execution_count": null,
      "metadata": {
        "id": "2_Fjpc5yK2g0",
        "colab": {
          "base_uri": "https://localhost:8080/"
        },
        "outputId": "1d80acd3-225d-41f6-c701-d041fee6a43b"
      },
      "outputs": [
        {
          "output_type": "stream",
          "name": "stdout",
          "text": [
            "Model: \"model_5\"\n",
            "_________________________________________________________________\n",
            " Layer (type)                Output Shape              Param #   \n",
            "=================================================================\n",
            " input_6 (InputLayer)        [(None, 29, 40)]          0         \n",
            "                                                                 \n",
            " time_distributed_20 (TimeDi  (None, 29, 40, 100)      16625600  \n",
            " stributed)                                                      \n",
            "                                                                 \n",
            " time_distributed_21 (TimeDi  (None, 29, 38, 128)      38528     \n",
            " stributed)                                                      \n",
            "                                                                 \n",
            " time_distributed_22 (TimeDi  (None, 29, 128)          0         \n",
            " stributed)                                                      \n",
            "                                                                 \n",
            " bidirectional_5 (Bidirectio  (None, 29, 64)           41216     \n",
            " nal)                                                            \n",
            "                                                                 \n",
            " time_distributed_23 (TimeDi  (None, 29, 3)            195       \n",
            " stributed)                                                      \n",
            "                                                                 \n",
            "=================================================================\n",
            "Total params: 16,705,539\n",
            "Trainable params: 16,705,539\n",
            "Non-trainable params: 0\n",
            "_________________________________________________________________\n"
          ]
        }
      ],
      "source": [
        "# model summary\n",
        "model = get_baseline_model()\n",
        "model.summary()"
      ]
    },
    {
      "cell_type": "markdown",
      "metadata": {
        "id": "kDZGAEOLLQaY"
      },
      "source": [
        "## **Plot the model architecture**"
      ]
    },
    {
      "cell_type": "code",
      "execution_count": null,
      "metadata": {
        "colab": {
          "base_uri": "https://localhost:8080/",
          "height": 644
        },
        "id": "nMRhETauLSRb",
        "outputId": "797fab57-c997-4849-99a3-fe9a4375dfab"
      },
      "outputs": [
        {
          "output_type": "execute_result",
          "data": {
            "image/png": "[encoded data removed]",
            "text/plain": [
              "<IPython.core.display.Image object>"
            ]
          },
          "metadata": {},
          "execution_count": 48
        }
      ],
      "source": [
        "tf.keras.utils.plot_model(model, 'model.png', show_shapes=True)"
      ]
    },
    {
      "cell_type": "markdown",
      "metadata": {
        "id": "Dx6vu5gHLsDI"
      },
      "source": [
        "## **Model training**"
      ]
    },
    {
      "cell_type": "code",
      "execution_count": null,
      "metadata": {
        "colab": {
          "base_uri": "https://localhost:8080/",
          "height": 496
        },
        "id": "mFm_QSpiLtfw",
        "outputId": "6b0f3e4a-77a2-4d72-97e2-8bd0e69cd944"
      },
      "outputs": [
        {
          "output_type": "stream",
          "name": "stdout",
          "text": [
            "\u001b[K     |████████████████████████████████| 1.9 MB 25.1 MB/s \n",
            "\u001b[K     |████████████████████████████████| 168 kB 63.5 MB/s \n",
            "\u001b[K     |████████████████████████████████| 182 kB 81.1 MB/s \n",
            "\u001b[K     |████████████████████████████████| 62 kB 1.6 MB/s \n",
            "\u001b[K     |████████████████████████████████| 168 kB 80.7 MB/s \n",
            "\u001b[K     |████████████████████████████████| 166 kB 74.3 MB/s \n",
            "\u001b[K     |████████████████████████████████| 166 kB 77.2 MB/s \n",
            "\u001b[K     |████████████████████████████████| 162 kB 82.0 MB/s \n",
            "\u001b[K     |████████████████████████████████| 162 kB 70.3 MB/s \n",
            "\u001b[K     |████████████████████████████████| 158 kB 64.5 MB/s \n",
            "\u001b[K     |████████████████████████████████| 157 kB 79.6 MB/s \n",
            "\u001b[K     |████████████████████████████████| 157 kB 67.6 MB/s \n",
            "\u001b[K     |████████████████████████████████| 157 kB 38.7 MB/s \n",
            "\u001b[K     |████████████████████████████████| 157 kB 62.7 MB/s \n",
            "\u001b[K     |████████████████████████████████| 157 kB 50.6 MB/s \n",
            "\u001b[K     |████████████████████████████████| 157 kB 52.9 MB/s \n",
            "\u001b[K     |████████████████████████████████| 157 kB 62.2 MB/s \n",
            "\u001b[K     |████████████████████████████████| 156 kB 62.3 MB/s \n",
            "\u001b[?25h  Building wheel for pathtools (setup.py) ... \u001b[?25l\u001b[?25hdone\n"
          ]
        },
        {
          "output_type": "stream",
          "name": "stderr",
          "text": [
            "ERROR:wandb.jupyter:Failed to detect the name of this notebook, you can set it manually with the WANDB_NOTEBOOK_NAME environment variable to enable code saving.\n"
          ]
        },
        {
          "output_type": "display_data",
          "data": {
            "text/plain": [
              "<IPython.core.display.Javascript object>"
            ],
            "application/javascript": [
              "\n",
              "        window._wandbApiKey = new Promise((resolve, reject) => {\n",
              "            function loadScript(url) {\n",
              "            return new Promise(function(resolve, reject) {\n",
              "                let newScript = document.createElement(\"script\");\n",
              "                newScript.onerror = reject;\n",
              "                newScript.onload = resolve;\n",
              "                document.body.appendChild(newScript);\n",
              "                newScript.src = url;\n",
              "            });\n",
              "            }\n",
              "            loadScript(\"https://cdn.jsdelivr.net/npm/postmate/build/postmate.min.js\").then(() => {\n",
              "            const iframe = document.createElement('iframe')\n",
              "            iframe.style.cssText = \"width:0;height:0;border:none\"\n",
              "            document.body.appendChild(iframe)\n",
              "            const handshake = new Postmate({\n",
              "                container: iframe,\n",
              "                url: 'https://wandb.ai/authorize'\n",
              "            });\n",
              "            const timeout = setTimeout(() => reject(\"Couldn't auto authenticate\"), 5000)\n",
              "            handshake.then(function(child) {\n",
              "                child.on('authorize', data => {\n",
              "                    clearTimeout(timeout)\n",
              "                    resolve(data)\n",
              "                });\n",
              "            });\n",
              "            })\n",
              "        });\n",
              "    "
            ]
          },
          "metadata": {}
        },
        {
          "output_type": "stream",
          "name": "stderr",
          "text": [
            "\u001b[34m\u001b[1mwandb\u001b[0m: Logging into wandb.ai. (Learn how to deploy a W&B server locally: https://wandb.me/wandb-server)\n",
            "\u001b[34m\u001b[1mwandb\u001b[0m: You can find your API key in your browser here: https://wandb.ai/authorize\n",
            "wandb: Paste an API key from your profile and hit enter, or press ctrl+c to quit: "
          ]
        },
        {
          "name": "stdout",
          "output_type": "stream",
          "text": [
            "··········\n"
          ]
        },
        {
          "output_type": "stream",
          "name": "stderr",
          "text": [
            "\u001b[34m\u001b[1mwandb\u001b[0m: Appending key for api.wandb.ai to your netrc file: /root/.netrc\n"
          ]
        },
        {
          "output_type": "execute_result",
          "data": {
            "text/plain": [
              "True"
            ]
          },
          "metadata": {},
          "execution_count": 36
        }
      ],
      "source": [
        "!pip install wandb -qq\n",
        "# import wandb and authenticate it\n",
        "import wandb\n",
        "from wandb.keras import WandbCallback\n",
        "\n",
        "wandb.login()"
      ]
    },
    {
      "cell_type": "code",
      "source": [
        "# set up an early stopping callback to prevent overfitting\n",
        "es = tf.keras.callbacks.EarlyStopping(monitor='val_loss', patience=2, restore_best_weights=True)"
      ],
      "metadata": {
        "id": "_4ddpdDb3zyu"
      },
      "execution_count": null,
      "outputs": []
    },
    {
      "cell_type": "code",
      "source": [
        "# initialize wandb\n",
        "wandb.init(project=\"text_summarizer\", entity=\"chimi-pt\")"
      ],
      "metadata": {
        "colab": {
          "base_uri": "https://localhost:8080/",
          "height": 110
        },
        "id": "87hDBQ1s33uy",
        "outputId": "67f8b325-75be-4edd-b9e5-359a3c8f1b90"
      },
      "execution_count": null,
      "outputs": [
        {
          "output_type": "stream",
          "name": "stderr",
          "text": [
            "\u001b[34m\u001b[1mwandb\u001b[0m: Currently logged in as: \u001b[33mchimi-pt\u001b[0m. Use \u001b[1m`wandb login --relogin`\u001b[0m to force relogin\n"
          ]
        },
        {
          "output_type": "display_data",
          "data": {
            "text/plain": [
              "<IPython.core.display.HTML object>"
            ],
            "text/html": [
              "Tracking run with wandb version 0.13.6"
            ]
          },
          "metadata": {}
        },
        {
          "output_type": "display_data",
          "data": {
            "text/plain": [
              "<IPython.core.display.HTML object>"
            ],
            "text/html": [
              "Run data is saved locally in <code>/content/wandb/run-20221208_141249-xgfejssn</code>"
            ]
          },
          "metadata": {}
        },
        {
          "output_type": "display_data",
          "data": {
            "text/plain": [
              "<IPython.core.display.HTML object>"
            ],
            "text/html": [
              "Syncing run <strong><a href=\"https://wandb.ai/chimi-pt/uncategorized/runs/xgfejssn\" target=\"_blank\">denim-tree-50</a></strong> to <a href=\"https://wandb.ai/chimi-pt/uncategorized\" target=\"_blank\">Weights & Biases</a> (<a href=\"https://wandb.me/run\" target=\"_blank\">docs</a>)<br/>"
            ]
          },
          "metadata": {}
        },
        {
          "output_type": "execute_result",
          "data": {
            "text/html": [
              "<button onClick=\"this.nextSibling.style.display='block';this.style.display='none';\">Display W&B run</button><iframe src=\"https://wandb.ai/chimi-pt/uncategorized/runs/xgfejssn?jupyter=true\" style=\"border:none;width:100%;height:420px;display:none;\"></iframe>"
            ],
            "text/plain": [
              "<wandb.sdk.wandb_run.Run at 0x7f5b0d7063a0>"
            ]
          },
          "metadata": {},
          "execution_count": 38
        }
      ]
    },
    {
      "cell_type": "code",
      "execution_count": null,
      "metadata": {
        "colab": {
          "base_uri": "https://localhost:8080/"
        },
        "id": "sghvMHqHsHed",
        "outputId": "fe6020d9-06a0-4df9-845d-19de50279c77"
      },
      "outputs": [
        {
          "metadata": {
            "tags": null
          },
          "name": "stdout",
          "output_type": "stream",
          "text": [
            "Epoch 1/10\n",
            "469/469 [==============================] - ETA: 0s - loss: 0.3513 - accuracy: 0.8415"
          ]
        },
        {
          "metadata": {
            "tags": null
          },
          "name": "stderr",
          "output_type": "stream",
          "text": [
            "WARNING:tensorflow:Early stopping conditioned on metric `val_loss` which is not available. Available metrics are: loss,accuracy\n"
          ]
        },
        {
          "metadata": {
            "tags": null
          },
          "name": "stdout",
          "output_type": "stream",
          "text": [
            "469/469 [==============================] - 285s 599ms/step - loss: 0.3513 - accuracy: 0.8415\n",
            "Epoch 2/10\n",
            "469/469 [==============================] - ETA: 0s - loss: 0.2952 - accuracy: 0.8606"
          ]
        },
        {
          "metadata": {
            "tags": null
          },
          "name": "stderr",
          "output_type": "stream",
          "text": [
            "WARNING:tensorflow:Early stopping conditioned on metric `val_loss` which is not available. Available metrics are: loss,accuracy\n"
          ]
        },
        {
          "metadata": {
            "tags": null
          },
          "name": "stdout",
          "output_type": "stream",
          "text": [
            "469/469 [==============================] - 287s 612ms/step - loss: 0.2952 - accuracy: 0.8606\n",
            "Epoch 3/10\n",
            "469/469 [==============================] - ETA: 0s - loss: 0.2805 - accuracy: 0.8683"
          ]
        },
        {
          "metadata": {
            "tags": null
          },
          "name": "stderr",
          "output_type": "stream",
          "text": [
            "WARNING:tensorflow:Early stopping conditioned on metric `val_loss` which is not available. Available metrics are: loss,accuracy\n"
          ]
        },
        {
          "metadata": {
            "tags": null
          },
          "name": "stdout",
          "output_type": "stream",
          "text": [
            "469/469 [==============================] - 284s 606ms/step - loss: 0.2805 - accuracy: 0.8683\n",
            "Epoch 4/10\n",
            "469/469 [==============================] - ETA: 0s - loss: 0.2636 - accuracy: 0.8786"
          ]
        },
        {
          "metadata": {
            "tags": null
          },
          "name": "stderr",
          "output_type": "stream",
          "text": [
            "WARNING:tensorflow:Early stopping conditioned on metric `val_loss` which is not available. Available metrics are: loss,accuracy\n"
          ]
        },
        {
          "metadata": {
            "tags": null
          },
          "name": "stdout",
          "output_type": "stream",
          "text": [
            "469/469 [==============================] - 279s 595ms/step - loss: 0.2636 - accuracy: 0.8786\n",
            "Epoch 5/10\n",
            "469/469 [==============================] - ETA: 0s - loss: 0.2434 - accuracy: 0.8903"
          ]
        },
        {
          "metadata": {
            "tags": null
          },
          "name": "stderr",
          "output_type": "stream",
          "text": [
            "WARNING:tensorflow:Early stopping conditioned on metric `val_loss` which is not available. Available metrics are: loss,accuracy\n"
          ]
        },
        {
          "metadata": {
            "tags": null
          },
          "name": "stdout",
          "output_type": "stream",
          "text": [
            "469/469 [==============================] - 287s 611ms/step - loss: 0.2434 - accuracy: 0.8903\n",
            "Epoch 6/10\n",
            "469/469 [==============================] - ETA: 0s - loss: 0.2178 - accuracy: 0.9046"
          ]
        },
        {
          "metadata": {
            "tags": null
          },
          "name": "stderr",
          "output_type": "stream",
          "text": [
            "WARNING:tensorflow:Early stopping conditioned on metric `val_loss` which is not available. Available metrics are: loss,accuracy\n"
          ]
        },
        {
          "metadata": {
            "tags": null
          },
          "name": "stdout",
          "output_type": "stream",
          "text": [
            "469/469 [==============================] - 287s 612ms/step - loss: 0.2178 - accuracy: 0.9046\n",
            "Epoch 7/10\n",
            "469/469 [==============================] - ETA: 0s - loss: 0.1885 - accuracy: 0.9195"
          ]
        },
        {
          "metadata": {
            "tags": null
          },
          "name": "stderr",
          "output_type": "stream",
          "text": [
            "WARNING:tensorflow:Early stopping conditioned on metric `val_loss` which is not available. Available metrics are: loss,accuracy\n"
          ]
        },
        {
          "metadata": {
            "tags": null
          },
          "name": "stdout",
          "output_type": "stream",
          "text": [
            "469/469 [==============================] - 283s 604ms/step - loss: 0.1885 - accuracy: 0.9195\n",
            "Epoch 8/10\n",
            "469/469 [==============================] - ETA: 0s - loss: 0.1582 - accuracy: 0.9349"
          ]
        },
        {
          "metadata": {
            "tags": null
          },
          "name": "stderr",
          "output_type": "stream",
          "text": [
            "WARNING:tensorflow:Early stopping conditioned on metric `val_loss` which is not available. Available metrics are: loss,accuracy\n"
          ]
        },
        {
          "output_type": "stream",
          "name": "stdout",
          "text": [
            "469/469 [==============================] - 289s 617ms/step - loss: 0.1582 - accuracy: 0.9349\n",
            "Epoch 9/10\n",
            "469/469 [==============================] - ETA: 0s - loss: 0.1288 - accuracy: 0.9487"
          ]
        },
        {
          "output_type": "stream",
          "name": "stderr",
          "text": [
            "WARNING:tensorflow:Early stopping conditioned on metric `val_loss` which is not available. Available metrics are: loss,accuracy\n"
          ]
        },
        {
          "output_type": "stream",
          "name": "stdout",
          "text": [
            "\b\b\b\b\b\b\b\b\b\b\b\b\b\b\b\b\b\b\b\b\b\b\b\b\b\b\b\b\b\b\b\b\b\b\b\b\b\b\b\b\b\b\b\b\b\b\b\b\b\b\b\b\b\b\b\b\b\b\b\b\b\b\b\b\b\b\b\b\b\b\b\b\b\b\b\b\b\b\b\b\b\b\b\b\r469/469 [==============================] - 287s 612ms/step - loss: 0.1288 - accuracy: 0.9487\n",
            "Epoch 10/10\n",
            "469/469 [==============================] - ETA: 0s - loss: 0.1019 - accuracy: 0.9607"
          ]
        },
        {
          "output_type": "stream",
          "name": "stderr",
          "text": [
            "WARNING:tensorflow:Early stopping conditioned on metric `val_loss` which is not available. Available metrics are: loss,accuracy\n"
          ]
        },
        {
          "output_type": "stream",
          "name": "stdout",
          "text": [
            "\b\b\b\b\b\b\b\b\b\b\b\b\b\b\b\b\b\b\b\b\b\b\b\b\b\b\b\b\b\b\b\b\b\b\b\b\b\b\b\b\b\b\b\b\b\b\b\b\b\b\b\b\b\b\b\b\b\b\b\b\b\b\b\b\b\b\b\b\b\b\b\b\b\b\b\b\b\b\b\b\b\b\b\b\r469/469 [==============================] - 284s 605ms/step - loss: 0.1019 - accuracy: 0.9607\n"
          ]
        },
        {
          "output_type": "execute_result",
          "data": {
            "text/plain": [
              "<keras.callbacks.History at 0x7f5af2f5fdc0>"
            ]
          },
          "metadata": {},
          "execution_count": 51
        }
      ],
      "source": [
        "# reinitialize, compile, and train the model\n",
        "model = get_baseline_model()\n",
        "model.compile(optimizer=tf.keras.optimizers.Adam(), loss='sparse_categorical_crossentropy', metrics=['accuracy'])\n",
        "\n",
        "model.fit([X_train],\n",
        "     train_labels, \n",
        "     batch_size=64, \n",
        "     epochs=10,\n",
        "     callbacks=[es, WandbCallback()],\n",
        "     verbose=1)"
      ]
    },
    {
      "cell_type": "code",
      "source": [
        " # evaluate the model on the validation data\n",
        "#model.evaluate([X_valid], valid_labels)"
      ],
      "metadata": {
        "id": "T6QP6SwC53R9"
      },
      "execution_count": null,
      "outputs": []
    }
  ],
  "metadata": {
    "colab": {
      "collapsed_sections": [
        "LUpxvZ2yC2PL"
      ],
      "provenance": [],
      "mount_file_id": "1woQhYhRGlw5YfmX8BUCGghus47yiRpEE",
      "authorship_tag": "ABX9TyORPT3S0bxHqFApH4KHQ1ZM",
      "include_colab_link": true
    },
    "kernelspec": {
      "display_name": "Python 3",
      "name": "python3"
    },
    "language_info": {
      "name": "python"
    },
    "widgets": {
      "application/vnd.jupyter.widget-state+json": {
        "0111338988d14586aa168f97bb3c91c5": {
          "model_module": "@jupyter-widgets/base",
          "model_module_version": "1.2.0",
          "model_name": "LayoutModel",
          "state": {
            "_model_module": "@jupyter-widgets/base",
            "_model_module_version": "1.2.0",
            "_model_name": "LayoutModel",
            "_view_count": null,
            "_view_module": "@jupyter-widgets/base",
            "_view_module_version": "1.2.0",
            "_view_name": "LayoutView",
            "align_content": null,
            "align_items": null,
            "align_self": null,
            "border": null,
            "bottom": null,
            "display": null,
            "flex": null,
            "flex_flow": null,
            "grid_area": null,
            "grid_auto_columns": null,
            "grid_auto_flow": null,
            "grid_auto_rows": null,
            "grid_column": null,
            "grid_gap": null,
            "grid_row": null,
            "grid_template_areas": null,
            "grid_template_columns": null,
            "grid_template_rows": null,
            "height": null,
            "justify_content": null,
            "justify_items": null,
            "left": null,
            "margin": null,
            "max_height": null,
            "max_width": null,
            "min_height": null,
            "min_width": null,
            "object_fit": null,
            "object_position": null,
            "order": null,
            "overflow": null,
            "overflow_x": null,
            "overflow_y": null,
            "padding": null,
            "right": null,
            "top": null,
            "visibility": null,
            "width": null
          }
        },
        "0940c762ec0848b2a9442b0dd97ef769": {
          "model_module": "@jupyter-widgets/controls",
          "model_module_version": "1.5.0",
          "model_name": "HTMLModel",
          "state": {
            "_dom_classes": [],
            "_model_module": "@jupyter-widgets/controls",
            "_model_module_version": "1.5.0",
            "_model_name": "HTMLModel",
            "_view_count": null,
            "_view_module": "@jupyter-widgets/controls",
            "_view_module_version": "1.5.0",
            "_view_name": "HTMLView",
            "description": "",
            "description_tooltip": null,
            "layout": "IPY_MODEL_dbf7d8c4b92a4507ab0ec96e8979c60c",
            "placeholder": "​",
            "style": "IPY_MODEL_46196ce3d2fa463aabeab9fd2b0e3ef3",
            "value": " 92579/92579 [00:02&lt;00:00, 36621.71it/s]"
          }
        },
        "1140f300819a4dda869f0f9ccc5122c7": {
          "model_module": "@jupyter-widgets/controls",
          "model_module_version": "1.5.0",
          "model_name": "FloatProgressModel",
          "state": {
            "_dom_classes": [],
            "_model_module": "@jupyter-widgets/controls",
            "_model_module_version": "1.5.0",
            "_model_name": "FloatProgressModel",
            "_view_count": null,
            "_view_module": "@jupyter-widgets/controls",
            "_view_module_version": "1.5.0",
            "_view_name": "ProgressView",
            "bar_style": "success",
            "description": "",
            "description_tooltip": null,
            "layout": "IPY_MODEL_47c1a8af6b7046a88ce4d1bf87d003d7",
            "max": 92579,
            "min": 0,
            "orientation": "horizontal",
            "style": "IPY_MODEL_c941c5af001b4b149bb2ca850c9c3814",
            "value": 92579
          }
        },
        "15e40055df9f4547a1e195a7a56fff28": {
          "model_module": "@jupyter-widgets/controls",
          "model_module_version": "1.5.0",
          "model_name": "HBoxModel",
          "state": {
            "_dom_classes": [],
            "_model_module": "@jupyter-widgets/controls",
            "_model_module_version": "1.5.0",
            "_model_name": "HBoxModel",
            "_view_count": null,
            "_view_module": "@jupyter-widgets/controls",
            "_view_module_version": "1.5.0",
            "_view_name": "HBoxView",
            "box_style": "",
            "children": [
              "IPY_MODEL_abbedf9032624e2684a4e457d1e917b0",
              "IPY_MODEL_1140f300819a4dda869f0f9ccc5122c7",
              "IPY_MODEL_23840e99a7234417b7c3deacffd14f03"
            ],
            "layout": "IPY_MODEL_5ae1b15cccef4527a3b12027c898a097"
          }
        },
        "226fac28b41149acabc216f6588b9e19": {
          "model_module": "@jupyter-widgets/base",
          "model_module_version": "1.2.0",
          "model_name": "LayoutModel",
          "state": {
            "_model_module": "@jupyter-widgets/base",
            "_model_module_version": "1.2.0",
            "_model_name": "LayoutModel",
            "_view_count": null,
            "_view_module": "@jupyter-widgets/base",
            "_view_module_version": "1.2.0",
            "_view_name": "LayoutView",
            "align_content": null,
            "align_items": null,
            "align_self": null,
            "border": null,
            "bottom": null,
            "display": null,
            "flex": null,
            "flex_flow": null,
            "grid_area": null,
            "grid_auto_columns": null,
            "grid_auto_flow": null,
            "grid_auto_rows": null,
            "grid_column": null,
            "grid_gap": null,
            "grid_row": null,
            "grid_template_areas": null,
            "grid_template_columns": null,
            "grid_template_rows": null,
            "height": null,
            "justify_content": null,
            "justify_items": null,
            "left": null,
            "margin": null,
            "max_height": null,
            "max_width": null,
            "min_height": null,
            "min_width": null,
            "object_fit": null,
            "object_position": null,
            "order": null,
            "overflow": null,
            "overflow_x": null,
            "overflow_y": null,
            "padding": null,
            "right": null,
            "top": null,
            "visibility": null,
            "width": null
          }
        },
        "23840e99a7234417b7c3deacffd14f03": {
          "model_module": "@jupyter-widgets/controls",
          "model_module_version": "1.5.0",
          "model_name": "HTMLModel",
          "state": {
            "_dom_classes": [],
            "_model_module": "@jupyter-widgets/controls",
            "_model_module_version": "1.5.0",
            "_model_name": "HTMLModel",
            "_view_count": null,
            "_view_module": "@jupyter-widgets/controls",
            "_view_module_version": "1.5.0",
            "_view_name": "HTMLView",
            "description": "",
            "description_tooltip": null,
            "layout": "IPY_MODEL_8054c8a0076045bc979f157f051da384",
            "placeholder": "​",
            "style": "IPY_MODEL_47db9899363b4ca0ae2e86b36838ca7f",
            "value": " 92579/92579 [01:31&lt;00:00, 1278.31it/s]"
          }
        },
        "46196ce3d2fa463aabeab9fd2b0e3ef3": {
          "model_module": "@jupyter-widgets/controls",
          "model_module_version": "1.5.0",
          "model_name": "DescriptionStyleModel",
          "state": {
            "_model_module": "@jupyter-widgets/controls",
            "_model_module_version": "1.5.0",
            "_model_name": "DescriptionStyleModel",
            "_view_count": null,
            "_view_module": "@jupyter-widgets/base",
            "_view_module_version": "1.2.0",
            "_view_name": "StyleView",
            "description_width": ""
          }
        },
        "47c1a8af6b7046a88ce4d1bf87d003d7": {
          "model_module": "@jupyter-widgets/base",
          "model_module_version": "1.2.0",
          "model_name": "LayoutModel",
          "state": {
            "_model_module": "@jupyter-widgets/base",
            "_model_module_version": "1.2.0",
            "_model_name": "LayoutModel",
            "_view_count": null,
            "_view_module": "@jupyter-widgets/base",
            "_view_module_version": "1.2.0",
            "_view_name": "LayoutView",
            "align_content": null,
            "align_items": null,
            "align_self": null,
            "border": null,
            "bottom": null,
            "display": null,
            "flex": null,
            "flex_flow": null,
            "grid_area": null,
            "grid_auto_columns": null,
            "grid_auto_flow": null,
            "grid_auto_rows": null,
            "grid_column": null,
            "grid_gap": null,
            "grid_row": null,
            "grid_template_areas": null,
            "grid_template_columns": null,
            "grid_template_rows": null,
            "height": null,
            "justify_content": null,
            "justify_items": null,
            "left": null,
            "margin": null,
            "max_height": null,
            "max_width": null,
            "min_height": null,
            "min_width": null,
            "object_fit": null,
            "object_position": null,
            "order": null,
            "overflow": null,
            "overflow_x": null,
            "overflow_y": null,
            "padding": null,
            "right": null,
            "top": null,
            "visibility": null,
            "width": null
          }
        },
        "47db9899363b4ca0ae2e86b36838ca7f": {
          "model_module": "@jupyter-widgets/controls",
          "model_module_version": "1.5.0",
          "model_name": "DescriptionStyleModel",
          "state": {
            "_model_module": "@jupyter-widgets/controls",
            "_model_module_version": "1.5.0",
            "_model_name": "DescriptionStyleModel",
            "_view_count": null,
            "_view_module": "@jupyter-widgets/base",
            "_view_module_version": "1.2.0",
            "_view_name": "StyleView",
            "description_width": ""
          }
        },
        "520c7eb1f5bc4cf78a8330b5276adc31": {
          "model_module": "@jupyter-widgets/controls",
          "model_module_version": "1.5.0",
          "model_name": "DescriptionStyleModel",
          "state": {
            "_model_module": "@jupyter-widgets/controls",
            "_model_module_version": "1.5.0",
            "_model_name": "DescriptionStyleModel",
            "_view_count": null,
            "_view_module": "@jupyter-widgets/base",
            "_view_module_version": "1.2.0",
            "_view_name": "StyleView",
            "description_width": ""
          }
        },
        "5ae1b15cccef4527a3b12027c898a097": {
          "model_module": "@jupyter-widgets/base",
          "model_module_version": "1.2.0",
          "model_name": "LayoutModel",
          "state": {
            "_model_module": "@jupyter-widgets/base",
            "_model_module_version": "1.2.0",
            "_model_name": "LayoutModel",
            "_view_count": null,
            "_view_module": "@jupyter-widgets/base",
            "_view_module_version": "1.2.0",
            "_view_name": "LayoutView",
            "align_content": null,
            "align_items": null,
            "align_self": null,
            "border": null,
            "bottom": null,
            "display": null,
            "flex": null,
            "flex_flow": null,
            "grid_area": null,
            "grid_auto_columns": null,
            "grid_auto_flow": null,
            "grid_auto_rows": null,
            "grid_column": null,
            "grid_gap": null,
            "grid_row": null,
            "grid_template_areas": null,
            "grid_template_columns": null,
            "grid_template_rows": null,
            "height": null,
            "justify_content": null,
            "justify_items": null,
            "left": null,
            "margin": null,
            "max_height": null,
            "max_width": null,
            "min_height": null,
            "min_width": null,
            "object_fit": null,
            "object_position": null,
            "order": null,
            "overflow": null,
            "overflow_x": null,
            "overflow_y": null,
            "padding": null,
            "right": null,
            "top": null,
            "visibility": null,
            "width": null
          }
        },
        "5e825f9788534e64a2ddd5bf7bcd872b": {
          "model_module": "@jupyter-widgets/base",
          "model_module_version": "1.2.0",
          "model_name": "LayoutModel",
          "state": {
            "_model_module": "@jupyter-widgets/base",
            "_model_module_version": "1.2.0",
            "_model_name": "LayoutModel",
            "_view_count": null,
            "_view_module": "@jupyter-widgets/base",
            "_view_module_version": "1.2.0",
            "_view_name": "LayoutView",
            "align_content": null,
            "align_items": null,
            "align_self": null,
            "border": null,
            "bottom": null,
            "display": null,
            "flex": null,
            "flex_flow": null,
            "grid_area": null,
            "grid_auto_columns": null,
            "grid_auto_flow": null,
            "grid_auto_rows": null,
            "grid_column": null,
            "grid_gap": null,
            "grid_row": null,
            "grid_template_areas": null,
            "grid_template_columns": null,
            "grid_template_rows": null,
            "height": null,
            "justify_content": null,
            "justify_items": null,
            "left": null,
            "margin": null,
            "max_height": null,
            "max_width": null,
            "min_height": null,
            "min_width": null,
            "object_fit": null,
            "object_position": null,
            "order": null,
            "overflow": null,
            "overflow_x": null,
            "overflow_y": null,
            "padding": null,
            "right": null,
            "top": null,
            "visibility": null,
            "width": null
          }
        },
        "65b199a392264bcb8848980407c9f5e7": {
          "model_module": "@jupyter-widgets/controls",
          "model_module_version": "1.5.0",
          "model_name": "HTMLModel",
          "state": {
            "_dom_classes": [],
            "_model_module": "@jupyter-widgets/controls",
            "_model_module_version": "1.5.0",
            "_model_name": "HTMLModel",
            "_view_count": null,
            "_view_module": "@jupyter-widgets/controls",
            "_view_module_version": "1.5.0",
            "_view_name": "HTMLView",
            "description": "",
            "description_tooltip": null,
            "layout": "IPY_MODEL_fa0b04c00c004350b5e4f0e0f58d5d50",
            "placeholder": "​",
            "style": "IPY_MODEL_73a681b807064be29d0b68183e69907c",
            "value": " 92579/92579 [1:32:16&lt;00:00, 17.80it/s]"
          }
        },
        "6916e2e545d144669daa869a57c2299c": {
          "model_module": "@jupyter-widgets/controls",
          "model_module_version": "1.5.0",
          "model_name": "HTMLModel",
          "state": {
            "_dom_classes": [],
            "_model_module": "@jupyter-widgets/controls",
            "_model_module_version": "1.5.0",
            "_model_name": "HTMLModel",
            "_view_count": null,
            "_view_module": "@jupyter-widgets/controls",
            "_view_module_version": "1.5.0",
            "_view_name": "HTMLView",
            "description": "",
            "description_tooltip": null,
            "layout": "IPY_MODEL_6f997cfe91cc475cbe749c20db024b9c",
            "placeholder": "​",
            "style": "IPY_MODEL_520c7eb1f5bc4cf78a8330b5276adc31",
            "value": "100%"
          }
        },
        "695d830d2409443284017c23d7034dda": {
          "model_module": "@jupyter-widgets/controls",
          "model_module_version": "1.5.0",
          "model_name": "ProgressStyleModel",
          "state": {
            "_model_module": "@jupyter-widgets/controls",
            "_model_module_version": "1.5.0",
            "_model_name": "ProgressStyleModel",
            "_view_count": null,
            "_view_module": "@jupyter-widgets/base",
            "_view_module_version": "1.2.0",
            "_view_name": "StyleView",
            "bar_color": null,
            "description_width": ""
          }
        },
        "6f997cfe91cc475cbe749c20db024b9c": {
          "model_module": "@jupyter-widgets/base",
          "model_module_version": "1.2.0",
          "model_name": "LayoutModel",
          "state": {
            "_model_module": "@jupyter-widgets/base",
            "_model_module_version": "1.2.0",
            "_model_name": "LayoutModel",
            "_view_count": null,
            "_view_module": "@jupyter-widgets/base",
            "_view_module_version": "1.2.0",
            "_view_name": "LayoutView",
            "align_content": null,
            "align_items": null,
            "align_self": null,
            "border": null,
            "bottom": null,
            "display": null,
            "flex": null,
            "flex_flow": null,
            "grid_area": null,
            "grid_auto_columns": null,
            "grid_auto_flow": null,
            "grid_auto_rows": null,
            "grid_column": null,
            "grid_gap": null,
            "grid_row": null,
            "grid_template_areas": null,
            "grid_template_columns": null,
            "grid_template_rows": null,
            "height": null,
            "justify_content": null,
            "justify_items": null,
            "left": null,
            "margin": null,
            "max_height": null,
            "max_width": null,
            "min_height": null,
            "min_width": null,
            "object_fit": null,
            "object_position": null,
            "order": null,
            "overflow": null,
            "overflow_x": null,
            "overflow_y": null,
            "padding": null,
            "right": null,
            "top": null,
            "visibility": null,
            "width": null
          }
        },
        "73a681b807064be29d0b68183e69907c": {
          "model_module": "@jupyter-widgets/controls",
          "model_module_version": "1.5.0",
          "model_name": "DescriptionStyleModel",
          "state": {
            "_model_module": "@jupyter-widgets/controls",
            "_model_module_version": "1.5.0",
            "_model_name": "DescriptionStyleModel",
            "_view_count": null,
            "_view_module": "@jupyter-widgets/base",
            "_view_module_version": "1.2.0",
            "_view_name": "StyleView",
            "description_width": ""
          }
        },
        "79b72a6729284a86a361df025a9748fd": {
          "model_module": "@jupyter-widgets/controls",
          "model_module_version": "1.5.0",
          "model_name": "HBoxModel",
          "state": {
            "_dom_classes": [],
            "_model_module": "@jupyter-widgets/controls",
            "_model_module_version": "1.5.0",
            "_model_name": "HBoxModel",
            "_view_count": null,
            "_view_module": "@jupyter-widgets/controls",
            "_view_module_version": "1.5.0",
            "_view_name": "HBoxView",
            "box_style": "",
            "children": [
              "IPY_MODEL_6916e2e545d144669daa869a57c2299c",
              "IPY_MODEL_c767d36c605c46bd9714f31ee347c5c2",
              "IPY_MODEL_0940c762ec0848b2a9442b0dd97ef769"
            ],
            "layout": "IPY_MODEL_0111338988d14586aa168f97bb3c91c5"
          }
        },
        "8054c8a0076045bc979f157f051da384": {
          "model_module": "@jupyter-widgets/base",
          "model_module_version": "1.2.0",
          "model_name": "LayoutModel",
          "state": {
            "_model_module": "@jupyter-widgets/base",
            "_model_module_version": "1.2.0",
            "_model_name": "LayoutModel",
            "_view_count": null,
            "_view_module": "@jupyter-widgets/base",
            "_view_module_version": "1.2.0",
            "_view_name": "LayoutView",
            "align_content": null,
            "align_items": null,
            "align_self": null,
            "border": null,
            "bottom": null,
            "display": null,
            "flex": null,
            "flex_flow": null,
            "grid_area": null,
            "grid_auto_columns": null,
            "grid_auto_flow": null,
            "grid_auto_rows": null,
            "grid_column": null,
            "grid_gap": null,
            "grid_row": null,
            "grid_template_areas": null,
            "grid_template_columns": null,
            "grid_template_rows": null,
            "height": null,
            "justify_content": null,
            "justify_items": null,
            "left": null,
            "margin": null,
            "max_height": null,
            "max_width": null,
            "min_height": null,
            "min_width": null,
            "object_fit": null,
            "object_position": null,
            "order": null,
            "overflow": null,
            "overflow_x": null,
            "overflow_y": null,
            "padding": null,
            "right": null,
            "top": null,
            "visibility": null,
            "width": null
          }
        },
        "83a2d8822e3441b89d39a26822b22387": {
          "model_module": "@jupyter-widgets/controls",
          "model_module_version": "1.5.0",
          "model_name": "ProgressStyleModel",
          "state": {
            "_model_module": "@jupyter-widgets/controls",
            "_model_module_version": "1.5.0",
            "_model_name": "ProgressStyleModel",
            "_view_count": null,
            "_view_module": "@jupyter-widgets/base",
            "_view_module_version": "1.2.0",
            "_view_name": "StyleView",
            "bar_color": null,
            "description_width": ""
          }
        },
        "90a89a73cb074cfaa458c511fea0b2b0": {
          "model_module": "@jupyter-widgets/controls",
          "model_module_version": "1.5.0",
          "model_name": "HTMLModel",
          "state": {
            "_dom_classes": [],
            "_model_module": "@jupyter-widgets/controls",
            "_model_module_version": "1.5.0",
            "_model_name": "HTMLModel",
            "_view_count": null,
            "_view_module": "@jupyter-widgets/controls",
            "_view_module_version": "1.5.0",
            "_view_name": "HTMLView",
            "description": "",
            "description_tooltip": null,
            "layout": "IPY_MODEL_d65984e1a4134f5d90aff163c4f6dad1",
            "placeholder": "​",
            "style": "IPY_MODEL_c79243172862452694a1f2804bcca783",
            "value": "100%"
          }
        },
        "9a6b527cad2b4b80a2d8e3faa1a180c0": {
          "model_module": "@jupyter-widgets/base",
          "model_module_version": "1.2.0",
          "model_name": "LayoutModel",
          "state": {
            "_model_module": "@jupyter-widgets/base",
            "_model_module_version": "1.2.0",
            "_model_name": "LayoutModel",
            "_view_count": null,
            "_view_module": "@jupyter-widgets/base",
            "_view_module_version": "1.2.0",
            "_view_name": "LayoutView",
            "align_content": null,
            "align_items": null,
            "align_self": null,
            "border": null,
            "bottom": null,
            "display": null,
            "flex": null,
            "flex_flow": null,
            "grid_area": null,
            "grid_auto_columns": null,
            "grid_auto_flow": null,
            "grid_auto_rows": null,
            "grid_column": null,
            "grid_gap": null,
            "grid_row": null,
            "grid_template_areas": null,
            "grid_template_columns": null,
            "grid_template_rows": null,
            "height": null,
            "justify_content": null,
            "justify_items": null,
            "left": null,
            "margin": null,
            "max_height": null,
            "max_width": null,
            "min_height": null,
            "min_width": null,
            "object_fit": null,
            "object_position": null,
            "order": null,
            "overflow": null,
            "overflow_x": null,
            "overflow_y": null,
            "padding": null,
            "right": null,
            "top": null,
            "visibility": null,
            "width": null
          }
        },
        "abbedf9032624e2684a4e457d1e917b0": {
          "model_module": "@jupyter-widgets/controls",
          "model_module_version": "1.5.0",
          "model_name": "HTMLModel",
          "state": {
            "_dom_classes": [],
            "_model_module": "@jupyter-widgets/controls",
            "_model_module_version": "1.5.0",
            "_model_name": "HTMLModel",
            "_view_count": null,
            "_view_module": "@jupyter-widgets/controls",
            "_view_module_version": "1.5.0",
            "_view_name": "HTMLView",
            "description": "",
            "description_tooltip": null,
            "layout": "IPY_MODEL_5e825f9788534e64a2ddd5bf7bcd872b",
            "placeholder": "​",
            "style": "IPY_MODEL_d0bb3dff290c4492a1926329ad004084",
            "value": "100%"
          }
        },
        "b36114bb2a124a5f9447d77db576734c": {
          "model_module": "@jupyter-widgets/base",
          "model_module_version": "1.2.0",
          "model_name": "LayoutModel",
          "state": {
            "_model_module": "@jupyter-widgets/base",
            "_model_module_version": "1.2.0",
            "_model_name": "LayoutModel",
            "_view_count": null,
            "_view_module": "@jupyter-widgets/base",
            "_view_module_version": "1.2.0",
            "_view_name": "LayoutView",
            "align_content": null,
            "align_items": null,
            "align_self": null,
            "border": null,
            "bottom": null,
            "display": null,
            "flex": null,
            "flex_flow": null,
            "grid_area": null,
            "grid_auto_columns": null,
            "grid_auto_flow": null,
            "grid_auto_rows": null,
            "grid_column": null,
            "grid_gap": null,
            "grid_row": null,
            "grid_template_areas": null,
            "grid_template_columns": null,
            "grid_template_rows": null,
            "height": null,
            "justify_content": null,
            "justify_items": null,
            "left": null,
            "margin": null,
            "max_height": null,
            "max_width": null,
            "min_height": null,
            "min_width": null,
            "object_fit": null,
            "object_position": null,
            "order": null,
            "overflow": null,
            "overflow_x": null,
            "overflow_y": null,
            "padding": null,
            "right": null,
            "top": null,
            "visibility": null,
            "width": null
          }
        },
        "c767d36c605c46bd9714f31ee347c5c2": {
          "model_module": "@jupyter-widgets/controls",
          "model_module_version": "1.5.0",
          "model_name": "FloatProgressModel",
          "state": {
            "_dom_classes": [],
            "_model_module": "@jupyter-widgets/controls",
            "_model_module_version": "1.5.0",
            "_model_name": "FloatProgressModel",
            "_view_count": null,
            "_view_module": "@jupyter-widgets/controls",
            "_view_module_version": "1.5.0",
            "_view_name": "ProgressView",
            "bar_style": "success",
            "description": "",
            "description_tooltip": null,
            "layout": "IPY_MODEL_226fac28b41149acabc216f6588b9e19",
            "max": 92579,
            "min": 0,
            "orientation": "horizontal",
            "style": "IPY_MODEL_695d830d2409443284017c23d7034dda",
            "value": 92579
          }
        },
        "c79243172862452694a1f2804bcca783": {
          "model_module": "@jupyter-widgets/controls",
          "model_module_version": "1.5.0",
          "model_name": "DescriptionStyleModel",
          "state": {
            "_model_module": "@jupyter-widgets/controls",
            "_model_module_version": "1.5.0",
            "_model_name": "DescriptionStyleModel",
            "_view_count": null,
            "_view_module": "@jupyter-widgets/base",
            "_view_module_version": "1.2.0",
            "_view_name": "StyleView",
            "description_width": ""
          }
        },
        "c941c5af001b4b149bb2ca850c9c3814": {
          "model_module": "@jupyter-widgets/controls",
          "model_module_version": "1.5.0",
          "model_name": "ProgressStyleModel",
          "state": {
            "_model_module": "@jupyter-widgets/controls",
            "_model_module_version": "1.5.0",
            "_model_name": "ProgressStyleModel",
            "_view_count": null,
            "_view_module": "@jupyter-widgets/base",
            "_view_module_version": "1.2.0",
            "_view_name": "StyleView",
            "bar_color": null,
            "description_width": ""
          }
        },
        "d0bb3dff290c4492a1926329ad004084": {
          "model_module": "@jupyter-widgets/controls",
          "model_module_version": "1.5.0",
          "model_name": "DescriptionStyleModel",
          "state": {
            "_model_module": "@jupyter-widgets/controls",
            "_model_module_version": "1.5.0",
            "_model_name": "DescriptionStyleModel",
            "_view_count": null,
            "_view_module": "@jupyter-widgets/base",
            "_view_module_version": "1.2.0",
            "_view_name": "StyleView",
            "description_width": ""
          }
        },
        "d65984e1a4134f5d90aff163c4f6dad1": {
          "model_module": "@jupyter-widgets/base",
          "model_module_version": "1.2.0",
          "model_name": "LayoutModel",
          "state": {
            "_model_module": "@jupyter-widgets/base",
            "_model_module_version": "1.2.0",
            "_model_name": "LayoutModel",
            "_view_count": null,
            "_view_module": "@jupyter-widgets/base",
            "_view_module_version": "1.2.0",
            "_view_name": "LayoutView",
            "align_content": null,
            "align_items": null,
            "align_self": null,
            "border": null,
            "bottom": null,
            "display": null,
            "flex": null,
            "flex_flow": null,
            "grid_area": null,
            "grid_auto_columns": null,
            "grid_auto_flow": null,
            "grid_auto_rows": null,
            "grid_column": null,
            "grid_gap": null,
            "grid_row": null,
            "grid_template_areas": null,
            "grid_template_columns": null,
            "grid_template_rows": null,
            "height": null,
            "justify_content": null,
            "justify_items": null,
            "left": null,
            "margin": null,
            "max_height": null,
            "max_width": null,
            "min_height": null,
            "min_width": null,
            "object_fit": null,
            "object_position": null,
            "order": null,
            "overflow": null,
            "overflow_x": null,
            "overflow_y": null,
            "padding": null,
            "right": null,
            "top": null,
            "visibility": null,
            "width": null
          }
        },
        "dbf7d8c4b92a4507ab0ec96e8979c60c": {
          "model_module": "@jupyter-widgets/base",
          "model_module_version": "1.2.0",
          "model_name": "LayoutModel",
          "state": {
            "_model_module": "@jupyter-widgets/base",
            "_model_module_version": "1.2.0",
            "_model_name": "LayoutModel",
            "_view_count": null,
            "_view_module": "@jupyter-widgets/base",
            "_view_module_version": "1.2.0",
            "_view_name": "LayoutView",
            "align_content": null,
            "align_items": null,
            "align_self": null,
            "border": null,
            "bottom": null,
            "display": null,
            "flex": null,
            "flex_flow": null,
            "grid_area": null,
            "grid_auto_columns": null,
            "grid_auto_flow": null,
            "grid_auto_rows": null,
            "grid_column": null,
            "grid_gap": null,
            "grid_row": null,
            "grid_template_areas": null,
            "grid_template_columns": null,
            "grid_template_rows": null,
            "height": null,
            "justify_content": null,
            "justify_items": null,
            "left": null,
            "margin": null,
            "max_height": null,
            "max_width": null,
            "min_height": null,
            "min_width": null,
            "object_fit": null,
            "object_position": null,
            "order": null,
            "overflow": null,
            "overflow_x": null,
            "overflow_y": null,
            "padding": null,
            "right": null,
            "top": null,
            "visibility": null,
            "width": null
          }
        },
        "f05c541f143f4a6e843291026c29ae02": {
          "model_module": "@jupyter-widgets/controls",
          "model_module_version": "1.5.0",
          "model_name": "HBoxModel",
          "state": {
            "_dom_classes": [],
            "_model_module": "@jupyter-widgets/controls",
            "_model_module_version": "1.5.0",
            "_model_name": "HBoxModel",
            "_view_count": null,
            "_view_module": "@jupyter-widgets/controls",
            "_view_module_version": "1.5.0",
            "_view_name": "HBoxView",
            "box_style": "",
            "children": [
              "IPY_MODEL_90a89a73cb074cfaa458c511fea0b2b0",
              "IPY_MODEL_f957660a34584d00bbdf73d70a4377f5",
              "IPY_MODEL_65b199a392264bcb8848980407c9f5e7"
            ],
            "layout": "IPY_MODEL_9a6b527cad2b4b80a2d8e3faa1a180c0"
          }
        },
        "f957660a34584d00bbdf73d70a4377f5": {
          "model_module": "@jupyter-widgets/controls",
          "model_module_version": "1.5.0",
          "model_name": "FloatProgressModel",
          "state": {
            "_dom_classes": [],
            "_model_module": "@jupyter-widgets/controls",
            "_model_module_version": "1.5.0",
            "_model_name": "FloatProgressModel",
            "_view_count": null,
            "_view_module": "@jupyter-widgets/controls",
            "_view_module_version": "1.5.0",
            "_view_name": "ProgressView",
            "bar_style": "success",
            "description": "",
            "description_tooltip": null,
            "layout": "IPY_MODEL_b36114bb2a124a5f9447d77db576734c",
            "max": 92579,
            "min": 0,
            "orientation": "horizontal",
            "style": "IPY_MODEL_83a2d8822e3441b89d39a26822b22387",
            "value": 92579
          }
        },
        "fa0b04c00c004350b5e4f0e0f58d5d50": {
          "model_module": "@jupyter-widgets/base",
          "model_module_version": "1.2.0",
          "model_name": "LayoutModel",
          "state": {
            "_model_module": "@jupyter-widgets/base",
            "_model_module_version": "1.2.0",
            "_model_name": "LayoutModel",
            "_view_count": null,
            "_view_module": "@jupyter-widgets/base",
            "_view_module_version": "1.2.0",
            "_view_name": "LayoutView",
            "align_content": null,
            "align_items": null,
            "align_self": null,
            "border": null,
            "bottom": null,
            "display": null,
            "flex": null,
            "flex_flow": null,
            "grid_area": null,
            "grid_auto_columns": null,
            "grid_auto_flow": null,
            "grid_auto_rows": null,
            "grid_column": null,
            "grid_gap": null,
            "grid_row": null,
            "grid_template_areas": null,
            "grid_template_columns": null,
            "grid_template_rows": null,
            "height": null,
            "justify_content": null,
            "justify_items": null,
            "left": null,
            "margin": null,
            "max_height": null,
            "max_width": null,
            "min_height": null,
            "min_width": null,
            "object_fit": null,
            "object_position": null,
            "order": null,
            "overflow": null,
            "overflow_x": null,
            "overflow_y": null,
            "padding": null,
            "right": null,
            "top": null,
            "visibility": null,
            "width": null
          }
        },
        "54a602b22cad4bb4833fbfc01e7591ee": {
          "model_module": "@jupyter-widgets/controls",
          "model_name": "HBoxModel",
          "model_module_version": "1.5.0",
          "state": {
            "_dom_classes": [],
            "_model_module": "@jupyter-widgets/controls",
            "_model_module_version": "1.5.0",
            "_model_name": "HBoxModel",
            "_view_count": null,
            "_view_module": "@jupyter-widgets/controls",
            "_view_module_version": "1.5.0",
            "_view_name": "HBoxView",
            "box_style": "",
            "children": [
              "IPY_MODEL_212247f228974e26b101736434fd6ad8",
              "IPY_MODEL_5317361ee75c4944af1a439a4e08e6ae",
              "IPY_MODEL_1d41575cbc2e40289b7ee998a92a370a"
            ],
            "layout": "IPY_MODEL_da43b1de666d48d389e74c76e93f10ea"
          }
        },
        "212247f228974e26b101736434fd6ad8": {
          "model_module": "@jupyter-widgets/controls",
          "model_name": "HTMLModel",
          "model_module_version": "1.5.0",
          "state": {
            "_dom_classes": [],
            "_model_module": "@jupyter-widgets/controls",
            "_model_module_version": "1.5.0",
            "_model_name": "HTMLModel",
            "_view_count": null,
            "_view_module": "@jupyter-widgets/controls",
            "_view_module_version": "1.5.0",
            "_view_name": "HTMLView",
            "description": "",
            "description_tooltip": null,
            "layout": "IPY_MODEL_ab1700a6fae34a1ba1b229d927bcc9b6",
            "placeholder": "​",
            "style": "IPY_MODEL_439ec7b60d954a82a46f327066b9866b",
            "value": "100%"
          }
        },
        "5317361ee75c4944af1a439a4e08e6ae": {
          "model_module": "@jupyter-widgets/controls",
          "model_name": "FloatProgressModel",
          "model_module_version": "1.5.0",
          "state": {
            "_dom_classes": [],
            "_model_module": "@jupyter-widgets/controls",
            "_model_module_version": "1.5.0",
            "_model_name": "FloatProgressModel",
            "_view_count": null,
            "_view_module": "@jupyter-widgets/controls",
            "_view_module_version": "1.5.0",
            "_view_name": "ProgressView",
            "bar_style": "success",
            "description": "",
            "description_tooltip": null,
            "layout": "IPY_MODEL_a341ddfcc3804176afd3c0129cca9e2b",
            "max": 92579,
            "min": 0,
            "orientation": "horizontal",
            "style": "IPY_MODEL_995bd13447a9436584170067e870078a",
            "value": 92579
          }
        },
        "1d41575cbc2e40289b7ee998a92a370a": {
          "model_module": "@jupyter-widgets/controls",
          "model_name": "HTMLModel",
          "model_module_version": "1.5.0",
          "state": {
            "_dom_classes": [],
            "_model_module": "@jupyter-widgets/controls",
            "_model_module_version": "1.5.0",
            "_model_name": "HTMLModel",
            "_view_count": null,
            "_view_module": "@jupyter-widgets/controls",
            "_view_module_version": "1.5.0",
            "_view_name": "HTMLView",
            "description": "",
            "description_tooltip": null,
            "layout": "IPY_MODEL_d11b0d9af40542dd8b9327eb29fd4ac6",
            "placeholder": "​",
            "style": "IPY_MODEL_48b898e509944aa7827a1a122408e39b",
            "value": " 92579/92579 [00:04&lt;00:00, 18807.41it/s]"
          }
        },
        "da43b1de666d48d389e74c76e93f10ea": {
          "model_module": "@jupyter-widgets/base",
          "model_name": "LayoutModel",
          "model_module_version": "1.2.0",
          "state": {
            "_model_module": "@jupyter-widgets/base",
            "_model_module_version": "1.2.0",
            "_model_name": "LayoutModel",
            "_view_count": null,
            "_view_module": "@jupyter-widgets/base",
            "_view_module_version": "1.2.0",
            "_view_name": "LayoutView",
            "align_content": null,
            "align_items": null,
            "align_self": null,
            "border": null,
            "bottom": null,
            "display": null,
            "flex": null,
            "flex_flow": null,
            "grid_area": null,
            "grid_auto_columns": null,
            "grid_auto_flow": null,
            "grid_auto_rows": null,
            "grid_column": null,
            "grid_gap": null,
            "grid_row": null,
            "grid_template_areas": null,
            "grid_template_columns": null,
            "grid_template_rows": null,
            "height": null,
            "justify_content": null,
            "justify_items": null,
            "left": null,
            "margin": null,
            "max_height": null,
            "max_width": null,
            "min_height": null,
            "min_width": null,
            "object_fit": null,
            "object_position": null,
            "order": null,
            "overflow": null,
            "overflow_x": null,
            "overflow_y": null,
            "padding": null,
            "right": null,
            "top": null,
            "visibility": null,
            "width": null
          }
        },
        "ab1700a6fae34a1ba1b229d927bcc9b6": {
          "model_module": "@jupyter-widgets/base",
          "model_name": "LayoutModel",
          "model_module_version": "1.2.0",
          "state": {
            "_model_module": "@jupyter-widgets/base",
            "_model_module_version": "1.2.0",
            "_model_name": "LayoutModel",
            "_view_count": null,
            "_view_module": "@jupyter-widgets/base",
            "_view_module_version": "1.2.0",
            "_view_name": "LayoutView",
            "align_content": null,
            "align_items": null,
            "align_self": null,
            "border": null,
            "bottom": null,
            "display": null,
            "flex": null,
            "flex_flow": null,
            "grid_area": null,
            "grid_auto_columns": null,
            "grid_auto_flow": null,
            "grid_auto_rows": null,
            "grid_column": null,
            "grid_gap": null,
            "grid_row": null,
            "grid_template_areas": null,
            "grid_template_columns": null,
            "grid_template_rows": null,
            "height": null,
            "justify_content": null,
            "justify_items": null,
            "left": null,
            "margin": null,
            "max_height": null,
            "max_width": null,
            "min_height": null,
            "min_width": null,
            "object_fit": null,
            "object_position": null,
            "order": null,
            "overflow": null,
            "overflow_x": null,
            "overflow_y": null,
            "padding": null,
            "right": null,
            "top": null,
            "visibility": null,
            "width": null
          }
        },
        "439ec7b60d954a82a46f327066b9866b": {
          "model_module": "@jupyter-widgets/controls",
          "model_name": "DescriptionStyleModel",
          "model_module_version": "1.5.0",
          "state": {
            "_model_module": "@jupyter-widgets/controls",
            "_model_module_version": "1.5.0",
            "_model_name": "DescriptionStyleModel",
            "_view_count": null,
            "_view_module": "@jupyter-widgets/base",
            "_view_module_version": "1.2.0",
            "_view_name": "StyleView",
            "description_width": ""
          }
        },
        "a341ddfcc3804176afd3c0129cca9e2b": {
          "model_module": "@jupyter-widgets/base",
          "model_name": "LayoutModel",
          "model_module_version": "1.2.0",
          "state": {
            "_model_module": "@jupyter-widgets/base",
            "_model_module_version": "1.2.0",
            "_model_name": "LayoutModel",
            "_view_count": null,
            "_view_module": "@jupyter-widgets/base",
            "_view_module_version": "1.2.0",
            "_view_name": "LayoutView",
            "align_content": null,
            "align_items": null,
            "align_self": null,
            "border": null,
            "bottom": null,
            "display": null,
            "flex": null,
            "flex_flow": null,
            "grid_area": null,
            "grid_auto_columns": null,
            "grid_auto_flow": null,
            "grid_auto_rows": null,
            "grid_column": null,
            "grid_gap": null,
            "grid_row": null,
            "grid_template_areas": null,
            "grid_template_columns": null,
            "grid_template_rows": null,
            "height": null,
            "justify_content": null,
            "justify_items": null,
            "left": null,
            "margin": null,
            "max_height": null,
            "max_width": null,
            "min_height": null,
            "min_width": null,
            "object_fit": null,
            "object_position": null,
            "order": null,
            "overflow": null,
            "overflow_x": null,
            "overflow_y": null,
            "padding": null,
            "right": null,
            "top": null,
            "visibility": null,
            "width": null
          }
        },
        "995bd13447a9436584170067e870078a": {
          "model_module": "@jupyter-widgets/controls",
          "model_name": "ProgressStyleModel",
          "model_module_version": "1.5.0",
          "state": {
            "_model_module": "@jupyter-widgets/controls",
            "_model_module_version": "1.5.0",
            "_model_name": "ProgressStyleModel",
            "_view_count": null,
            "_view_module": "@jupyter-widgets/base",
            "_view_module_version": "1.2.0",
            "_view_name": "StyleView",
            "bar_color": null,
            "description_width": ""
          }
        },
        "d11b0d9af40542dd8b9327eb29fd4ac6": {
          "model_module": "@jupyter-widgets/base",
          "model_name": "LayoutModel",
          "model_module_version": "1.2.0",
          "state": {
            "_model_module": "@jupyter-widgets/base",
            "_model_module_version": "1.2.0",
            "_model_name": "LayoutModel",
            "_view_count": null,
            "_view_module": "@jupyter-widgets/base",
            "_view_module_version": "1.2.0",
            "_view_name": "LayoutView",
            "align_content": null,
            "align_items": null,
            "align_self": null,
            "border": null,
            "bottom": null,
            "display": null,
            "flex": null,
            "flex_flow": null,
            "grid_area": null,
            "grid_auto_columns": null,
            "grid_auto_flow": null,
            "grid_auto_rows": null,
            "grid_column": null,
            "grid_gap": null,
            "grid_row": null,
            "grid_template_areas": null,
            "grid_template_columns": null,
            "grid_template_rows": null,
            "height": null,
            "justify_content": null,
            "justify_items": null,
            "left": null,
            "margin": null,
            "max_height": null,
            "max_width": null,
            "min_height": null,
            "min_width": null,
            "object_fit": null,
            "object_position": null,
            "order": null,
            "overflow": null,
            "overflow_x": null,
            "overflow_y": null,
            "padding": null,
            "right": null,
            "top": null,
            "visibility": null,
            "width": null
          }
        },
        "48b898e509944aa7827a1a122408e39b": {
          "model_module": "@jupyter-widgets/controls",
          "model_name": "DescriptionStyleModel",
          "model_module_version": "1.5.0",
          "state": {
            "_model_module": "@jupyter-widgets/controls",
            "_model_module_version": "1.5.0",
            "_model_name": "DescriptionStyleModel",
            "_view_count": null,
            "_view_module": "@jupyter-widgets/base",
            "_view_module_version": "1.2.0",
            "_view_name": "StyleView",
            "description_width": ""
          }
        }
      }
    }
  },
  "nbformat": 4,
  "nbformat_minor": 0
}